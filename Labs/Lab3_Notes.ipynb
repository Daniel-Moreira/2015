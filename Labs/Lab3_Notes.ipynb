








<!DOCTYPE html>
<html lang="en">

<head>
  <meta charset="utf-8">
  <title>Jupyter Notebook Viewer</title>
  <meta name="viewport" content="width=device-width, initial-scale=1.0">
  <meta name="description" content="">
  <meta name="author" content="">
  
  <meta name="robots" content="noindex,nofollow">
  

  <!--NEW RELIC Start Perf Measurement-->
  
  <!--NREND-->

  <!-- Le styles -->
  <link href="/static/build/styles.css?v=55ba354138253381d2c0ada9821cd4da" rel="stylesheet">

  <!-- Le HTML5 shim, for IE6-8 support of HTML5 elements -->
  <!--[if lt IE 9]>
    <script src="http://html5shim.googlecode.com/svn/trunk/html5.js"></script>
  <![endif]-->

  <!-- Le fav and touch icons -->
  <link rel="shortcut icon" href="/static/ico/ipynb_icon_16x16.png">
  <link rel="apple-touch-icon-precomposed" sizes="144x144"
        href="/static/ico/apple-touch-icon-144-precomposed.png?v=5a3c9ede93e2a8b8ea9e3f8f3da1a905">
  <link rel="apple-touch-icon-precomposed" sizes="114x114"
        href="/static/ico/apple-touch-icon-114-precomposed.png?v=45d86fc8f24dc00638035e1dd7a6d898">
  <link rel="apple-touch-icon-precomposed" sizes="72x72"
        href="/static/ico/apple-touch-icon-72-precomposed.png?v=540b5eb0f3cfd25f1439d1c9bd30e15f">
  <link rel="apple-touch-icon-precomposed"
        href="/static/ico/apple-touch-icon-57-precomposed.png?v=225f0590e187e1458625654f10a28f56">
  
  

  

  
  <meta name="twitter:card" content="summary">
  <meta name="twitter:title" content="Notebook on nbviewer">
  <meta name="twitter:description" content="Check out this Jupyter notebook!">

  
  <meta name="twitter:domain" content="nbviewer.jupyter.org">
  <meta name="twitter:image:src" content="http://ipython.org/ipython-doc/dev/_images/ipynb_icon_128x128.png">

  
    <link href="/static/build/notebook.css?v=aae8f92f7e80fc468ae446b9d852fe90" rel="stylesheet">
  

  

  
    <script src="https://cdnjs.cloudflare.com/ajax/libs/mathjax/2.7.1/MathJax.js?config=TeX-AMS_HTML" type="text/javascript">
    </script>
    <script type="text/javascript">
      init_mathjax = function() {
        if (window.MathJax) {
          // MathJax loaded
          MathJax.Hub.Config({
            TeX: {
              equationNumbers: {
                autoNumber: "AMS",
                useLabelIds: true
              }
            },
            tex2jax: {
              inlineMath: [ ['$','$'], ["\\(","\\)"] ],
              displayMath: [ ['$$','$$'], ["\\[","\\]"] ],
              processEscapes: true,
              processEnvironments: true
            },
            displayAlign: 'center',
            "HTML-CSS": {
              styles: {'.MathJax_Display': {"margin": 0}},
              linebreaks: { automatic: true }
            }
          });
          MathJax.Hub.Queue(["Typeset", MathJax.Hub]);
        }
      }
      init_mathjax();
    </script>
  

  
    <script>
      (function() {
        function addWidgetsRenderer() {
          var mimeElement = document.querySelector('script[type="application/vnd.jupyter.widget-view+json"]');
          var scriptElement = document.createElement('script');
          var widgetRendererSrc = 'https://unpkg.com/@jupyter-widgets/html-manager@0.15/dist/embed-amd.js';
          var widgetState;

          try {
            widgetState = mimeElement && JSON.parse(mimeElement.innerHTML);

            if (widgetState && (widgetState.version_major < 2 || !widgetState.version_major)) {
              widgetRendererSrc = 'https://unpkg.com/jupyter-js-widgets@2.1/dist/embed.js';
            }
          } catch(e) {}

          scriptElement.src = widgetRendererSrc;
          document.body.appendChild(scriptElement);
        }

        document.addEventListener('DOMContentLoaded', addWidgetsRenderer);
      }());
    </script>
  

</head>

<body class="nbviewer">

  <!-- These are loaded at the top of the body so they are available to
       notebook cells when they are loaded below. -->
  <script src="/static/components/jquery/dist/jquery.min.js?v=a09e13ee94d51c524b7e2a728c7d4039"></script>
  <script src="/static/components/requirejs/require.js?v=6da8be361b9ee26c5e721e76c6d4afce"></script>
  <script src="/static/components/moment/min/moment.min.js?v=89f87298ad94aa1e6b92f42eb66da043"></script>
<!-- Navbar
================================================== -->
  <nav id="menubar" class="navbar navbar-default navbar-fixed-top" data-spy="affix">
    <div class="container">
      <div class="navbar-header">
        <button type="button" class="navbar-toggle collapsed" data-toggle="collapse" data-target=".navbar-collapse">
          <span class="sr-only">Toggle navigation</span>
          <i class="fa fa-bars"></i>
        </button>
        <a class="navbar-brand" href="/">
          <img src="/static/img/nav_logo.svg?v=479cefe8d932fb14a67b93911b97d70f" width="159"/>
        </a>
      </div>

      <div class="collapse navbar-collapse">
        <ul class="nav navbar-nav navbar-right">
          <li>
            <a class="active" href="http://jupyter.org">JUPYTER</a>
          </li>
          <li>
    <a href="/faq" title="FAQ" >
      
        <span>FAQ</span>
      
    </a>
  </li>

          
  
    
  
    
      
        <li>
    <a href="/format/script/github/cs109/2014/blob/master/labs/Lab3_Notes.ipynb" title="View as Code" >
      <span class="fa fa-code fa-2x menu-icon"></span>
      <span class="menu-text">View as Code</span>
    </a>
  </li>
      
    
  

  

  
    <li>
    <a href="https://github.com/cs109/2014/blob/master/labs/Lab3_Notes.ipynb" title="View on GitHub" >
      <span class="fa fa-github fa-2x menu-icon"></span>
      <span class="menu-text">View on GitHub</span>
    </a>
  </li>
  

  
    <li>
    <a href="https://mybinder.org/v2/gh/cs109/2014/master?filepath=labs/Lab3_Notes.ipynb" title="Execute on Binder" >
      <span class="fa fa-icon-binder fa-2x menu-icon"></span>
      <span class="menu-text">Execute on Binder</span>
    </a>
  </li>
  

  <li>
    <a href="https://raw.githubusercontent.com/cs109/2014/master/labs/Lab3_Notes.ipynb" title="Download Notebook" download>
      <span class="fa fa-download fa-2x menu-icon"></span>
      <span class="menu-text">Download Notebook</span>
    </a>
  </li>

        </ul>
      </div><!-- /.navbar-collapse -->
      
      
    </div>
  </nav>

  <div class="container container-main">
    
  
  <ol class="breadcrumb">
    
      <li>
        <a href="/github/cs109/2014/tree/master">2014</a>
      </li>
    
      <li>
        <a href="/github/cs109/2014/tree/master/labs">labs</a>
      </li>
    
  </ol>
  
  <div id="notebook">
    <div id="notebook-container">
      
<div class="cell border-box-sizing code_cell rendered">
<div class="input">
<div class="prompt input_prompt">In&nbsp;[1]:</div>
<div class="inner_cell">
    <div class="input_area">
<div class=" highlight hl-ipython3"><pre><span></span><span class="c1"># special IPython command to prepare the notebook for matplotlib</span>
<span class="o">%</span><span class="k">matplotlib</span> inline 

<span class="kn">import</span> <span class="nn">pandas</span> <span class="k">as</span> <span class="nn">pd</span>
<span class="kn">import</span> <span class="nn">matplotlib.pyplot</span> <span class="k">as</span> <span class="nn">plt</span>

<span class="n">pd</span><span class="o">.</span><span class="n">options</span><span class="o">.</span><span class="n">display</span><span class="o">.</span><span class="n">mpl_style</span> <span class="o">=</span> <span class="s1">&#39;default&#39;</span>
</pre></div>

    </div>
</div>
</div>

</div>
<div class="cell border-box-sizing text_cell rendered"><div class="prompt input_prompt">
</div><div class="inner_cell">
<div class="text_cell_render border-box-sizing rendered_html">
<h2 id="Recall-from-from-lab-last-week-09/12/2014">Recall from from lab last week 09/12/2014<a class="anchor-link" href="#Recall-from-from-lab-last-week-09/12/2014">&#182;</a></h2><p>Previously discussed:</p>
<ul>
<li>Reading in a CSV file into a pandas DataFrame</li>
<li>Using histograms, scatterplots and boxplots as exploratory data analysis</li>
<li>Summary statistics</li>
<li>Functions to access a pandas DataFrame</li>
<li>Defining your own functions and using loops</li>
</ul>

</div>
</div>
</div>
<div class="cell border-box-sizing text_cell rendered"><div class="prompt input_prompt">
</div><div class="inner_cell">
<div class="text_cell_render border-box-sizing rendered_html">
<h2 id="Today,-we-will-discuss-the-following:">Today, we will discuss the following:<a class="anchor-link" href="#Today,-we-will-discuss-the-following:">&#182;</a></h2><ul>
<li>Brief introduction to Numpy, Scipy<ul>
<li>Vectorizing functions</li>
</ul>
</li>
<li>More pandas and matplotlib</li>
<li>Working in the command line</li>
<li>Overview of git and Github</li>
</ul>
<p><a href=https://raw.githubusercontent.com/cs109/2014/master/labs/Lab3_Notes.ipynb download=Lab3_Notes.ipynb> Download this notebook from Github </a></p>

</div>
</div>
</div>
<div class="cell border-box-sizing text_cell rendered"><div class="prompt input_prompt">
</div><div class="inner_cell">
<div class="text_cell_render border-box-sizing rendered_html">
<h2 id="Numpy">Numpy<a class="anchor-link" href="#Numpy">&#182;</a></h2><p>NumPy and SciPy are modules in Python for scientific computing.  <a href="http://www.numpy.org">NumPy</a> lets you do fast, vectorized operations on arrays.  Why use this module?</p>
<ul>
<li>It gives you the performance of using low-level code (e.g. C or Fortran) with the benefit of writing the code in an interpreted scripting language (all while keeping the native Python code). </li>
<li>It gives you a fast, memory-efficient multidimensional array called <code>ndarray</code> which allows you perform vectorized operations on (and supports mathematical functions such as linear algebra and random number generation)</li>
</ul>

</div>
</div>
</div>
<div class="cell border-box-sizing code_cell rendered">
<div class="input">
<div class="prompt input_prompt">In&nbsp;[2]:</div>
<div class="inner_cell">
    <div class="input_area">
<div class=" highlight hl-ipython3"><pre><span></span><span class="c1"># Import NumPy</span>
<span class="kn">import</span> <span class="nn">numpy</span> <span class="k">as</span> <span class="nn">np</span>
</pre></div>

    </div>
</div>
</div>

</div>
<div class="cell border-box-sizing text_cell rendered"><div class="prompt input_prompt">
</div><div class="inner_cell">
<div class="text_cell_render border-box-sizing rendered_html">
<p>To create a fast, multidimensional <code>ndarray</code> object, use the <code>np.array()</code> method on a python <code>list</code> or <code>tuple</code> or reading data from files.</p>

</div>
</div>
</div>
<div class="cell border-box-sizing code_cell rendered">
<div class="input">
<div class="prompt input_prompt">In&nbsp;[3]:</div>
<div class="inner_cell">
    <div class="input_area">
<div class=" highlight hl-ipython3"><pre><span></span><span class="n">x</span> <span class="o">=</span> <span class="n">np</span><span class="o">.</span><span class="n">array</span><span class="p">([</span><span class="mi">1</span><span class="p">,</span><span class="mi">2</span><span class="p">,</span><span class="mi">3</span><span class="p">,</span><span class="mi">4</span><span class="p">])</span>
<span class="n">y</span> <span class="o">=</span> <span class="n">np</span><span class="o">.</span><span class="n">array</span><span class="p">([[</span><span class="mi">1</span><span class="p">,</span><span class="mi">2</span><span class="p">],</span> <span class="p">[</span><span class="mi">3</span><span class="p">,</span><span class="mi">4</span><span class="p">]])</span>
<span class="n">x</span>
</pre></div>

    </div>
</div>
</div>

<div class="output_wrapper">
<div class="output">


<div class="output_area">

    <div class="prompt output_prompt">Out[3]:</div>




<div class="output_text output_subarea output_execute_result">
<pre>array([1, 2, 3, 4])</pre>
</div>

</div>

</div>
</div>

</div>
<div class="cell border-box-sizing code_cell rendered">
<div class="input">
<div class="prompt input_prompt">In&nbsp;[4]:</div>
<div class="inner_cell">
    <div class="input_area">
<div class=" highlight hl-ipython3"><pre><span></span><span class="n">y</span>
</pre></div>

    </div>
</div>
</div>

<div class="output_wrapper">
<div class="output">


<div class="output_area">

    <div class="prompt output_prompt">Out[4]:</div>




<div class="output_text output_subarea output_execute_result">
<pre>array([[1, 2],
       [3, 4]])</pre>
</div>

</div>

</div>
</div>

</div>
<div class="cell border-box-sizing code_cell rendered">
<div class="input">
<div class="prompt input_prompt">In&nbsp;[5]:</div>
<div class="inner_cell">
    <div class="input_area">
<div class=" highlight hl-ipython3"><pre><span></span><span class="nb">type</span><span class="p">(</span><span class="n">x</span><span class="p">)</span>
</pre></div>

    </div>
</div>
</div>

<div class="output_wrapper">
<div class="output">


<div class="output_area">

    <div class="prompt output_prompt">Out[5]:</div>




<div class="output_text output_subarea output_execute_result">
<pre>numpy.ndarray</pre>
</div>

</div>

</div>
</div>

</div>
<div class="cell border-box-sizing text_cell rendered"><div class="prompt input_prompt">
</div><div class="inner_cell">
<div class="text_cell_render border-box-sizing rendered_html">
<h4 id="Properties-of-NumPy-arrays">Properties of NumPy arrays<a class="anchor-link" href="#Properties-of-NumPy-arrays">&#182;</a></h4><p>There are a set of properties about the <code>ndarray</code> object such the dimensions, the size, etc.</p>
<table>
<thead><tr>
<th>Property</th>
<th>Description</th>
</tr>
</thead>
<tbody>
<tr>
<td><code>y.shape</code> (or <code>shape(y)</code></td>
<td>Shape or dimension of the array</td>
</tr>
<tr>
<td><code>y.size</code> (or <code>size(y)</code>)</td>
<td>Number of elements in the array </td>
</tr>
<tr>
<td><code>y.ndim</code></td>
<td>number of dimensions </td>
</tr>
</tbody>
</table>

</div>
</div>
</div>
<div class="cell border-box-sizing code_cell rendered">
<div class="input">
<div class="prompt input_prompt">In&nbsp;[6]:</div>
<div class="inner_cell">
    <div class="input_area">
<div class=" highlight hl-ipython3"><pre><span></span><span class="n">x</span><span class="o">.</span><span class="n">shape</span>
</pre></div>

    </div>
</div>
</div>

<div class="output_wrapper">
<div class="output">


<div class="output_area">

    <div class="prompt output_prompt">Out[6]:</div>




<div class="output_text output_subarea output_execute_result">
<pre>(4,)</pre>
</div>

</div>

</div>
</div>

</div>
<div class="cell border-box-sizing code_cell rendered">
<div class="input">
<div class="prompt input_prompt">In&nbsp;[7]:</div>
<div class="inner_cell">
    <div class="input_area">
<div class=" highlight hl-ipython3"><pre><span></span><span class="n">y</span><span class="o">.</span><span class="n">shape</span>
</pre></div>

    </div>
</div>
</div>

<div class="output_wrapper">
<div class="output">


<div class="output_area">

    <div class="prompt output_prompt">Out[7]:</div>




<div class="output_text output_subarea output_execute_result">
<pre>(2, 2)</pre>
</div>

</div>

</div>
</div>

</div>
<div class="cell border-box-sizing text_cell rendered"><div class="prompt input_prompt">
</div><div class="inner_cell">
<div class="text_cell_render border-box-sizing rendered_html">
<h4 id="Other-ways-to-generate-NumPy-arrays">Other ways to generate NumPy arrays<a class="anchor-link" href="#Other-ways-to-generate-NumPy-arrays">&#182;</a></h4><table>
<thead><tr>
<th>Function</th>
<th>Description</th>
</tr>
</thead>
<tbody>
<tr>
<td><code>np.arange(start,stop,step)</code></td>
<td>Create a range between the start and stop arguments</td>
</tr>
<tr>
<td><code>np.linspace(start,stop,num)</code></td>
<td>Create a range between start and stop (both ends included) of length num</td>
</tr>
<tr>
<td><code>np.logspace(start, stop,num,base)</code></td>
<td>Create a range in the log space with a define base of length num</td>
</tr>
<tr>
<td><code>np.eye(n)</code></td>
<td>Generate an n x n identity matrix</td>
</tr>
</tbody>
</table>

</div>
</div>
</div>
<div class="cell border-box-sizing code_cell rendered">
<div class="input">
<div class="prompt input_prompt">In&nbsp;[8]:</div>
<div class="inner_cell">
    <div class="input_area">
<div class=" highlight hl-ipython3"><pre><span></span><span class="n">np</span><span class="o">.</span><span class="n">arange</span><span class="p">(</span><span class="mi">0</span><span class="p">,</span> <span class="mi">21</span><span class="p">,</span> <span class="mi">2</span><span class="p">)</span>
</pre></div>

    </div>
</div>
</div>

<div class="output_wrapper">
<div class="output">


<div class="output_area">

    <div class="prompt output_prompt">Out[8]:</div>




<div class="output_text output_subarea output_execute_result">
<pre>array([ 0,  2,  4,  6,  8, 10, 12, 14, 16, 18, 20])</pre>
</div>

</div>

</div>
</div>

</div>
<div class="cell border-box-sizing code_cell rendered">
<div class="input">
<div class="prompt input_prompt">In&nbsp;[9]:</div>
<div class="inner_cell">
    <div class="input_area">
<div class=" highlight hl-ipython3"><pre><span></span><span class="c1"># Try it: Create a numpy array from 0 to 20 in steps of size 2</span>
</pre></div>

    </div>
</div>
</div>

</div>
<div class="cell border-box-sizing code_cell rendered">
<div class="input">
<div class="prompt input_prompt">In&nbsp;[10]:</div>
<div class="inner_cell">
    <div class="input_area">
<div class=" highlight hl-ipython3"><pre><span></span><span class="c1"># Try it: Create a numpy array from -10 to 10 in steps of 0.5 (INCLUDING the number 10)</span>
</pre></div>

    </div>
</div>
</div>

</div>
<div class="cell border-box-sizing code_cell rendered">
<div class="input">
<div class="prompt input_prompt">In&nbsp;[11]:</div>
<div class="inner_cell">
    <div class="input_area">
<div class=" highlight hl-ipython3"><pre><span></span><span class="c1"># Try it: Create a numpy array from 100 to 1000 of length 10</span>
</pre></div>

    </div>
</div>
</div>

</div>
<div class="cell border-box-sizing text_cell rendered"><div class="prompt input_prompt">
</div><div class="inner_cell">
<div class="text_cell_render border-box-sizing rendered_html">
<p>In addition, the <code>numpy.random</code> module can be used to create arrays using a random number generation</p>

</div>
</div>
</div>
<div class="cell border-box-sizing code_cell rendered">
<div class="input">
<div class="prompt input_prompt">In&nbsp;[12]:</div>
<div class="inner_cell">
    <div class="input_area">
<div class=" highlight hl-ipython3"><pre><span></span><span class="kn">from</span> <span class="nn">numpy</span> <span class="k">import</span> <span class="n">random</span>
</pre></div>

    </div>
</div>
</div>

</div>
<div class="cell border-box-sizing text_cell rendered"><div class="prompt input_prompt">
</div><div class="inner_cell">
<div class="text_cell_render border-box-sizing rendered_html">
<table>
<thead><tr>
<th>Function</th>
<th>Description</th>
</tr>
</thead>
<tbody>
<tr>
<td><code>np.random.randint(a, b, N)</code></td>
<td>Generate N random integers between a and b</td>
</tr>
<tr>
<td><code>np.random.rand(n, m)</code></td>
<td>Generate uniform random numbers in [0,1] of dim n x m</td>
</tr>
<tr>
<td><code>np.random.randn(n, m)</code></td>
<td>Generate standard normal random numbers of dim n x m</td>
</tr>
</tbody>
</table>

</div>
</div>
</div>
<div class="cell border-box-sizing code_cell rendered">
<div class="input">
<div class="prompt input_prompt">In&nbsp;[13]:</div>
<div class="inner_cell">
    <div class="input_area">
<div class=" highlight hl-ipython3"><pre><span></span><span class="n">np</span><span class="o">.</span><span class="n">random</span><span class="o">.</span><span class="n">randint</span><span class="p">(</span><span class="mi">1</span><span class="p">,</span> <span class="mi">100</span><span class="p">,</span> <span class="mi">50</span><span class="p">)</span>
</pre></div>

    </div>
</div>
</div>

<div class="output_wrapper">
<div class="output">


<div class="output_area">

    <div class="prompt output_prompt">Out[13]:</div>




<div class="output_text output_subarea output_execute_result">
<pre>array([87, 29, 97, 35, 66, 84, 50, 93,  1, 10, 83, 56, 20, 49, 41, 58, 43,
       60, 46, 98, 47, 91, 73, 73, 90, 26, 18,  3, 62, 65, 27, 58, 19, 49,
       13,  5, 14, 16, 48, 38, 90, 19, 85, 61, 36, 38, 64,  6,  9, 97])</pre>
</div>

</div>

</div>
</div>

</div>
<div class="cell border-box-sizing code_cell rendered">
<div class="input">
<div class="prompt input_prompt">In&nbsp;[14]:</div>
<div class="inner_cell">
    <div class="input_area">
<div class=" highlight hl-ipython3"><pre><span></span><span class="c1"># Try it: Create a numpy array filled with random samples </span>
<span class="c1"># from a normal distribution of size 4 x 4</span>
</pre></div>

    </div>
</div>
</div>

</div>
<div class="cell border-box-sizing text_cell rendered"><div class="prompt input_prompt">
</div><div class="inner_cell">
<div class="text_cell_render border-box-sizing rendered_html">
<h4 id="Reshaping,-resizing-and-stacking-NumPy-arrays">Reshaping, resizing and stacking NumPy arrays<a class="anchor-link" href="#Reshaping,-resizing-and-stacking-NumPy-arrays">&#182;</a></h4><p>To reshape an array, use <code>reshape()</code>:</p>

</div>
</div>
</div>
<div class="cell border-box-sizing code_cell rendered">
<div class="input">
<div class="prompt input_prompt">In&nbsp;[15]:</div>
<div class="inner_cell">
    <div class="input_area">
<div class=" highlight hl-ipython3"><pre><span></span><span class="n">z</span> <span class="o">=</span> <span class="n">np</span><span class="o">.</span><span class="n">random</span><span class="o">.</span><span class="n">rand</span><span class="p">(</span><span class="mi">4</span><span class="p">,</span><span class="mi">4</span><span class="p">)</span>
<span class="n">z</span> 
</pre></div>

    </div>
</div>
</div>

<div class="output_wrapper">
<div class="output">


<div class="output_area">

    <div class="prompt output_prompt">Out[15]:</div>




<div class="output_text output_subarea output_execute_result">
<pre>array([[ 0.34961451,  0.75618943,  0.85774252,  0.29423465],
       [ 0.72196235,  0.02541357,  0.7708488 ,  0.07240782],
       [ 0.54376752,  0.41193452,  0.40132359,  0.63399867],
       [ 0.12622657,  0.34662246,  0.27813886,  0.95162428]])</pre>
</div>

</div>

</div>
</div>

</div>
<div class="cell border-box-sizing code_cell rendered">
<div class="input">
<div class="prompt input_prompt">In&nbsp;[16]:</div>
<div class="inner_cell">
    <div class="input_area">
<div class=" highlight hl-ipython3"><pre><span></span><span class="n">z</span><span class="o">.</span><span class="n">shape</span>
</pre></div>

    </div>
</div>
</div>

<div class="output_wrapper">
<div class="output">


<div class="output_area">

    <div class="prompt output_prompt">Out[16]:</div>




<div class="output_text output_subarea output_execute_result">
<pre>(4, 4)</pre>
</div>

</div>

</div>
</div>

</div>
<div class="cell border-box-sizing code_cell rendered">
<div class="input">
<div class="prompt input_prompt">In&nbsp;[17]:</div>
<div class="inner_cell">
    <div class="input_area">
<div class=" highlight hl-ipython3"><pre><span></span><span class="n">z</span><span class="o">.</span><span class="n">reshape</span><span class="p">((</span><span class="mi">8</span><span class="p">,</span><span class="mi">2</span><span class="p">))</span> <span class="c1"># dim is now 8 x 2</span>
</pre></div>

    </div>
</div>
</div>

<div class="output_wrapper">
<div class="output">


<div class="output_area">

    <div class="prompt output_prompt">Out[17]:</div>




<div class="output_text output_subarea output_execute_result">
<pre>array([[ 0.34961451,  0.75618943],
       [ 0.85774252,  0.29423465],
       [ 0.72196235,  0.02541357],
       [ 0.7708488 ,  0.07240782],
       [ 0.54376752,  0.41193452],
       [ 0.40132359,  0.63399867],
       [ 0.12622657,  0.34662246],
       [ 0.27813886,  0.95162428]])</pre>
</div>

</div>

</div>
</div>

</div>
<div class="cell border-box-sizing text_cell rendered"><div class="prompt input_prompt">
</div><div class="inner_cell">
<div class="text_cell_render border-box-sizing rendered_html">
<p>To flatten an array (convert a higher dimensional array into a vector), use <code>flatten()</code></p>

</div>
</div>
</div>
<div class="cell border-box-sizing code_cell rendered">
<div class="input">
<div class="prompt input_prompt">In&nbsp;[18]:</div>
<div class="inner_cell">
    <div class="input_area">
<div class=" highlight hl-ipython3"><pre><span></span><span class="n">z</span><span class="o">.</span><span class="n">flatten</span><span class="p">()</span>
</pre></div>

    </div>
</div>
</div>

<div class="output_wrapper">
<div class="output">


<div class="output_area">

    <div class="prompt output_prompt">Out[18]:</div>




<div class="output_text output_subarea output_execute_result">
<pre>array([ 0.34961451,  0.75618943,  0.85774252,  0.29423465,  0.72196235,
        0.02541357,  0.7708488 ,  0.07240782,  0.54376752,  0.41193452,
        0.40132359,  0.63399867,  0.12622657,  0.34662246,  0.27813886,
        0.95162428])</pre>
</div>

</div>

</div>
</div>

</div>
<div class="cell border-box-sizing text_cell rendered"><div class="prompt input_prompt">
</div><div class="inner_cell">
<div class="text_cell_render border-box-sizing rendered_html">
<h2 id="Operating-on-NumPy-arrays">Operating on NumPy arrays<a class="anchor-link" href="#Operating-on-NumPy-arrays">&#182;</a></h2><h4 id="Assigning-values">Assigning values<a class="anchor-link" href="#Assigning-values">&#182;</a></h4><p>To assign values to a specific element in a <code>ndarray</code>, use the assignment operator.</p>

</div>
</div>
</div>
<div class="cell border-box-sizing code_cell rendered">
<div class="input">
<div class="prompt input_prompt">In&nbsp;[19]:</div>
<div class="inner_cell">
    <div class="input_area">
<div class=" highlight hl-ipython3"><pre><span></span><span class="n">y</span> <span class="o">=</span> <span class="n">np</span><span class="o">.</span><span class="n">array</span><span class="p">([[</span><span class="mi">1</span><span class="p">,</span><span class="mi">2</span><span class="p">],</span> <span class="p">[</span><span class="mi">3</span><span class="p">,</span><span class="mi">4</span><span class="p">]])</span>
<span class="n">y</span><span class="o">.</span><span class="n">shape</span>
</pre></div>

    </div>
</div>
</div>

<div class="output_wrapper">
<div class="output">


<div class="output_area">

    <div class="prompt output_prompt">Out[19]:</div>




<div class="output_text output_subarea output_execute_result">
<pre>(2, 2)</pre>
</div>

</div>

</div>
</div>

</div>
<div class="cell border-box-sizing code_cell rendered">
<div class="input">
<div class="prompt input_prompt">In&nbsp;[20]:</div>
<div class="inner_cell">
    <div class="input_area">
<div class=" highlight hl-ipython3"><pre><span></span><span class="n">y</span><span class="p">[</span><span class="mi">0</span><span class="p">,</span><span class="mi">0</span><span class="p">]</span> <span class="o">=</span> <span class="mi">10</span>
<span class="n">y</span> 
</pre></div>

    </div>
</div>
</div>

<div class="output_wrapper">
<div class="output">


<div class="output_area">

    <div class="prompt output_prompt">Out[20]:</div>




<div class="output_text output_subarea output_execute_result">
<pre>array([[10,  2],
       [ 3,  4]])</pre>
</div>

</div>

</div>
</div>

</div>
<div class="cell border-box-sizing text_cell rendered"><div class="prompt input_prompt">
</div><div class="inner_cell">
<div class="text_cell_render border-box-sizing rendered_html">
<h4 id="Indexing-and-slicing-arrays">Indexing and slicing arrays<a class="anchor-link" href="#Indexing-and-slicing-arrays">&#182;</a></h4><p>To extract elements of the NumPy arrays, use the bracket operator and the slice (i.e. colon) operator.  To slice specific elements in the array, use <code>dat[lower:upper:step]</code>. To extract the diagonal (and subdiagonal) elements, use <code>diag()</code>.</p>

</div>
</div>
</div>
<div class="cell border-box-sizing code_cell rendered">
<div class="input">
<div class="prompt input_prompt">In&nbsp;[21]:</div>
<div class="inner_cell">
    <div class="input_area">
<div class=" highlight hl-ipython3"><pre><span></span> <span class="c1"># random samples from a uniform distribution between 0 and 1</span>
<span class="n">dat</span> <span class="o">=</span> <span class="n">np</span><span class="o">.</span><span class="n">random</span><span class="o">.</span><span class="n">rand</span><span class="p">(</span><span class="mi">4</span><span class="p">,</span><span class="mi">4</span><span class="p">)</span>
<span class="n">dat</span>
</pre></div>

    </div>
</div>
</div>

<div class="output_wrapper">
<div class="output">


<div class="output_area">

    <div class="prompt output_prompt">Out[21]:</div>




<div class="output_text output_subarea output_execute_result">
<pre>array([[ 0.60679169,  0.36100824,  0.18275644,  0.56561955],
       [ 0.36584042,  0.12087577,  0.14576369,  0.21879333],
       [ 0.27301492,  0.64171746,  0.62002836,  0.83744579],
       [ 0.30159074,  0.71813527,  0.94443425,  0.19098029]])</pre>
</div>

</div>

</div>
</div>

</div>
<div class="cell border-box-sizing code_cell rendered">
<div class="input">
<div class="prompt input_prompt">In&nbsp;[22]:</div>
<div class="inner_cell">
    <div class="input_area">
<div class=" highlight hl-ipython3"><pre><span></span><span class="n">dat</span><span class="p">[</span><span class="mi">0</span><span class="p">,</span> <span class="p">:]</span> <span class="c1"># row 1</span>
</pre></div>

    </div>
</div>
</div>

<div class="output_wrapper">
<div class="output">


<div class="output_area">

    <div class="prompt output_prompt">Out[22]:</div>




<div class="output_text output_subarea output_execute_result">
<pre>array([ 0.60679169,  0.36100824,  0.18275644,  0.56561955])</pre>
</div>

</div>

</div>
</div>

</div>
<div class="cell border-box-sizing code_cell rendered">
<div class="input">
<div class="prompt input_prompt">In&nbsp;[23]:</div>
<div class="inner_cell">
    <div class="input_area">
<div class=" highlight hl-ipython3"><pre><span></span><span class="n">dat</span><span class="p">[:,</span> <span class="mi">0</span><span class="p">]</span> <span class="c1"># column 1</span>
</pre></div>

    </div>
</div>
</div>

<div class="output_wrapper">
<div class="output">


<div class="output_area">

    <div class="prompt output_prompt">Out[23]:</div>




<div class="output_text output_subarea output_execute_result">
<pre>array([ 0.60679169,  0.36584042,  0.27301492,  0.30159074])</pre>
</div>

</div>

</div>
</div>

</div>
<div class="cell border-box-sizing code_cell rendered">
<div class="input">
<div class="prompt input_prompt">In&nbsp;[24]:</div>
<div class="inner_cell">
    <div class="input_area">
<div class=" highlight hl-ipython3"><pre><span></span><span class="n">dat</span><span class="p">[</span><span class="mi">0</span><span class="p">:</span><span class="mi">3</span><span class="p">:</span><span class="mi">2</span><span class="p">,</span> <span class="mi">0</span><span class="p">]</span> <span class="c1"># first and third elements in column 1</span>
</pre></div>

    </div>
</div>
</div>

<div class="output_wrapper">
<div class="output">


<div class="output_area">

    <div class="prompt output_prompt">Out[24]:</div>




<div class="output_text output_subarea output_execute_result">
<pre>array([ 0.60679169,  0.27301492])</pre>
</div>

</div>

</div>
</div>

</div>
<div class="cell border-box-sizing code_cell rendered">
<div class="input">
<div class="prompt input_prompt">In&nbsp;[25]:</div>
<div class="inner_cell">
    <div class="input_area">
<div class=" highlight hl-ipython3"><pre><span></span><span class="n">np</span><span class="o">.</span><span class="n">diag</span><span class="p">(</span><span class="n">dat</span><span class="p">)</span> <span class="c1"># diagonal</span>
</pre></div>

    </div>
</div>
</div>

<div class="output_wrapper">
<div class="output">


<div class="output_area">

    <div class="prompt output_prompt">Out[25]:</div>




<div class="output_text output_subarea output_execute_result">
<pre>array([ 0.60679169,  0.12087577,  0.62002836,  0.19098029])</pre>
</div>

</div>

</div>
</div>

</div>
<div class="cell border-box-sizing code_cell rendered">
<div class="input">
<div class="prompt input_prompt">In&nbsp;[26]:</div>
<div class="inner_cell">
    <div class="input_area">
<div class=" highlight hl-ipython3"><pre><span></span><span class="n">np</span><span class="o">.</span><span class="n">arange</span><span class="p">(</span><span class="mi">32</span><span class="p">)</span><span class="o">.</span><span class="n">reshape</span><span class="p">((</span><span class="mi">8</span><span class="p">,</span> <span class="mi">4</span><span class="p">))</span> <span class="c1"># returns an 8 x 4 array</span>
</pre></div>

    </div>
</div>
</div>

<div class="output_wrapper">
<div class="output">


<div class="output_area">

    <div class="prompt output_prompt">Out[26]:</div>




<div class="output_text output_subarea output_execute_result">
<pre>array([[ 0,  1,  2,  3],
       [ 4,  5,  6,  7],
       [ 8,  9, 10, 11],
       [12, 13, 14, 15],
       [16, 17, 18, 19],
       [20, 21, 22, 23],
       [24, 25, 26, 27],
       [28, 29, 30, 31]])</pre>
</div>

</div>

</div>
</div>

</div>
<div class="cell border-box-sizing code_cell rendered">
<div class="input">
<div class="prompt input_prompt">In&nbsp;[27]:</div>
<div class="inner_cell">
    <div class="input_area">
<div class=" highlight hl-ipython3"><pre><span></span><span class="n">x</span><span class="p">[</span><span class="mi">0</span><span class="p">]</span> <span class="c1"># returns the first row</span>
</pre></div>

    </div>
</div>
</div>

<div class="output_wrapper">
<div class="output">


<div class="output_area">

    <div class="prompt output_prompt">Out[27]:</div>




<div class="output_text output_subarea output_execute_result">
<pre>1</pre>
</div>

</div>

</div>
</div>

</div>
<div class="cell border-box-sizing text_cell rendered"><div class="prompt input_prompt">
</div><div class="inner_cell">
<div class="text_cell_render border-box-sizing rendered_html">
<h4 id="Element-wise-transformations-on-arrays">Element-wise transformations on arrays<a class="anchor-link" href="#Element-wise-transformations-on-arrays">&#182;</a></h4><p>There are many vectorized wrappers that take in one scalar and produce one ore more scalars (e.g. <code>np.exp()</code>, <code>np.sqrt()</code>). This element-wise array methods are also known as NumPy <code>ufuncs</code>.</p>
<table>
<thead><tr>
<th>Function</th>
<th>Description </th>
</tr>
</thead>
<tbody>
<tr>
<td><code>np.abs(x)</code></td>
<td>absolute value of each element</td>
</tr>
<tr>
<td><code>np.sqrt(x)</code></td>
<td>square root of each element</td>
</tr>
<tr>
<td><code>np.square(x)</code></td>
<td>square of each element</td>
</tr>
<tr>
<td><code>np.exp(x)</code></td>
<td>exponential of each element</td>
</tr>
<tr>
<td><code>np.maximum(x, y)</code></td>
<td>element-wise maximum from two arrays x and y</td>
</tr>
<tr>
<td><code>np.minimum(x,y)</code></td>
<td>element-wise minimum</td>
</tr>
<tr>
<td><code>np.sign(x)</code></td>
<td>compute the sign of each element: 1 (pos), 0 (zero), -1 (neg)</td>
</tr>
<tr>
<td><code>np.subtract(x, y)</code></td>
<td>subtract elements in y from elements in x</td>
</tr>
<tr>
<td><code>np.power(x, y)</code></td>
<td>raise elements in first array x to powers in second array y</td>
</tr>
<tr>
<td><code>np.where(cond, x, y)</code></td>
<td>ifelse statement</td>
</tr>
</tbody>
</table>

</div>
</div>
</div>
<div class="cell border-box-sizing text_cell rendered"><div class="prompt input_prompt">
</div><div class="inner_cell">
<div class="text_cell_render border-box-sizing rendered_html">
<h2 id="Vectorizing-functions">Vectorizing functions<a class="anchor-link" href="#Vectorizing-functions">&#182;</a></h2><p>It is important to state again that you should avoid looping through elements in vectors if at all possible.  One way to get around that when writing functions is to use what are called <strong>vectorized functions</strong>.  Say you wrote a function <code>f</code> which accepts some input <code>x</code> and checks if <code>x</code> is bigger or smaller than 0.</p>

</div>
</div>
</div>
<div class="cell border-box-sizing code_cell rendered">
<div class="input">
<div class="prompt input_prompt">In&nbsp;[28]:</div>
<div class="inner_cell">
    <div class="input_area">
<div class=" highlight hl-ipython3"><pre><span></span><span class="k">def</span> <span class="nf">f</span><span class="p">(</span><span class="n">x</span><span class="p">):</span>
    <span class="k">if</span> <span class="n">x</span> <span class="o">&gt;=</span><span class="mi">0</span><span class="p">:</span>
        <span class="k">return</span> <span class="kc">True</span>
    <span class="k">else</span><span class="p">:</span>
        <span class="k">return</span> <span class="kc">False</span>

<span class="nb">print</span> <span class="n">f</span><span class="p">(</span><span class="mi">3</span><span class="p">)</span>
</pre></div>

    </div>
</div>
</div>

<div class="output_wrapper">
<div class="output">


<div class="output_area">

    <div class="prompt"></div>


<div class="output_subarea output_stream output_stdout output_text">
<pre>True
</pre>
</div>
</div>

</div>
</div>

</div>
<div class="cell border-box-sizing text_cell rendered"><div class="prompt input_prompt">
</div><div class="inner_cell">
<div class="text_cell_render border-box-sizing rendered_html">
<p>If we give the function an array instead of just one value (e.g. 3), then Python will give an error because there is more than one element in <code>x</code>.  The way to get around this is to <strong>vectorize</strong> the function.</p>

</div>
</div>
</div>
<div class="cell border-box-sizing code_cell rendered">
<div class="input">
<div class="prompt input_prompt">In&nbsp;[29]:</div>
<div class="inner_cell">
    <div class="input_area">
<div class=" highlight hl-ipython3"><pre><span></span><span class="n">f_vec</span> <span class="o">=</span> <span class="n">np</span><span class="o">.</span><span class="n">vectorize</span><span class="p">(</span><span class="n">f</span><span class="p">)</span>
<span class="n">z</span> <span class="o">=</span> <span class="n">np</span><span class="o">.</span><span class="n">arange</span><span class="p">(</span><span class="o">-</span><span class="mi">5</span><span class="p">,</span> <span class="mi">6</span><span class="p">)</span>
<span class="n">z</span> 
</pre></div>

    </div>
</div>
</div>

<div class="output_wrapper">
<div class="output">


<div class="output_area">

    <div class="prompt output_prompt">Out[29]:</div>




<div class="output_text output_subarea output_execute_result">
<pre>array([-5, -4, -3, -2, -1,  0,  1,  2,  3,  4,  5])</pre>
</div>

</div>

</div>
</div>

</div>
<div class="cell border-box-sizing code_cell rendered">
<div class="input">
<div class="prompt input_prompt">In&nbsp;[30]:</div>
<div class="inner_cell">
    <div class="input_area">
<div class=" highlight hl-ipython3"><pre><span></span><span class="n">f_vec</span><span class="p">(</span><span class="n">z</span><span class="p">)</span>
</pre></div>

    </div>
</div>
</div>

<div class="output_wrapper">
<div class="output">


<div class="output_area">

    <div class="prompt output_prompt">Out[30]:</div>




<div class="output_text output_subarea output_execute_result">
<pre>array([False, False, False, False, False,  True,  True,  True,  True,
        True,  True], dtype=bool)</pre>
</div>

</div>

</div>
</div>

</div>
<div class="cell border-box-sizing text_cell rendered"><div class="prompt input_prompt">
</div><div class="inner_cell">
<div class="text_cell_render border-box-sizing rendered_html">
<p>Instead of vectorizing the function, you can also make the function itself aware that it will be accepting vectors from the beginning.</p>

</div>
</div>
</div>
<div class="cell border-box-sizing code_cell rendered">
<div class="input">
<div class="prompt input_prompt">In&nbsp;[31]:</div>
<div class="inner_cell">
    <div class="input_area">
<div class=" highlight hl-ipython3"><pre><span></span><span class="k">def</span> <span class="nf">f</span><span class="p">(</span><span class="n">x</span><span class="p">):</span>
    <span class="k">return</span> <span class="p">(</span><span class="n">x</span> <span class="o">&gt;=</span><span class="mi">0</span><span class="p">)</span>

<span class="nb">print</span> <span class="n">f</span><span class="p">(</span><span class="mi">3</span><span class="p">)</span>
</pre></div>

    </div>
</div>
</div>

<div class="output_wrapper">
<div class="output">


<div class="output_area">

    <div class="prompt"></div>


<div class="output_subarea output_stream output_stdout output_text">
<pre>True
</pre>
</div>
</div>

</div>
</div>

</div>
<div class="cell border-box-sizing text_cell rendered"><div class="prompt input_prompt">
</div><div class="inner_cell">
<div class="text_cell_render border-box-sizing rendered_html">
<h1 id="Scipy">Scipy<a class="anchor-link" href="#Scipy">&#182;</a></h1>
</div>
</div>
</div>
<div class="cell border-box-sizing text_cell rendered"><div class="prompt input_prompt">
</div><div class="inner_cell">
<div class="text_cell_render border-box-sizing rendered_html">
<p>Now that you know a little bit about <a href="numpy.html">NumPy</a> and SciPy is a collection of mathematical and scientific modules built on top of NumPy.  For example, SciPy can handle multidimensional arrays, integration, linear algebra, statistics and optimization.</p>

</div>
</div>
</div>
<div class="cell border-box-sizing code_cell rendered">
<div class="input">
<div class="prompt input_prompt">In&nbsp;[32]:</div>
<div class="inner_cell">
    <div class="input_area">
<div class=" highlight hl-ipython3"><pre><span></span><span class="c1"># Import SciPy</span>
<span class="kn">import</span> <span class="nn">scipy</span>
</pre></div>

    </div>
</div>
</div>

</div>
<div class="cell border-box-sizing text_cell rendered"><div class="prompt input_prompt">
</div><div class="inner_cell">
<div class="text_cell_render border-box-sizing rendered_html">
<p>SciPy includes most of NumPy, so importing SciPy should be generally OK. The main SciPy module is made up of many <a href="http://docs.scipy.org/doc/scipy/reference/">submodules containing specialized topics</a>.</p>
<table>
<thead><tr>
<th>Favorite SciPy submodules</th>
<th>What does it contain? </th>
</tr>
</thead>
<tbody>
<tr>
<td><code>scipy.stats</code></td>
<td><a href="http://docs.scipy.org/doc/scipy/reference/tutorial/stats.html">statistics</a>: random variables, probability density functions, cumulative distribution functions, survival functions</td>
</tr>
<tr>
<td><code>scipy.integrate</code></td>
<td><a href="http://docs.scipy.org/doc/scipy/reference/tutorial/integrate.html">integration</a>: single, double, triple integration, trapezoidal rule, Simpson's rule, differential equation solvers</td>
</tr>
<tr>
<td><code>scipy.signal</code></td>
<td><a href="http://docs.scipy.org/doc/scipy/reference/signal.html">signal processing tools</a>: signal processing tools such as wavelets, spectral densities, filters, B-splines</td>
</tr>
<tr>
<td><code>scipy.optimize</code></td>
<td><a href="http://docs.scipy.org/doc/scipy/reference/optimize.html">optimization</a>: find roots, curve fitting, least squares, etc </td>
</tr>
<tr>
<td><code>scipy.special</code></td>
<td><a href="http://docs.scipy.org/doc/scipy/reference/tutorial/special.html">special functions</a>: very specialized functions in mathematical physics e.g. bessel, gamma</td>
</tr>
<tr>
<td><code>scipy.linalg</code></td>
<td><a href="http://docs.scipy.org/doc/scipy/reference/linalg.html">linear algebra</a>: inverse of a matrix, determinant, Kronecker product, eigenvalue decomposition, SVD, functions for matrices (beyond those in <code>numpy.linalg</code>)</td>
</tr>
</tbody>
</table>
<p>If you want to import a SciPy submodule (e.g. the statistics submodule <code>scipy.stats</code>), use</p>

</div>
</div>
</div>
<div class="cell border-box-sizing code_cell rendered">
<div class="input">
<div class="prompt input_prompt">In&nbsp;[33]:</div>
<div class="inner_cell">
    <div class="input_area">
<div class=" highlight hl-ipython3"><pre><span></span><span class="kn">from</span> <span class="nn">scipy</span> <span class="k">import</span> <span class="n">stats</span>
</pre></div>

    </div>
</div>
</div>

</div>
<div class="cell border-box-sizing text_cell rendered"><div class="prompt input_prompt">
</div><div class="inner_cell">
<div class="text_cell_render border-box-sizing rendered_html">
<h4 id="scipy.stats">scipy.stats<a class="anchor-link" href="#scipy.stats">&#182;</a></h4><p>Let's dive a bit deeper in <code>scipy.stats</code>. The real utility of this submodule is to access probability distributions functions (pdfs) and standard statistical tests (e.g. $t$-test).</p>
<h4 id="Probability-distribution-functions">Probability distribution functions<a class="anchor-link" href="#Probability-distribution-functions">&#182;</a></h4><p>There is a large collection of <a href="http://docs.scipy.org/doc/scipy/reference/stats.html">continuous and discrete pdfs</a> in the <code>scipy.stats</code> submodule.  The syntax to simulate random variables from a specific pdf is the name of the distribution  followed by <code>.rvs</code>. To generate $n$=10 $N(0,1)$ random variables,</p>

</div>
</div>
</div>
<div class="cell border-box-sizing code_cell rendered">
<div class="input">
<div class="prompt input_prompt">In&nbsp;[34]:</div>
<div class="inner_cell">
    <div class="input_area">
<div class=" highlight hl-ipython3"><pre><span></span><span class="kn">from</span> <span class="nn">scipy.stats</span> <span class="k">import</span> <span class="n">norm</span>
<span class="n">x</span> <span class="o">=</span> <span class="n">norm</span><span class="o">.</span><span class="n">rvs</span><span class="p">(</span><span class="n">loc</span> <span class="o">=</span> <span class="mi">0</span><span class="p">,</span> <span class="n">scale</span> <span class="o">=</span> <span class="mi">1</span><span class="p">,</span> <span class="n">size</span> <span class="o">=</span> <span class="mi">1000</span><span class="p">)</span>
<span class="n">plt</span><span class="o">.</span><span class="n">hist</span><span class="p">(</span><span class="n">x</span><span class="p">)</span>
<span class="n">plt</span><span class="o">.</span><span class="n">title</span><span class="p">(</span><span class="s1">&#39;Histogram of 1000 normal random variables&#39;</span><span class="p">)</span>
</pre></div>

    </div>
</div>
</div>

<div class="output_wrapper">
<div class="output">


<div class="output_area">

    <div class="prompt output_prompt">Out[34]:</div>




<div class="output_text output_subarea output_execute_result">
<pre>&lt;matplotlib.text.Text at 0x1089af590&gt;</pre>
</div>

</div>

<div class="output_area">

    <div class="prompt"></div>




<div class="output_png output_subarea ">
<img src="data:image/png;base64,iVBORw0KGgoAAAANSUhEUgAAAXwAAAEKCAYAAAARnO4WAAAABHNCSVQICAgIfAhkiAAAAAlwSFlz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"
>
</div>

</div>

</div>
</div>

</div>
<div class="cell border-box-sizing text_cell rendered"><div class="prompt input_prompt">
</div><div class="inner_cell">
<div class="text_cell_render border-box-sizing rendered_html">
<h1 id="More-Pandas-and-Matplotlib">More Pandas and Matplotlib<a class="anchor-link" href="#More-Pandas-and-Matplotlib">&#182;</a></h1><h2 id="Motor-Trend-Car-Road-Tests-Data">Motor Trend Car Road Tests Data<a class="anchor-link" href="#Motor-Trend-Car-Road-Tests-Data">&#182;</a></h2><p>The data was extracted from the 1974 Motor Trend US magazine, and comprises fuel consumption and 10 aspects of automobile design and performance for 32 automobiles (1973–74 models). This dataset is available on Github in the <a href="https://github.com/cs109/2014_data">2014_data repository</a> and is called <code>mtcars.csv</code>.</p>

</div>
</div>
</div>
<div class="cell border-box-sizing text_cell rendered"><div class="prompt input_prompt">
</div><div class="inner_cell">
<div class="text_cell_render border-box-sizing rendered_html">
<h2 id="Reading-in-the-mtcars-data-(CSV-file)-from-the-web">Reading in the mtcars data (CSV file) from the web<a class="anchor-link" href="#Reading-in-the-mtcars-data-(CSV-file)-from-the-web">&#182;</a></h2><p>This is a <code>.csv</code> file, so we will use the function <code>read_csv()</code> that will read in a CSV file into a pandas DataFrame.</p>

</div>
</div>
</div>
<div class="cell border-box-sizing code_cell rendered">
<div class="input">
<div class="prompt input_prompt">In&nbsp;[35]:</div>
<div class="inner_cell">
    <div class="input_area">
<div class=" highlight hl-ipython3"><pre><span></span><span class="n">url</span> <span class="o">=</span> <span class="s1">&#39;https://raw.githubusercontent.com/cs109/2014_data/master/mtcars.csv&#39;</span>
<span class="n">mtcars</span> <span class="o">=</span> <span class="n">pd</span><span class="o">.</span><span class="n">read_csv</span><span class="p">(</span><span class="n">url</span><span class="p">,</span> <span class="n">sep</span> <span class="o">=</span> <span class="s1">&#39;,&#39;</span><span class="p">,</span> <span class="n">index_col</span><span class="o">=</span><span class="mi">0</span><span class="p">)</span>
<span class="n">mtcars</span><span class="o">.</span><span class="n">head</span><span class="p">()</span>
</pre></div>

    </div>
</div>
</div>

<div class="output_wrapper">
<div class="output">


<div class="output_area">

    <div class="prompt output_prompt">Out[35]:</div>



<div class="output_html rendered_html output_subarea output_execute_result">
<div style="max-height:1000px;max-width:1500px;overflow:auto;">
<table border="1" class="dataframe">
  <thead>
    <tr style="text-align: right;">
      <th></th>
      <th>mpg</th>
      <th>cyl</th>
      <th>disp</th>
      <th>hp</th>
      <th>drat</th>
      <th>wt</th>
      <th>qsec</th>
      <th>vs</th>
      <th>am</th>
      <th>gear</th>
      <th>carb</th>
    </tr>
  </thead>
  <tbody>
    <tr>
      <th>Mazda RX4</th>
      <td> 21.0</td>
      <td> 6</td>
      <td> 160</td>
      <td> 110</td>
      <td> 3.90</td>
      <td> 2.620</td>
      <td> 16.46</td>
      <td> 0</td>
      <td> 1</td>
      <td> 4</td>
      <td> 4</td>
    </tr>
    <tr>
      <th>Mazda RX4 Wag</th>
      <td> 21.0</td>
      <td> 6</td>
      <td> 160</td>
      <td> 110</td>
      <td> 3.90</td>
      <td> 2.875</td>
      <td> 17.02</td>
      <td> 0</td>
      <td> 1</td>
      <td> 4</td>
      <td> 4</td>
    </tr>
    <tr>
      <th>Datsun 710</th>
      <td> 22.8</td>
      <td> 4</td>
      <td> 108</td>
      <td>  93</td>
      <td> 3.85</td>
      <td> 2.320</td>
      <td> 18.61</td>
      <td> 1</td>
      <td> 1</td>
      <td> 4</td>
      <td> 1</td>
    </tr>
    <tr>
      <th>Hornet 4 Drive</th>
      <td> 21.4</td>
      <td> 6</td>
      <td> 258</td>
      <td> 110</td>
      <td> 3.08</td>
      <td> 3.215</td>
      <td> 19.44</td>
      <td> 1</td>
      <td> 0</td>
      <td> 3</td>
      <td> 1</td>
    </tr>
    <tr>
      <th>Hornet Sportabout</th>
      <td> 18.7</td>
      <td> 8</td>
      <td> 360</td>
      <td> 175</td>
      <td> 3.15</td>
      <td> 3.440</td>
      <td> 17.02</td>
      <td> 0</td>
      <td> 0</td>
      <td> 3</td>
      <td> 2</td>
    </tr>
  </tbody>
</table>
</div>
</div>

</div>

</div>
</div>

</div>
<div class="cell border-box-sizing code_cell rendered">
<div class="input">
<div class="prompt input_prompt">In&nbsp;[36]:</div>
<div class="inner_cell">
    <div class="input_area">
<div class=" highlight hl-ipython3"><pre><span></span><span class="c1"># DataFrame with 32 observations on 11 variables</span>
<span class="n">mtcars</span><span class="o">.</span><span class="n">shape</span> 
</pre></div>

    </div>
</div>
</div>

<div class="output_wrapper">
<div class="output">


<div class="output_area">

    <div class="prompt output_prompt">Out[36]:</div>




<div class="output_text output_subarea output_execute_result">
<pre>(32, 11)</pre>
</div>

</div>

</div>
</div>

</div>
<div class="cell border-box-sizing code_cell rendered">
<div class="input">
<div class="prompt input_prompt">In&nbsp;[37]:</div>
<div class="inner_cell">
    <div class="input_area">
<div class=" highlight hl-ipython3"><pre><span></span><span class="c1"># return the column names</span>
<span class="n">mtcars</span><span class="o">.</span><span class="n">columns</span>
</pre></div>

    </div>
</div>
</div>

<div class="output_wrapper">
<div class="output">


<div class="output_area">

    <div class="prompt output_prompt">Out[37]:</div>




<div class="output_text output_subarea output_execute_result">
<pre>Index([u&#39;mpg&#39;, u&#39;cyl&#39;, u&#39;disp&#39;, u&#39;hp&#39;, u&#39;drat&#39;, u&#39;wt&#39;, u&#39;qsec&#39;, u&#39;vs&#39;, u&#39;am&#39;, u&#39;gear&#39;, u&#39;carb&#39;], dtype=&#39;object&#39;)</pre>
</div>

</div>

</div>
</div>

</div>
<div class="cell border-box-sizing text_cell rendered"><div class="prompt input_prompt">
</div><div class="inner_cell">
<div class="text_cell_render border-box-sizing rendered_html">
<p>Here is a table containing a description of all the column names.</p>
<table>
<thead><tr>
<th>Column name</th>
<th>Description </th>
</tr>
</thead>
<tbody>
<tr>
<td>mpg</td>
<td>Miles/(US) gallon</td>
</tr>
<tr>
<td>cyl</td>
<td>Number of cylinders</td>
</tr>
<tr>
<td>disp</td>
<td>Displacement (cu.in.)</td>
</tr>
<tr>
<td>hp</td>
<td>Gross horsepower</td>
</tr>
<tr>
<td>drat</td>
<td>Rear axle ratio</td>
</tr>
<tr>
<td>wt</td>
<td>Weight (lb/1000)</td>
</tr>
<tr>
<td>qsec</td>
<td>1/4 mile time</td>
</tr>
<tr>
<td>vs</td>
<td>V/S</td>
</tr>
<tr>
<td>am</td>
<td>Transmission (0 = automatic, 1 = manual)</td>
</tr>
<tr>
<td>gear</td>
<td>Number of forward gears</td>
</tr>
<tr>
<td>carb</td>
<td>Number of carburetors</td>
</tr>
</tbody>
</table>

</div>
</div>
</div>
<div class="cell border-box-sizing code_cell rendered">
<div class="input">
<div class="prompt input_prompt">In&nbsp;[38]:</div>
<div class="inner_cell">
    <div class="input_area">
<div class=" highlight hl-ipython3"><pre><span></span><span class="c1"># return the actual data inside the panadas data frame</span>
<span class="n">mtcars</span><span class="o">.</span><span class="n">values</span>
</pre></div>

    </div>
</div>
</div>

<div class="output_wrapper">
<div class="output">


<div class="output_area">

    <div class="prompt output_prompt">Out[38]:</div>




<div class="output_text output_subarea output_execute_result">
<pre>array([[  21.   ,    6.   ,  160.   ,  110.   ,    3.9  ,    2.62 ,
          16.46 ,    0.   ,    1.   ,    4.   ,    4.   ],
       [  21.   ,    6.   ,  160.   ,  110.   ,    3.9  ,    2.875,
          17.02 ,    0.   ,    1.   ,    4.   ,    4.   ],
       [  22.8  ,    4.   ,  108.   ,   93.   ,    3.85 ,    2.32 ,
          18.61 ,    1.   ,    1.   ,    4.   ,    1.   ],
       [  21.4  ,    6.   ,  258.   ,  110.   ,    3.08 ,    3.215,
          19.44 ,    1.   ,    0.   ,    3.   ,    1.   ],
       [  18.7  ,    8.   ,  360.   ,  175.   ,    3.15 ,    3.44 ,
          17.02 ,    0.   ,    0.   ,    3.   ,    2.   ],
       [  18.1  ,    6.   ,  225.   ,  105.   ,    2.76 ,    3.46 ,
          20.22 ,    1.   ,    0.   ,    3.   ,    1.   ],
       [  14.3  ,    8.   ,  360.   ,  245.   ,    3.21 ,    3.57 ,
          15.84 ,    0.   ,    0.   ,    3.   ,    4.   ],
       [  24.4  ,    4.   ,  146.7  ,   62.   ,    3.69 ,    3.19 ,
          20.   ,    1.   ,    0.   ,    4.   ,    2.   ],
       [  22.8  ,    4.   ,  140.8  ,   95.   ,    3.92 ,    3.15 ,
          22.9  ,    1.   ,    0.   ,    4.   ,    2.   ],
       [  19.2  ,    6.   ,  167.6  ,  123.   ,    3.92 ,    3.44 ,
          18.3  ,    1.   ,    0.   ,    4.   ,    4.   ],
       [  17.8  ,    6.   ,  167.6  ,  123.   ,    3.92 ,    3.44 ,
          18.9  ,    1.   ,    0.   ,    4.   ,    4.   ],
       [  16.4  ,    8.   ,  275.8  ,  180.   ,    3.07 ,    4.07 ,
          17.4  ,    0.   ,    0.   ,    3.   ,    3.   ],
       [  17.3  ,    8.   ,  275.8  ,  180.   ,    3.07 ,    3.73 ,
          17.6  ,    0.   ,    0.   ,    3.   ,    3.   ],
       [  15.2  ,    8.   ,  275.8  ,  180.   ,    3.07 ,    3.78 ,
          18.   ,    0.   ,    0.   ,    3.   ,    3.   ],
       [  10.4  ,    8.   ,  472.   ,  205.   ,    2.93 ,    5.25 ,
          17.98 ,    0.   ,    0.   ,    3.   ,    4.   ],
       [  10.4  ,    8.   ,  460.   ,  215.   ,    3.   ,    5.424,
          17.82 ,    0.   ,    0.   ,    3.   ,    4.   ],
       [  14.7  ,    8.   ,  440.   ,  230.   ,    3.23 ,    5.345,
          17.42 ,    0.   ,    0.   ,    3.   ,    4.   ],
       [  32.4  ,    4.   ,   78.7  ,   66.   ,    4.08 ,    2.2  ,
          19.47 ,    1.   ,    1.   ,    4.   ,    1.   ],
       [  30.4  ,    4.   ,   75.7  ,   52.   ,    4.93 ,    1.615,
          18.52 ,    1.   ,    1.   ,    4.   ,    2.   ],
       [  33.9  ,    4.   ,   71.1  ,   65.   ,    4.22 ,    1.835,
          19.9  ,    1.   ,    1.   ,    4.   ,    1.   ],
       [  21.5  ,    4.   ,  120.1  ,   97.   ,    3.7  ,    2.465,
          20.01 ,    1.   ,    0.   ,    3.   ,    1.   ],
       [  15.5  ,    8.   ,  318.   ,  150.   ,    2.76 ,    3.52 ,
          16.87 ,    0.   ,    0.   ,    3.   ,    2.   ],
       [  15.2  ,    8.   ,  304.   ,  150.   ,    3.15 ,    3.435,
          17.3  ,    0.   ,    0.   ,    3.   ,    2.   ],
       [  13.3  ,    8.   ,  350.   ,  245.   ,    3.73 ,    3.84 ,
          15.41 ,    0.   ,    0.   ,    3.   ,    4.   ],
       [  19.2  ,    8.   ,  400.   ,  175.   ,    3.08 ,    3.845,
          17.05 ,    0.   ,    0.   ,    3.   ,    2.   ],
       [  27.3  ,    4.   ,   79.   ,   66.   ,    4.08 ,    1.935,
          18.9  ,    1.   ,    1.   ,    4.   ,    1.   ],
       [  26.   ,    4.   ,  120.3  ,   91.   ,    4.43 ,    2.14 ,
          16.7  ,    0.   ,    1.   ,    5.   ,    2.   ],
       [  30.4  ,    4.   ,   95.1  ,  113.   ,    3.77 ,    1.513,
          16.9  ,    1.   ,    1.   ,    5.   ,    2.   ],
       [  15.8  ,    8.   ,  351.   ,  264.   ,    4.22 ,    3.17 ,
          14.5  ,    0.   ,    1.   ,    5.   ,    4.   ],
       [  19.7  ,    6.   ,  145.   ,  175.   ,    3.62 ,    2.77 ,
          15.5  ,    0.   ,    1.   ,    5.   ,    6.   ],
       [  15.   ,    8.   ,  301.   ,  335.   ,    3.54 ,    3.57 ,
          14.6  ,    0.   ,    1.   ,    5.   ,    8.   ],
       [  21.4  ,    4.   ,  121.   ,  109.   ,    4.11 ,    2.78 ,
          18.6  ,    1.   ,    1.   ,    4.   ,    2.   ]])</pre>
</div>

</div>

</div>
</div>

</div>
<div class="cell border-box-sizing code_cell rendered">
<div class="input">
<div class="prompt input_prompt">In&nbsp;[39]:</div>
<div class="inner_cell">
    <div class="input_area">
<div class=" highlight hl-ipython3"><pre><span></span><span class="n">mtcars</span><span class="p">[</span><span class="mi">25</span><span class="p">:]</span> <span class="c1"># rows 25 to end of data frame</span>
</pre></div>

    </div>
</div>
</div>

<div class="output_wrapper">
<div class="output">


<div class="output_area">

    <div class="prompt output_prompt">Out[39]:</div>



<div class="output_html rendered_html output_subarea output_execute_result">
<div style="max-height:1000px;max-width:1500px;overflow:auto;">
<table border="1" class="dataframe">
  <thead>
    <tr style="text-align: right;">
      <th></th>
      <th>mpg</th>
      <th>cyl</th>
      <th>disp</th>
      <th>hp</th>
      <th>drat</th>
      <th>wt</th>
      <th>qsec</th>
      <th>vs</th>
      <th>am</th>
      <th>gear</th>
      <th>carb</th>
    </tr>
  </thead>
  <tbody>
    <tr>
      <th>Fiat X1-9</th>
      <td> 27.3</td>
      <td> 4</td>
      <td>  79.0</td>
      <td>  66</td>
      <td> 4.08</td>
      <td> 1.935</td>
      <td> 18.9</td>
      <td> 1</td>
      <td> 1</td>
      <td> 4</td>
      <td> 1</td>
    </tr>
    <tr>
      <th>Porsche 914-2</th>
      <td> 26.0</td>
      <td> 4</td>
      <td> 120.3</td>
      <td>  91</td>
      <td> 4.43</td>
      <td> 2.140</td>
      <td> 16.7</td>
      <td> 0</td>
      <td> 1</td>
      <td> 5</td>
      <td> 2</td>
    </tr>
    <tr>
      <th>Lotus Europa</th>
      <td> 30.4</td>
      <td> 4</td>
      <td>  95.1</td>
      <td> 113</td>
      <td> 3.77</td>
      <td> 1.513</td>
      <td> 16.9</td>
      <td> 1</td>
      <td> 1</td>
      <td> 5</td>
      <td> 2</td>
    </tr>
    <tr>
      <th>Ford Pantera L</th>
      <td> 15.8</td>
      <td> 8</td>
      <td> 351.0</td>
      <td> 264</td>
      <td> 4.22</td>
      <td> 3.170</td>
      <td> 14.5</td>
      <td> 0</td>
      <td> 1</td>
      <td> 5</td>
      <td> 4</td>
    </tr>
    <tr>
      <th>Ferrari Dino</th>
      <td> 19.7</td>
      <td> 6</td>
      <td> 145.0</td>
      <td> 175</td>
      <td> 3.62</td>
      <td> 2.770</td>
      <td> 15.5</td>
      <td> 0</td>
      <td> 1</td>
      <td> 5</td>
      <td> 6</td>
    </tr>
    <tr>
      <th>Maserati Bora</th>
      <td> 15.0</td>
      <td> 8</td>
      <td> 301.0</td>
      <td> 335</td>
      <td> 3.54</td>
      <td> 3.570</td>
      <td> 14.6</td>
      <td> 0</td>
      <td> 1</td>
      <td> 5</td>
      <td> 8</td>
    </tr>
    <tr>
      <th>Volvo 142E</th>
      <td> 21.4</td>
      <td> 4</td>
      <td> 121.0</td>
      <td> 109</td>
      <td> 4.11</td>
      <td> 2.780</td>
      <td> 18.6</td>
      <td> 1</td>
      <td> 1</td>
      <td> 4</td>
      <td> 2</td>
    </tr>
  </tbody>
</table>
</div>
</div>

</div>

</div>
</div>

</div>
<div class="cell border-box-sizing code_cell rendered">
<div class="input">
<div class="prompt input_prompt">In&nbsp;[40]:</div>
<div class="inner_cell">
    <div class="input_area">
<div class=" highlight hl-ipython3"><pre><span></span><span class="c1"># return index</span>
<span class="n">mtcars</span><span class="o">.</span><span class="n">index</span>
</pre></div>

    </div>
</div>
</div>

<div class="output_wrapper">
<div class="output">


<div class="output_area">

    <div class="prompt output_prompt">Out[40]:</div>




<div class="output_text output_subarea output_execute_result">
<pre>Index([u&#39;Mazda RX4&#39;, u&#39;Mazda RX4 Wag&#39;, u&#39;Datsun 710&#39;, u&#39;Hornet 4 Drive&#39;, u&#39;Hornet Sportabout&#39;, u&#39;Valiant&#39;, u&#39;Duster 360&#39;, u&#39;Merc 240D&#39;, u&#39;Merc 230&#39;, u&#39;Merc 280&#39;, u&#39;Merc 280C&#39;, u&#39;Merc 450SE&#39;, u&#39;Merc 450SL&#39;, u&#39;Merc 450SLC&#39;, u&#39;Cadillac Fleetwood&#39;, u&#39;Lincoln Continental&#39;, u&#39;Chrysler Imperial&#39;, u&#39;Fiat 128&#39;, u&#39;Honda Civic&#39;, u&#39;Toyota Corolla&#39;, u&#39;Toyota Corona&#39;, u&#39;Dodge Challenger&#39;, u&#39;AMC Javelin&#39;, u&#39;Camaro Z28&#39;, u&#39;Pontiac Firebird&#39;, u&#39;Fiat X1-9&#39;, u&#39;Porsche 914-2&#39;, u&#39;Lotus Europa&#39;, u&#39;Ford Pantera L&#39;, u&#39;Ferrari Dino&#39;, u&#39;Maserati Bora&#39;, u&#39;Volvo 142E&#39;], dtype=&#39;object&#39;)</pre>
</div>

</div>

</div>
</div>

</div>
<div class="cell border-box-sizing code_cell rendered">
<div class="input">
<div class="prompt input_prompt">In&nbsp;[41]:</div>
<div class="inner_cell">
    <div class="input_area">
<div class=" highlight hl-ipython3"><pre><span></span><span class="n">mtcars</span><span class="o">.</span><span class="n">ix</span><span class="p">[</span><span class="s1">&#39;Maserati Bora&#39;</span><span class="p">]</span> <span class="c1"># access a row by an index</span>
</pre></div>

    </div>
</div>
</div>

<div class="output_wrapper">
<div class="output">


<div class="output_area">

    <div class="prompt output_prompt">Out[41]:</div>




<div class="output_text output_subarea output_execute_result">
<pre>mpg      15.00
cyl       8.00
disp    301.00
hp      335.00
drat      3.54
wt        3.57
qsec     14.60
vs        0.00
am        1.00
gear      5.00
carb      8.00
Name: Maserati Bora, dtype: float64</pre>
</div>

</div>

</div>
</div>

</div>
<div class="cell border-box-sizing code_cell rendered">
<div class="input">
<div class="prompt input_prompt">In&nbsp;[42]:</div>
<div class="inner_cell">
    <div class="input_area">
<div class=" highlight hl-ipython3"><pre><span></span><span class="c1"># What other methods are available when working with pandas DataFrames?</span>
<span class="c1"># type &#39;mtcars.&#39; and then click &lt;TAB&gt;</span>
<span class="c1"># mtcars.&lt;TAB&gt;</span>

<span class="c1"># try it here</span>
</pre></div>

    </div>
</div>
</div>

</div>
<div class="cell border-box-sizing text_cell rendered"><div class="prompt input_prompt">
</div><div class="inner_cell">
<div class="text_cell_render border-box-sizing rendered_html">
<h2 id="Exploratory-Data-Analysis-(EDA)">Exploratory Data Analysis (EDA)<a class="anchor-link" href="#Exploratory-Data-Analysis-(EDA)">&#182;</a></h2><p>Even though they may look like continuous variabes, <code>cyl</code>, <code>vs</code>, <code>am</code>, <code>gear</code> and <code>carb</code> are integer or categorical variables. First, let's look at some summary statistics of the mtcars data set.</p>

</div>
</div>
</div>
<div class="cell border-box-sizing code_cell rendered">
<div class="input">
<div class="prompt input_prompt">In&nbsp;[43]:</div>
<div class="inner_cell">
    <div class="input_area">
<div class=" highlight hl-ipython3"><pre><span></span><span class="n">mtcars</span><span class="o">.</span><span class="n">describe</span><span class="p">()</span>
</pre></div>

    </div>
</div>
</div>

<div class="output_wrapper">
<div class="output">


<div class="output_area">

    <div class="prompt output_prompt">Out[43]:</div>



<div class="output_html rendered_html output_subarea output_execute_result">
<div style="max-height:1000px;max-width:1500px;overflow:auto;">
<table border="1" class="dataframe">
  <thead>
    <tr style="text-align: right;">
      <th></th>
      <th>mpg</th>
      <th>cyl</th>
      <th>disp</th>
      <th>hp</th>
      <th>drat</th>
      <th>wt</th>
      <th>qsec</th>
      <th>vs</th>
      <th>am</th>
      <th>gear</th>
      <th>carb</th>
    </tr>
  </thead>
  <tbody>
    <tr>
      <th>count</th>
      <td> 32.000000</td>
      <td> 32.000000</td>
      <td>  32.000000</td>
      <td>  32.000000</td>
      <td> 32.000000</td>
      <td> 32.000000</td>
      <td> 32.000000</td>
      <td> 32.000000</td>
      <td> 32.000000</td>
      <td> 32.000000</td>
      <td> 32.0000</td>
    </tr>
    <tr>
      <th>mean</th>
      <td> 20.090625</td>
      <td>  6.187500</td>
      <td> 230.721875</td>
      <td> 146.687500</td>
      <td>  3.596563</td>
      <td>  3.217250</td>
      <td> 17.848750</td>
      <td>  0.437500</td>
      <td>  0.406250</td>
      <td>  3.687500</td>
      <td>  2.8125</td>
    </tr>
    <tr>
      <th>std</th>
      <td>  6.026948</td>
      <td>  1.785922</td>
      <td> 123.938694</td>
      <td>  68.562868</td>
      <td>  0.534679</td>
      <td>  0.978457</td>
      <td>  1.786943</td>
      <td>  0.504016</td>
      <td>  0.498991</td>
      <td>  0.737804</td>
      <td>  1.6152</td>
    </tr>
    <tr>
      <th>min</th>
      <td> 10.400000</td>
      <td>  4.000000</td>
      <td>  71.100000</td>
      <td>  52.000000</td>
      <td>  2.760000</td>
      <td>  1.513000</td>
      <td> 14.500000</td>
      <td>  0.000000</td>
      <td>  0.000000</td>
      <td>  3.000000</td>
      <td>  1.0000</td>
    </tr>
    <tr>
      <th>25%</th>
      <td> 15.425000</td>
      <td>  4.000000</td>
      <td> 120.825000</td>
      <td>  96.500000</td>
      <td>  3.080000</td>
      <td>  2.581250</td>
      <td> 16.892500</td>
      <td>  0.000000</td>
      <td>  0.000000</td>
      <td>  3.000000</td>
      <td>  2.0000</td>
    </tr>
    <tr>
      <th>50%</th>
      <td> 19.200000</td>
      <td>  6.000000</td>
      <td> 196.300000</td>
      <td> 123.000000</td>
      <td>  3.695000</td>
      <td>  3.325000</td>
      <td> 17.710000</td>
      <td>  0.000000</td>
      <td>  0.000000</td>
      <td>  4.000000</td>
      <td>  2.0000</td>
    </tr>
    <tr>
      <th>75%</th>
      <td> 22.800000</td>
      <td>  8.000000</td>
      <td> 326.000000</td>
      <td> 180.000000</td>
      <td>  3.920000</td>
      <td>  3.610000</td>
      <td> 18.900000</td>
      <td>  1.000000</td>
      <td>  1.000000</td>
      <td>  4.000000</td>
      <td>  4.0000</td>
    </tr>
    <tr>
      <th>max</th>
      <td> 33.900000</td>
      <td>  8.000000</td>
      <td> 472.000000</td>
      <td> 335.000000</td>
      <td>  4.930000</td>
      <td>  5.424000</td>
      <td> 22.900000</td>
      <td>  1.000000</td>
      <td>  1.000000</td>
      <td>  5.000000</td>
      <td>  8.0000</td>
    </tr>
  </tbody>
</table>
</div>
</div>

</div>

</div>
</div>

</div>
<div class="cell border-box-sizing text_cell rendered"><div class="prompt input_prompt">
</div><div class="inner_cell">
<div class="text_cell_render border-box-sizing rendered_html">
<h4 id="Using-conditional-statements">Using conditional statements<a class="anchor-link" href="#Using-conditional-statements">&#182;</a></h4><p>To check if <code>any</code> or <code>all</code> elements in an array meet a certain criteria, use <code>any()</code> and <code>all()</code>.</p>

</div>
</div>
</div>
<div class="cell border-box-sizing code_cell rendered">
<div class="input">
<div class="prompt input_prompt">In&nbsp;[44]:</div>
<div class="inner_cell">
    <div class="input_area">
<div class=" highlight hl-ipython3"><pre><span></span><span class="p">(</span><span class="n">mtcars</span><span class="o">.</span><span class="n">mpg</span> <span class="o">&gt;=</span> <span class="mi">20</span><span class="p">)</span><span class="o">.</span><span class="n">any</span><span class="p">()</span>
</pre></div>

    </div>
</div>
</div>

<div class="output_wrapper">
<div class="output">


<div class="output_area">

    <div class="prompt output_prompt">Out[44]:</div>




<div class="output_text output_subarea output_execute_result">
<pre>True</pre>
</div>

</div>

</div>
</div>

</div>
<div class="cell border-box-sizing code_cell rendered">
<div class="input">
<div class="prompt input_prompt">In&nbsp;[45]:</div>
<div class="inner_cell">
    <div class="input_area">
<div class=" highlight hl-ipython3"><pre><span></span><span class="p">(</span><span class="n">mtcars</span> <span class="o">&gt;</span> <span class="mi">0</span><span class="p">)</span><span class="o">.</span><span class="n">all</span><span class="p">()</span>
</pre></div>

    </div>
</div>
</div>

<div class="output_wrapper">
<div class="output">


<div class="output_area">

    <div class="prompt output_prompt">Out[45]:</div>




<div class="output_text output_subarea output_execute_result">
<pre>mpg      True
cyl      True
disp     True
hp       True
drat     True
wt       True
qsec     True
vs      False
am      False
gear     True
carb     True
dtype: bool</pre>
</div>

</div>

</div>
</div>

</div>
<div class="cell border-box-sizing text_cell rendered"><div class="prompt input_prompt">
</div><div class="inner_cell">
<div class="text_cell_render border-box-sizing rendered_html">
<p>Let's look at the distribution of <code>mpg</code> using a histogram.</p>

</div>
</div>
</div>
<div class="cell border-box-sizing code_cell rendered">
<div class="input">
<div class="prompt input_prompt">In&nbsp;[46]:</div>
<div class="inner_cell">
    <div class="input_area">
<div class=" highlight hl-ipython3"><pre><span></span><span class="n">mtcars</span><span class="p">[</span><span class="s1">&#39;mpg&#39;</span><span class="p">]</span><span class="o">.</span><span class="n">hist</span><span class="p">()</span>
<span class="n">plt</span><span class="o">.</span><span class="n">title</span><span class="p">(</span><span class="s1">&#39;Distribution of MPG&#39;</span><span class="p">)</span>
<span class="n">plt</span><span class="o">.</span><span class="n">xlabel</span><span class="p">(</span><span class="s1">&#39;Miles Per Gallon&#39;</span><span class="p">)</span>
</pre></div>

    </div>
</div>
</div>

<div class="output_wrapper">
<div class="output">


<div class="output_area">

    <div class="prompt output_prompt">Out[46]:</div>




<div class="output_text output_subarea output_execute_result">
<pre>&lt;matplotlib.text.Text at 0x108a22550&gt;</pre>
</div>

</div>

<div class="output_area">

    <div class="prompt"></div>




<div class="output_png output_subarea ">
<img src="data:image/png;base64,iVBORw0KGgoAAAANSUhEUgAAAWwAAAEZCAYAAACzcB/LAAAABHNCSVQICAgIfAhkiAAAAAlwSFlz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"
>
</div>

</div>

</div>
</div>

</div>
<div class="cell border-box-sizing code_cell rendered">
<div class="input">
<div class="prompt input_prompt">In&nbsp;[47]:</div>
<div class="inner_cell">
    <div class="input_area">
<div class=" highlight hl-ipython3"><pre><span></span><span class="c1"># Relationship between cyl and mpg</span>
<span class="n">plt</span><span class="o">.</span><span class="n">plot</span><span class="p">(</span><span class="n">mtcars</span><span class="o">.</span><span class="n">cyl</span><span class="p">,</span> <span class="n">mtcars</span><span class="o">.</span><span class="n">mpg</span><span class="p">,</span> <span class="s1">&#39;o&#39;</span><span class="p">)</span>
<span class="n">plt</span><span class="o">.</span><span class="n">xlim</span><span class="p">(</span><span class="mi">3</span><span class="p">,</span> <span class="mi">9</span><span class="p">)</span>
<span class="n">plt</span><span class="o">.</span><span class="n">xlabel</span><span class="p">(</span><span class="s1">&#39;Cylinders&#39;</span><span class="p">)</span>
<span class="n">plt</span><span class="o">.</span><span class="n">ylabel</span><span class="p">(</span><span class="s1">&#39;MPG&#39;</span><span class="p">)</span>
<span class="n">plt</span><span class="o">.</span><span class="n">title</span><span class="p">(</span><span class="s1">&#39;Relationship between cylinders and MPG&#39;</span><span class="p">)</span>
</pre></div>

    </div>
</div>
</div>

<div class="output_wrapper">
<div class="output">


<div class="output_area">

    <div class="prompt output_prompt">Out[47]:</div>




<div class="output_text output_subarea output_execute_result">
<pre>&lt;matplotlib.text.Text at 0x10969b5d0&gt;</pre>
</div>

</div>

<div class="output_area">

    <div class="prompt"></div>




<div class="output_png output_subarea ">
<img src="data:image/png;base64,iVBORw0KGgoAAAANSUhEUgAAAX4AAAEZCAYAAACQK04eAAAABHNCSVQICAgIfAhkiAAAAAlwSFlz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"
>
</div>

</div>

</div>
</div>

</div>
<div class="cell border-box-sizing code_cell rendered">
<div class="input">
<div class="prompt input_prompt">In&nbsp;[48]:</div>
<div class="inner_cell">
    <div class="input_area">
<div class=" highlight hl-ipython3"><pre><span></span><span class="c1"># Relationship between horsepower and mpg</span>
<span class="n">plt</span><span class="o">.</span><span class="n">plot</span><span class="p">(</span><span class="n">mtcars</span><span class="o">.</span><span class="n">hp</span><span class="p">,</span> <span class="n">mtcars</span><span class="o">.</span><span class="n">mpg</span><span class="p">,</span> <span class="s1">&#39;o&#39;</span><span class="p">)</span>
<span class="n">plt</span><span class="o">.</span><span class="n">xlabel</span><span class="p">(</span><span class="s1">&#39;Horsepower&#39;</span><span class="p">)</span>
<span class="n">plt</span><span class="o">.</span><span class="n">ylabel</span><span class="p">(</span><span class="s1">&#39;MPG&#39;</span><span class="p">)</span>
<span class="n">plt</span><span class="o">.</span><span class="n">title</span><span class="p">(</span><span class="s1">&#39;Relationship between horsepower and MPG&#39;</span><span class="p">)</span>
</pre></div>

    </div>
</div>
</div>

<div class="output_wrapper">
<div class="output">


<div class="output_area">

    <div class="prompt output_prompt">Out[48]:</div>




<div class="output_text output_subarea output_execute_result">
<pre>&lt;matplotlib.text.Text at 0x1097bc150&gt;</pre>
</div>

</div>

<div class="output_area">

    <div class="prompt"></div>




<div class="output_png output_subarea ">
<img src="data:image/png;base64,iVBORw0KGgoAAAANSUhEUgAAAYQAAAEZCAYAAACXRVJOAAAABHNCSVQICAgIfAhkiAAAAAlwSFlz
AAALEgAACxIB0t1+/AAAIABJREFUeJzt3XtAVGX+P/D3jDAieL9xR9BAVxFTM12WVTTLS2uhZakJ
4iW2tC0oLTUVTd31u/4KNV3zsorQt9V0DfpVWqmwK9nFNMU0zbsoYGIimBeQeb5/2JwYhuF2mMt5
eL/+4pw5c87zOWeYz5zndnRCCAEiImrw9I4uABEROQcmBCIiAsCEQEREv2JCICIiAEwIRET0KyYE
IiIC4OQJYf78+fDw8IC/vz98fX3Ro0cPbNu2rVb7uHPnDvz9/eHj4wO9Xg+j0Vjn8iQnJ+OPf/xj
tdu98cYbWL16dZ2Po1ZgYCB2795do203bNiA119/3SblqOn5qon58+cjOjq6XvblSPV5Tsg5RERE
YNOmTTXePjMzE3q9HkuXLlXWDR8+HHr9b1/H586dg16vh7+/P/z8/BAaGoqNGzea7ae0tBSvv/46
goKC4OPjg5CQEDzzzDOqvuNc6vxOO9DpdHjiiSeQkpICAPjmm28wePBghIaGokuXLjXaR+PGjZGT
k4Pz588jKCjIlsVVzJs3zy7HsUan00Gn09Vo20mTJtm4NERyq83/m0nLli2xefNmzJgxAxcuXMCR
I0cq3cf58+eh1+tx4MABPPzww+jYsSMGDBgAAHjttdeQlZWFjIwMBAYGQgiBEydOmCWW2nLqOwQh
BMqPm3vwwQcRFBSE48ePK+vu3LmD6dOnIygoCJ06dcLrr79eaYasavzdtWvXEB8fj27dusHb2xth
YWHIysoy2+axxx7DK6+8gv3798Pf3x/+/v74+uuvLbbx9/dH06ZNMXfuXIvjFBUV4bnnnkNQUBA6
dOiAsWPH4qefflJeN/0qyMjIwB/+8Ad4enpiyJAh+OWXX8z2s2TJEnTu3BkBAQEIDAzE5s2bLY51
/vx5PPHEE/D19UVoaCiOHj1q9vq0adPg7++PFi1aVPrLOzY2Fi+88ALGjx8PPz8/dOnSBTt27LB6
Dq0xGo1YsGABQkJC4OPjg4ULF5q9LoTAkiVLEBwcjMDAQDz33HO4ffu22Ta9evVCUlISPvjgA+Xc
5+bmAgBycnLQokULi+MePXoUrVq1UpZr8jk5fvw4Bg8eDD8/P/Ts2RMZGRkW52TGjBlISEjAfffd
Bx8fH2zZsqXW5wQA1qxZgx49eqBt27aYPn262WvVfU6A3+401q1bh+DgYHh7e2Pt2rVm21T3Oanu
nGRmZsLPzw/vvPMOunXrBk9PT8THx6OsrEzZpqSkBLNnz0ZwcDACAgLw6KOP4syZM8rrkydPxltv
vWUR/+jRo7F8+XJl+csvv8Tvf/97+Pn5ITw8HNnZ2Rbv0ev1+OSTTxAeHg4/Pz8MHjy4qlNsoaSk
BHPmzEGPHj3g5+eH4OBgpKWlmW0TGBiIjRs3Vvm/s3z5cgQEBKBjx45ISEjA3bt3a1UOAPDw8EBY
WBj++9//YsOGDYiNja3yO6p3797o378/vvvuOwBAQUEBVq9ejQ0bNiAwMBDAvcRU0x/KVgknlpiY
KMaPHy+EEKKsrEykpqYKX19f8fPPPyvbvPjii2LgwIHi+vXr4tatW+KRRx4RS5cutdjX2bNnhU6n
E2VlZRav3b59W3z66afKa/PmzRNdu3a12C45OVlERERUW+7Y2Fgxd+5ci/UjR44UMTEx4s6dO+Lu
3btixowZol+/fhZlnDJlirh+/bq4efOm6Ny5s1i/fr2yzWeffSa8vb3FxYsXlfNy8+ZNs+N06NBB
hIeHi1OnTgkhhIiOjlbOY0Xz58+v9LUJEyaIwMBAcfToUSGEENu2bRMeHh7ip59+qjZ+k40bN4rG
jRuL7du3CyGE+PHHH0X79u1Fenq6ss1bb70lQkNDRW5urigrKxOxsbFi2rRplZYzOjraYr3RaBTu
7u6isLDQbP0nn3xidm6r+5wUFxcLX19fsWLFCiGEEIcOHRLt2rUTOTk5ZufEx8dHfP7550IIIf75
z38KPz+/Gp8P0zlxc3MTy5YtE2VlZeLHH38ULi4u4vTp08o21X1OTPtp2bKlePbZZ5Xtbt26pbxe
k89JdeckIyND6PV6sWrVKiGEEHl5eSIkJESsXLlS2SYhIUE8/PDD4vr168JoNIq3335bBAUFKcda
smSJeOmllyzOQ9++fcXOnTuFEELk5OSI5s2biw8++EApu6+vr7hx44bZe3Q6nejTp484fvy4EEKI
oqKimpxyMx9//LG4c+eOEEKIDRs2iObNm5t9JwQGBlb5v/Ppp5+KVq1aiezsbCGEEOnp6aJx48Zi
06ZNNS5DRkaG8PPzE1988YUYO3asCAsLE9nZ2UKn0ynbmL4L7t69K4QQ4rvvvhNeXl7iwIEDQggh
MjMzRYsWLWodf3WcPiE0bdpUBAYGCoPBIJ5++mlx/vx55fWysjLh7u4uvvrqK2Xdvn37REhIiMW+
qkoIFWVnZ4tGjRpZrN+4cWONE8KcOXPM1uXn5wu9Xm/2xVVaWiratm0rvvnmG6tlfOaZZ8S8efPM
ytaiRQuRnJwsCgoKKj1+YGCg2L17t7K8bt060b9//0q3LZ90K8ZQMan16dNHJCcnWwvbQmXn67XX
XhMTJkxQljt37iw2b96sLOfm5go3N7cal1MIIcLCwsThw4fFv//9b+Ht7S1+/PFHsWbNGhETEyOE
qNnn5F//+pfo0qWL2X7//Oc/i7/+9a/KcsVz8uOPP5r9E9dEZefE19dXZGRkCCFq9jkx7adbt25W
j1Pd56Qm58T0xVXeqlWrRGRkpBDiXjL28PAQhw8fNtsmLCxMvP/++0IIIbZv3y5GjhwphBAiPDxc
xMXFCSGE8PHxEWfPnhVCCPG3v/1NDB061GwfQ4YMEe+9957ZOp1OJ/bv32815toqKioSOp1OXLhw
QVlX3f9ObGysmDFjhtl+IiIi6pQQhBDi/vvvFy+++KI4efJkpQkhMDBQBAYGij/84Q/io48+Ul7/
3//9X7NrM3XqVBEYGChat24tsrKyalyWipy6DQEARo4ciZSUFERHR6OgoAABAQHKa1evXsWtW7fw
9NNPK/VvRqPRosqhOkIILFu2DB988AGMRqPS+Gz6uz6cP38erVu3NqvecHFxQYcOHXDhwgX06dOn
0ve5urqa3cZ3794du3fvxvr165GYmIiAgACsWLEC999/v9Vju7i4qGpoMunQoYNF1UVt+fn54ciR
I8pyTk4OXnnlFcycOVNZ16RJE+Tl5cHb27tG+wwJCcG5c+ewdOlSjBw5EsuXL0erVq3QuXNnADX7
nOTk5CAnJ8esnen27dt46qmnzI4lyt3Wu7q6KvtS8zkpf41r8zkpXyVWUXWfk7r+7wQEBODy5csA
gCtXruDmzZu47777zLYJDg7GhQsXlL/PnTuHzz77DC1btkRmZibOnTuHwsJCpaojJycHX375pdm5
v3XrFh5++GGL47du3brK8lUnJSUFycnJKCkpQZMmTQDca5y1puL/zuXLl/Hggw+qKkN5piqgU6dO
Vfr66dOnK/1sNW/eHFeuXFGWV61aBQDw9/c3q9KrLadOCDqdTvkH/Mc//oGePXti6dKlmDFjBgCg
bdu2aNasGfbs2YOOHTvW+Thvv/02tm3bhu3bt8PT0xNnz55Fp06d6iUGk4CAAPz888+4evUq2rRp
A+BeHe7Zs2fRoUOHWu2rd+/e6N27NwBg5cqVGDlyJM6ePVunclXVGFbxH+XUqVN48skna7X/ivWr
J0+eNIu3U6dOWLZsGQYNGlSr/ZYXHByMLVu2wGAw4M0330SXLl3Qo0cPTJgwAUDNPiedOnVCz549
sXfv3jqXoz7Y63NS0/+dil8up0+fVsrRtm1bNGnSBMePH0evXr2UbY4fP44xY8YAAO677z5cvHgR
SUlJePXVV3HgwAHMmjXL7P+rU6dOGDFiBFJTU2sVX219+OGHWLhwIT777DMEBQVBCIFGjRrVah9+
fn5mbSSA5TmyhwceeAB3797Fvn37EB4eXm/7dfpGZZNmzZrhvffew/z58/HNN98AuPdllpCQgClT
puDSpUvKe4qKimq0T5OLFy/Cy8sL7du3R0FBgZJwKn4htmrVCidPnkRxcTGEEMoxa3IMLy8vPPbY
Y3jhhRdw+/Zt3L17F6+++iqCg4PxwAMP1Li8paWlynGNRiNKSkrg7u5u9f3VqayspvXvvPMOvvrq
KwD3flnl5OTgT3/6U632v3//fvzjH/8AcO/X0KZNmzBx4kTl9Zdffhnx8fE4ceKEsq6wsNBiP61b
t8aRI0dQWlqKu3fvIi8vT3ktODgYmzdvRnx8PNzc3PDMM8/go48+Uu4QavI5efTRR1FQUIClS5cq
1/3WrVsoKSmp9lzVp7p+Tiqq7nNi7Zxcv37dbD+XL1/GrFmzYDQaceHCBSxbtkzphKDX6xEXF4dX
XnkFhYWFMBqNePPNN/HLL78onxM3Nze4u7sjPz8fAwcOxOTJk82uDQDExMRg9+7dSE1NVX6NFxcX
18tdbXkXL15E69at4efnhxs3bmDq1KnQ6/VV3iFUNHbsWGzatAknT56E0WjE22+/jf3799drOWvC
y8sLEydOxLRp03D69GkA9xqab926pWq/Tp0QKnbnevDBBzF37lyMGzcOxcXFAO518RwxYgQeeeQR
BAQE4L777lNunyoTGBhoUb3yyiuvoKCgAD4+Pnj00UcRFxcHFxcXiy/8oUOHolevXujYsSO6dOli
0avDWrlNNm3ahGbNmqFLly7o2LEjfvrpJ6Snp1u8t6p9nT9/HkOGDIG/vz86dOiAPXv2YPv27Vbj
rao8Vb2m0+kwZswY/P3vf4e3tzcWLVqELVu2wMPDo8pjVdxHv379cO7cOQQFBWHIkCFYtGiRWbWH
qefOmDFjEBAQgKCgIMyZM8diX+PGjYO7uzv8/PzQvXt3s94hnTt3RocOHRAVFQUAeP7552EwGBAc
HKxsU93npHHjxti9ezcOHz6MkJAQBAYGom/fvjh27FiV56q23Q1r0kWxpp+TqvZTk89JZefElLxN
fHx80K5dO3Tp0gX3338/Ro8ejXHjximv/8///A/69u2L3r17K8f5/PPP4ebmpmwTEhKCF198EcC9
H1XR0dEICQlRXm/bti0yMjKwdetWBAUFITAwEIMGDVJ6kpWPWY3Y2Fh4eXnB398fERERGDRoEPz9
/a3+sDMds/xxBw4ciJdeegn9+vVDp06dcOXKFfTr16/WZbH2P1fdNuWtXr0af/rTnzB48GB4e3vj
97//PWJiYhAWFlbr8ijHFPb42UOaM3HiRPj5+Vl0E6WGIzMzE9HR0cjJyXF0UchObNqGsHnzZmWg
RFxcHDw9PbFq1Srk5ubCYDBgwIABiIyMtGURqI74O4Go4bFpQjA1LB0/fhzp6emIi4tT6i7btm1r
y0OTSnUZfUny4WegYbFLL6OTJ0/C19dXWeavT+dXcd4UangiIyOV7qPUMNg8ISQmJqKoqAhvvPEG
gHu9DlasWAEPDw+lkYeIiBzPLo3Kp06dwtatWzFr1ixl3blz57B161ali2dFn332Wa37CBMRNXQt
W7ZUxp/Ull2qjFq2bGnRp9jV1bXKL/xGjRqZDXYhIqLqHTx4sM7vtWlCSEpKQnFxMVxcXJRplpct
W4Zr166hSZMmmDx5si0P79SysrIQERHh6GLYDOPTNpnjkzk2tWyaEBISEizWxcfH2/KQRERUR047
MG337t2sMiIiqqWDBw/ioYceqtN7nXrqCiIish8pE8KuzL2IiZ+NsS/NQUz8bOzKdOwMlpWp+EQ2
2TA+bZM5PpljU8upp7+ui12Ze7EkJQ368PHKuiUp7wIABkfy4eZERNZI14YQEz8b+aGjLdZ7H92G
TUmL66NoREROi20I5ZSKykMqMXJOFiKiqkiXEFx1lT9Uw6B3rhsh2esxGZ+2yRyfzLGpJV1CiIka
BuO+d83WGb9IRfTjQx1UIiIibZCuDQG417Ccmr4TJUYdDHqB6MeHskGZiBoENW0I0vUyAu71JmIC
ICKqHemqjLRC9npMxqdtMscnc2xqMSEQEREASdsQiIgaKo5DICIi1ZgQHET2ekzGp20yxydzbGox
IRAREQCJ2xB2Ze5FStoOlAo9XHVGxEQNY1dUIpIexyFUwBlPiYhqT8oqo5S0HWbJAAD04eORmr7T
QSWyJHs9JuPTNpnjkzk2taRMCJzxlIio9qRMCFqY8TQiIsLRRbApxqdtMscnc2xqSZkQOOMpEVHt
SZkQBkf+ETNjouB9dBvaHPk3vI9uw8wJI52qQVn2ekzGp20yxydzbGpJ2csI4IynRES1Je04BCKi
hohzGRERkWpMCA4iez0m49M2meOTOTa1mBCIiAgA2xCIiKTCNgQiIlKNCcFBZK/HZHzaJnN8Msem
FhMCEREBYBsCEZFU2IZARESqOfXUFTI/9SwrK6vWsy5q6XzUJT4tYXzaJXNsajl1QuBTz37Dp8AR
ka3ZrA1h8+bNOHHiBPR6PeLi4uDp6Yns7Gxs27YNAPDUU08hNDTU6vt3796NmQctH2jjfXQbNiUt
tkWRnVpM/Gzkh462WN9QzwcRVc4pn6k8ZswYAMDx48eRnp6OZ599Flu3bsXcuXMBAIsXL0a3bt2g
09XuKWYN9alnfAocEdmazRuVT548CV9fX+Tl5cHb2xsGgwEGgwGenp7Iz8+v9f6c6alnatS2L7QW
ngJXnux9vRmfdskcm1o2TQiJiYnYs2cP+vfvjxs3bsDd3R3JyclITk6Gu7s7iouLq3w/n3r2Gz4F
johszaYJYcGCBZg2bRpWrlyJpk2b4ubNmxg3bhzGjh2LX375Bc2bN6/y/SMeCFaeeuaWtQ4j+oQo
DahZWVlmmV5ry6Z1Nd3ezUWnqfNR2/i0tsz4tLscERHhVOWxxXJd2XxgWkFBAdasWYNZs2YhMTER
c+fOhRACixYtwsKFC62+jwPTiIhqzykblZOSklBcXAwXFxdMmjQJer0eTz75pJIERo+27DHTkGRl
yd0XmvFpm8zxyRybWjZLCAkJCRbrevTogR49etjqkEREpALnMiIikgjnMiIiItWYEBykPnoEODPG
p20yxydzbGoxIRAREQC2IRARSYVtCEREpBoTgoPIXo/J+LRN5vhkjk0tJgQiIgLANgQiIqmwDYGI
iFRjQnAQ2esxGZ+2yRyfzLGpxYRAREQA2IZARCQVtiEQEZFqTAgOIns9JuPTNpnjkzk2tZgQiIgI
ANsQiIik4pSP0HS0XZl7kZK2A6VCD1edETFRw5QH0hMRkSUpq4x2Ze7FkpQ05IeOxtXuTyA/dDSW
pKRhV+ZeRxdNIXs9JuPTNpnjkzk2taRMCClpO6APH2+2Th8+HqnpOx1UIiIi5ydlQigVlYdVYtTZ
uSTWRUREOLoINsX4tE3m+GSOTS0pE4KrzljpeoPeKdvPiYicgpQJISZqGIz73jVbZ/wiFdGPD3VQ
iSzJXo/J+LRN5vhkjk0tKXsZmXoTpaZvQ4lRB4NeIHrCSPYyIiKqAschEBFJhHMZERGRakwIDiJ7
PSbj0zaZ45M5NrWYEIiICADbEIiIpMK5jJwA504iIq1jlVE9qMvcSbLXYzI+bZM5PpljU4sJoR5w
7iQikgETQj2oy9xJss+nwvi0Teb4ZI5NLSaEesC5k4hIBkwI9aAucyfJXo/J+LRN5vhkjk0t9jKq
B5w7iYhkwHEIREQScdpxCGvXrkVeXh6MRiOmTp0KT09PrFq1Crm5uTAYDBgwYAAiIyNtWQQiIqoh
m7YhxMXFITExEaNHj8aHH34IANDpdEhISEBiYmKDTgay12MyPm2TOT6ZY1PLLo3Kbm5ucHV1VZad
tJaKiKhBs0ujckZGBoYPHw7gXnJYsWIFPDw8EBsbCy8vL3sUwenI3hea8WmbzPHJHJtaNk8I3377
LXx8fODr6wsAmDRpEgDg3LlzSE1NxYwZM6y+NysrS7l4pts8LnOZy1zmctXLdWXTXkZnzpxBVlYW
YmJiLF67dOkStmzZgpdffrnS98rey6h8spMR49M2meOTOTbAiXsZvfXWW2jTpg0WLFiAgIAATJw4
EUlJSSgsLESTJk0wefLkejsWZxslIlJHinEIptlGy08wZ9z3LmbGRDEpEFGD0uCfqczZRomI1JMi
IdRltlFHk70vNOPTNpnjkzk2taRICJxtlIhIPSkSQl1mG3U0mXs5AIxP62SOT+bY1JJitlPONkpE
pJ4UCQG4lxS0lABk7wvN+LRN5vhkjk0tKaqMiIhIPSnGIRAR0T0NfhwCERGpx4TgILL3hWZ82iZz
fDLHppbVRuUvv/wSPXv2hJubGwBg2bJluH79OgDwSWdERBKyeofw8ccfo3Hjxsry1atXER0djbFj
x+Lzzz+3S+FkJnsvB8anbTLHJ3NsalXZ7VSn+23qh86dO6Njx44W64mISA5WE0JpaSlu3LiBpk2b
AgDGj783eVxRURFKS0vtUzoNKj8N9/Ur+dC5uKJ5qzYWU3LL3hea8WmbzPHJHJtaVhPCiBEjsGDB
AgwbNkx5zOWlS5ewY8cOjBo1ym4F1JLy03AXn8nG9UuF8Bs0GVd/fX1Jyr3pNbQ0gI6IGo4qxyHk
5ORgz549uHz5MgDAy8sLgwYNgp+fn80LpsVxCDHxs5EfOhoAcGnnBvgOnWSxjffRbdiUtNjeRSOi
BsJmT0zz9/fHhAkT6rTjhshsGm59o0q3ceYpuYmoYatyHMKxY8ewa9cuXLhwwV7l0TSzabiNZZVu
Y5qSW/a+0IxP22SOT+bY1LKaENLT05Gamor8/Hy88847+Prrr+1ZLk0qPw1385AHcHHnP81ed/Yp
uYmoYbNaZbRv3z4sXLgQBoMBN2/exJtvvom+ffvas2yaU34a7jZGHa43vgP9f9ehWavWFlNyy97L
gfFpm8zxyRybWlYTQuPGjWEwGAAA7u7uMBorfyoZmdPaNNxERCZWE0JOTg6WLFmiLF+4cEFZ1ul0
eO2112xfOonJ3hea8WmbzPHJHJtaVhPC9OnTrb6JI5WJiOTD5yEQEUnEJuMQjh07VuUbu3btWqcD
NkTlp7OoOIUFEZGzsJoQFixYAC8vL3h7e1f6OhNCzZSfzsJkScq7OHrsKF6a+lyV70va8B5yr16H
sewufFs3x8txEzSTSGSvp2V82iVzbGpZTQh//etf8Z///AeXL19G7969ERERAXd3d3uWTQopaTvM
kgEA6MPHY3fWOrw0tfL37Mrci8R3/gWPwXFo9+u6czv/ideXrQfAuZCIyDasDkzr1KkTJk2ahCee
eAI7duzA/v377VkuaZhNZ1GOR4vWVt+TkrYDHoOfNVvnN3Qybri2QGr6znotn63I/guM8WmXzLGp
ZfUO4aOPPkJ2djYCAwMxffp0+Pr62rNc0jCbzqIc0xQWlbGWRKDTcy4kIrIZqwkhNTUVBoMBx48f
x86d5r9KdTodNm3aZPPCySAmahiWpLxrVm1k/CIVvfqEWH2PtSQCYawykTgT2etpGZ92yRybWlYT
wpYtW+xZDmmVn86ixKhTprBwc7H+Sz8mahheeWs5PB97SVl3ccd63L5yER4BbMwnItvgOAQn1bX/
cJQ1a4+yO7cgyu5Cb2iCtr0fxp3vPsbBHe87unhE5KRs9jwEchxDs1ZoP/Ili/W3Dn/mgNIQUUNQ
5fMQyHaqm5NdV1ZS6Xq9URvPs5Z9znnGp10yx6YWE4KTeubRh3AxbZnZuosfJGHc8EEOKhERyY5t
CE7s/739Dt77ZA+MelfojaUYN3wQpv/F+uhmIiK2IUhq+l+eYwIgIruxWZXR2rVrsWDBAiQmJuLy
5csAgOzsbMybNw/z5s3D999/b6tDa4Ls9ZiMT9tkjk/m2NSy2R1CXFwcAOD777/Hhx9+iClTpmDr
1q2YO3cuAGDx4sXo1q0bn61AROQkbN6o7ObmBhcXF+Tl5cHb2xsGgwEGgwGenp7Iz8+39eGdluwj
JRmftskcn8yxqWXzNoSMjAwMHz4cN27cgLu7O5KTkwHce05zcXGx1em1iWqCz5ogqj82TQjffvst
fHx84Ovri9zcXNy8eRNTpkyBEALr169H8+bNq3x/+TlHTPV+siyvXr0a3bt3d5ryaDG+A9nf4/9/
e9LiWRMAlKlBtByfI5dljq98G4IzlMcWy3Vls26nZ86cQVZWFmJiYgAARqMRiYmJmDt3LoQQWLRo
ERYuXGj1/bJ3O5V9gi17xBcTPxv5oaMt1nsf3YZNSYttemxeP+2SOTbASbudvvXWW2jTpg0WLFiA
gIAATJw4EU8++aSSBEaPtvxHbkhk/kAC9onP2jTh9pginNdPu2SOTS2bJYSVK1darOvRowd69Ohh
q0NSA1OXZ00QkXWcusJBbN0XelfmXsTEz8bYl+YgJn42dmXutenxKrJHX++YqGH4Zdc6s3U3dq1F
9ONDbX5s2fuyyxyfzLGpxZHKEtqVuRdLUtIqbWyVrQfO3du/4NKnGwGdHhBGNC296egiEWkW5zKS
kCMbW+2pocRJVBtqGpVZZSQhRza22lNDiZPIXpgQHMSW9ZjO0Nhqj3paR8Ypez20zPHJHJtaTAgS
iokaBuO+d83WGb9ItUtjqz2FdQqo5JkRy9C9o7+DSkSkbWxUdhBb9oU2NRynpm9DiVEHg14gesJI
uzYo26Ovd/bpC2gRNsisUblFj0E4cuZHmx9b9r7sMscnc2xqMSFIanDkH6XrUVRRqdCjWccwNOsY
Zra+5MhJB5WISNtYZeQgstdjsg1B22SOT+bY1OIdgpPgrJ21FxM1DEtS3jUbb2H8IhXRE0Y6sFRE
2sVxCE6gsoFkxn3vYmZMFJNCNXZl7kVq+s7f2koeH8pzRg2aU05uRzWXkrbDLBkAgD58PFLTt/HL
rRoNoa2EyF7YhuAg5esxbTHAqiHMZeRIjE+7ZI5NLd4hOIH6bhxtSHMZEVH94R2Cg5TvC13fA8ms
V0HtrNPMROiAAAANv0lEQVT+6kL2vt6MT7tkjk0t3iE4gfoeSMY5foioLpgQHKTiY/zqs3HUWeYy
kvmXGOPTLpljU4sJQULsn89xHUR1wXEIkmrI/fM5roMaMo5DIAsNuX8+x3UQ1Q17GTmI7H2hHRmf
PRrVef20S+bY1GJCIOk4Q6M6kRYxITiI7L0cHBmfPR4QxOunXTLHphbbEEg6zvCAICItYkJwENn7
Qjs6Pls3qjs6PluTOT6ZY1OLCYGkxHEIRLXHcQgkHY5DoIZMzTgENiqTdJxhcj8iLWJCcBDZ+0Jz
HIK2yRyfzLGpxYRA0uE4BKK6YRsCSafSNoQvUjGTXU9tig35zoFzGRGVw3EI9sen9MmBVUYOIns9
pqPjGxz5R2xKWox/LV+ETUmL6/1LydHx2Vpt49NSQ77s104N3iFQvTJVGxQUFqPttk9YbdBA8Cl9
cmBCcBAZR0pWrDbIh7zVBjJev/JqG5+WGvJlv3ZqMCFQvUlJ24FfvMJQtHMDoG8EGMvQPOQBpKbv
tHtCYAOnffEpfXKwaUL44YcfkJKSgq5duyI6OhoAsGrVKuTm5sJgMGDAgAGIjIy0ZRGclozzqeRf
LsD10iL4DZ2srLu485/Icy2xazns0cAp4/Urr7bxaakhX/Zrp4ZNE0JpaSlGjhyJEydOKOt0Oh0S
EhLQtm1bWx6aHODKtWvwe3K22Tq/oZNR8O+/2bUcfGKaYzTkp/Sp5Sx3tDZNCGFhYTh27JjFeicd
+mBXMv5C8fT0QmU1ye3be9q1HPZo4JTx+pUnc3zOFpszddm1e7dTNzc3rFixAkuWLEF+fr69D082
1L5Vs0rXe7ZubtdyaKmBk8iZuuzaPSFMmjQJCxcuxJgxY5CamlrltuX7C2dlZUm1vHr1aqcqT30s
9w4JsPqkMnuWJyZqGG7uXmdWjl92rUWvYP96O54jr9+uzL0YMeF5DI/9C2LiZ2NX5l5+PmuxbPrb
Wcpj7Y72yrWiOu+/rmw+dcXRo0dx8OBBpVHZ5NKlS9iyZQtefvnlSt8n+9QVWVlyNmztytyL1PSd
uHKtCO1aNUf040MdUhdqKofSwFnP5XDU9bPX1N6yfj4B54stJn428kNHW6z3ProNm5IW13p/aqau
sGlCSEtLw6FDh1BYWIiuXbsiLi4OSUlJKCwsRJMmTTB58mS0a9eu0vfKnhCI6qK+vzzI8ep77i2n
ncsoKioKUVFRZusSEhJseUgiqdVXg7mz9Goh5+qyy4FpDuJst631jfHZRn00mNekV4vM188ZY3OW
Lruc3I5IQ2KihlltuK8pZ+rVQs6FdwgO4my/UOob47ON+qheqEm1k8zXT+bY1GJCINIYtdULHKdB
1rDKyEHqo8+wM2N8zqsm1U5ajq86MsemFu8QiBoYZ+rVQs6Fz1QmIpKImnEIrDIiIiIATAgOI3s9
JuNzbrsy9yImfjbGvjRHmQ+pPK3HVxWZY1OLbQhEDYwzTbdMzoVtCEQNDOdDkhvbEIioxuzxACHS
JiYEB5G9HpPxOa+aDEzTcnzVkTk2tZgQiBqY+pgPieTENgSiBsjWDxAix3Ha5yEQkXNylumWybmw
yshBZK/HZHzaJnN8MsemFhMCEREBYBsCEZFUOA6BiIhUY0JwENnrMRmftskcn8yxqcWEQEREANiG
QEQkFbYhEBGRakwIDiJ7PSbj0zaZ45M5NrWYEIiICADbEIiIpMI2BCIiUo0JwUFkr8dkfNomc3wy
x6YWEwIREQFgGwIRkVTYhkBERKoxITiI7PWYjE/bZI5P5tjUYkIgIiIAbEMgUm1X5l6kpO1AqdDD
VWdETNSwKh9PWdvtiWqDz1QmcpBdmXuxJCUN+vDxyrolKe8CQKVf8rXdnsieWGXkILLXYzaU+FLS
dph9uQOAPnw8UtN3Vvq+2m7vKDJfP5ljU8tmdwg//PADUlJS0LVrV0RHRwMAsrOzsW3bNgDAU089
hdDQUFsdnsguSkXlv6lKjLp62Z7InmyWEEpLSzFy5EicOHECAGA0GrF161bMnTsXALB48WJ069YN
Ol3D/EeIiIhwdBFsqqHE56ozVvq6QV9501xtt3cUma+fzLGpZbMqo7CwMDRt2lRZzs/Ph7e3NwwG
AwwGAzw9PZGfn2+rwxPZRUzUMBj3vWu2zvhFKqIfH1ov2xPZk90alW/cuAF3d3ckJycDANzd3VFc
XAxvb297FcGpZGVlSf1LpaHEZ2oITk3fhhKjDga9QPSEkVYbiGu7vaPIfP1kjk0tm3Y7PXbsGA4c
OIDo6Gjk5uYiLS0NU6ZMgRAC69evxxNPPAEvL69K33vgwAEUFhbaqmhERFJq2bIlevfuXaf32vQO
oXyu8fLyQl5enrKcn59vNRkAqHNARERUNzZLCGlpaTh06BAKCwtx69YtxMXF4cknn8TChQsBAKNH
j7bVoYmIqA6cdqQyERHZFwemERERACYEIiL6lVPMZbRq1Srk5ubCYDAgMjISAwYM0Pyo5tqM1NZi
rJXFV/46DhgwAJGRkQC0Gd/atWuRl5cHo9GIqVOnwtPTU6rrV1l8sly/zZs348SJE9Dr9YiLi5Pu
2lUWX71dO+EEVq1aJa5cuaIsl5WViTlz5og7d+6IO3fuiHnz5gmj0ejAEtbe4cOHxddffy1SUlKE
EJXHZG29FmKtGJ8QltdRCO3GZ3LkyBGxdu1aYTQapbp+Jqb4hJDv+v3www9izZo10l47U3xC1N+1
c5oqI1GubVuGUc01Gamdl5en2VgrxmciKvRR0Gp8Jm5ubnBxcUFeXp5U18/Ezc0Nrq6uyrJM1+/k
yZPw9fWV9tqZ4jOpj2vnFFVGbm5uWLFiBTw8PBAbGyvlqGZrMZn+liHWitfRy8tL89cyIyMDw4cP
l/b6meID5Lp+iYmJKCoqwhtvvIG8vDzprl35+ID6u3ZOkRAmTZoEADh37hxSU1PxzDPP4ObNm2aj
mps3b+7gUqrTtGnTSmMyGo3SxFrxOs6YMcNq3Frw7bffwsfHB76+vsjNzZXu+pWPD5Dr+i1YsACn
Tp3CypUrMWHCBOmuXfn4Zs2aVW/XzikSgomrqysaNWpU61HNzkrUYKS20WjUbKwVb1FNTNcRqP0I
dWdx5swZHDt2DDExMQDku34V4ytPhusH3JvCwWg0SnftTEzxlaf22jnFwLRly5bh2rVrcHNzw5Qp
U9CuXTscPnxYaR0fPXo0wsLCHFzK2ik/Urtr166Ii4uzGpMWY60svqSkJBQWFqJJkyaYPHky2rVr
B0Cb8b3wwgto06YN9Ho9AgICMHHiRKmuX2XxyXL9kpKSUFxcDBcXF0ycOBHe3t5SXbvK4jN9h6q9
dk6REIiIyPGcppcRERE5FhMCEREBYEIgIqJfMSEQEREAJgQiIvoVEwIREQFgQiANmT9/Ps6cOaMs
m2ZZJaL6wYRAmqHT6apcJiJ1nGrqCqK6uHPnDjZu3IiLFy+irKwM/fv3x7Bhw5TXV61apYxWLSkp
wYgRIxAeHg7gt5GcOp0Ot2/fxquvvoq2bdsCAIqKirBu3ToUFxdDCIEJEyagY8eOAID3338fBQUF
KCwsxLVr1/C73/1OmU8GAD766CPs27cPOp0OHTp0QGxsLAwGA7Zs2YL27dtj4MCByrbJycno2LEj
+vfvX+UxAWDatGkYNWoU9uzZg5KSErz66qvKqFQitZgQSFPWrl2LJk2aAABKS0sBANu3b0fTpk2x
aNEilJSUYMGCBfD39zd7GMiRI0cwc+ZM5b0m7733Hp5//nkEBgZaHGvDhg0YNGgQevbsiStXruDv
f/87li5dCuDe3UlRURFmzpwJ4N5kYwcPHkSvXr2QnZ2Nb775Bm+88QZcXFyQnJyMDz74AE8//TS8
vb3x008/wWg04uLFiwgICMDPP/+MiIiIao9pcunSJSxevLh+TihROUwIpClxcXHKL2bTxGyHDx9G
fHw8AMBgMGDgwIH47rvvlISg0+kwdOhQi2QAAA899BDWrFmDXr16ITw83Gx++SNHjqCwsBAffvgh
gHsJ6MaNG8pzIEJDQ6HX36t17du3L06cOIFevXrh0KFDiIyMhIvLvX+vIUOGYMWKFUpCOHbsGL76
6iusW7cO8+fPx9WrV5Upias7JgCMGjWqns4mkTkmBJJC+Sm5hBAW7QvWpux65JFHMGDAABw6dAjL
ly/HqFGj0K9fPwCAXq/Ha6+9VmkiqeyY5R80U34Wyoqz3hYUFGD37t1ISEjAjh07cOfOHXh4eNTo
mES2xEZl0rz7778fn3/+OYB77QkZGRno2bNnjd5rNBrRuHFj9O3bF+Hh4Th16pTyWp8+fbBlyxaz
bU2EEPj2229x9+5d3L17F1988YVyR9KzZ0/85z//Uaq0duzYgV69egEAmjVrhkuXLqFdu3YICwvD
5cuX4e7uXqNjEtka7xBIs0x3AaNGjcLGjRvx+uuvw2g0YsCAAejWrVul21aUkpKC06dPQwiBFi1a
4M9//rPyWkxMDFJSUjBr1iy4urrCy8sLU6dOVfbn4+ODpUuX4urVq3jwwQfRpUsXAED37t1x4cIF
zJs3D3q9Hh06dEBUVJSy31atWmHo0KEA7lVZHT58uEbHrCoOovrA6a+J6mDr1q1wc3PDiBEjHF0U
onrDKiOiOuKvdZIN7xCIiAgA7xCIiOhXTAhERASACYGIiH7FhEBERACYEIiI6FdMCEREBAD4Pz6f
IaOaUMJ+AAAAAElFTkSuQmCC
"
>
</div>

</div>

</div>
</div>

</div>
<div class="cell border-box-sizing code_cell rendered">
<div class="input">
<div class="prompt input_prompt">In&nbsp;[49]:</div>
<div class="inner_cell">
    <div class="input_area">
<div class=" highlight hl-ipython3"><pre><span></span><span class="kn">from</span> <span class="nn">pandas.tools.plotting</span> <span class="k">import</span> <span class="n">scatter_matrix</span>
<span class="n">scatter_matrix</span><span class="p">(</span><span class="n">mtcars</span><span class="p">[[</span><span class="s1">&#39;mpg&#39;</span><span class="p">,</span> <span class="s1">&#39;hp&#39;</span><span class="p">,</span> <span class="s1">&#39;cyl&#39;</span><span class="p">]],</span> 
               <span class="n">figsize</span> <span class="o">=</span> <span class="p">(</span><span class="mi">10</span><span class="p">,</span> <span class="mi">6</span><span class="p">),</span> <span class="n">alpha</span> <span class="o">=</span> <span class="mi">1</span><span class="p">,</span> <span class="n">diagonal</span><span class="o">=</span><span class="s1">&#39;kde&#39;</span><span class="p">)</span>
</pre></div>

    </div>
</div>
</div>

<div class="output_wrapper">
<div class="output">


<div class="output_area">

    <div class="prompt output_prompt">Out[49]:</div>




<div class="output_text output_subarea output_execute_result">
<pre>array([[&lt;matplotlib.axes.AxesSubplot object at 0x109811350&gt;,
        &lt;matplotlib.axes.AxesSubplot object at 0x10990a910&gt;,
        &lt;matplotlib.axes.AxesSubplot object at 0x1099899d0&gt;],
       [&lt;matplotlib.axes.AxesSubplot object at 0x1099eacd0&gt;,
        &lt;matplotlib.axes.AxesSubplot object at 0x109c6cc90&gt;,
        &lt;matplotlib.axes.AxesSubplot object at 0x109cd0b90&gt;],
       [&lt;matplotlib.axes.AxesSubplot object at 0x109d4dc50&gt;,
        &lt;matplotlib.axes.AxesSubplot object at 0x109d89d90&gt;,
        &lt;matplotlib.axes.AxesSubplot object at 0x109f3ca50&gt;]], dtype=object)</pre>
</div>

</div>

<div class="output_area">

    <div class="prompt"></div>




<div class="output_png output_subarea ">
<img src="data:image/png;base64,iVBORw0KGgoAAAANSUhEUgAAAmMAAAGCCAYAAACsOMTHAAAABHNCSVQICAgIfAhkiAAAAAlwSFlz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"
>
</div>

</div>

</div>
</div>

</div>
<div class="cell border-box-sizing text_cell rendered"><div class="prompt input_prompt">
</div><div class="inner_cell">
<div class="text_cell_render border-box-sizing rendered_html">
<h1 id="Working-on-the-command-line">Working on the command line<a class="anchor-link" href="#Working-on-the-command-line">&#182;</a></h1><p>Now we will discuss working on the command line. For this section and the next section on git and GitHub we will use slides from the <a href="https://github.com/DataScienceSpecialization/courses/tree/master/01_DataScientistToolbox">Data Science Specialization</a> course on Coursera.  These slides are available from</p>
<ul>
<li><a href="https://github.com/DataScienceSpecialization/courses/tree/master/01_DataScientistToolbox/02_03_commandLineInterface">Command line interface</a> </li>
</ul>

</div>
</div>
</div>
<div class="cell border-box-sizing text_cell rendered"><div class="prompt input_prompt">
</div><div class="inner_cell">
<div class="text_cell_render border-box-sizing rendered_html">
<h1 id="Introduction-to-git-and-GitHub">Introduction to git and GitHub<a class="anchor-link" href="#Introduction-to-git-and-GitHub">&#182;</a></h1><p>Next we introduce git and GitHub. For this section we will also use slides from <a href="https://github.com/DataScienceSpecialization/courses/tree/master/01_DataScientistToolbox">Data Science Specialization</a> course on Coursera.  These slides are available from</p>
<ul>
<li><a href="https://github.com/DataScienceSpecialization/courses/tree/master/01_DataScientistToolbox/02_04_01_introToGit">Introduction to git</a> </li>
<li><a href="https://github.com/DataScienceSpecialization/courses/tree/master/01_DataScientistToolbox/02_05_github">Github</a></li>
<li><a href="https://github.com/DataScienceSpecialization/courses/tree/master/01_DataScientistToolbox/02_06_01_createNewRepo">Create a new repo</a></li>
<li><a href="https://github.com/DataScienceSpecialization/courses/tree/master/01_DataScientistToolbox/02_06_02_forkRepo">Fork a repository</a></li>
<li><a href="https://github.com/DataScienceSpecialization/courses/tree/master/01_DataScientistToolbox/02_07_01_basicGitCommands">Basic git commands</a></li>
<li><a href="https://github.com/DataScienceSpecialization/courses/tree/master/01_DataScientistToolbox/02_07_02_gitWorkflow">git workflow</a></li>
</ul>
<p>Other useful resources for learning git and github:</p>
<ul>
<li><a href="https://try.github.io/levels/1/challenges/1">Interactive tutorial to learn git (only takes under 15 mins to complete!)</a></li>
<li><a href="https://guides.github.com">Github guides</a></li>
<li><a href="http://rogerdudler.github.io/git-guide/">git - the simple guide</a></li>
<li><a href="https://www.youtube.com/user/GitHubGuides">Github Youtube videos</a></li>
</ul>

</div>
</div>
</div>
<div class="cell border-box-sizing text_cell rendered"><div class="prompt input_prompt">
</div><div class="inner_cell">
<div class="text_cell_render border-box-sizing rendered_html">
<h1 id="Your-turn">Your turn<a class="anchor-link" href="#Your-turn">&#182;</a></h1><ul>
<li>If you don't have a github account yet, <a href="https://github.com/join">register for a github account</a></li>
<li>Use <code>git clone</code> to clone the <a href="https://github.com/cs109/2014">CS109 2014 course repository</a> on Github</li>
<li>Use <code>git clone</code> to clone the <a href="https://github.com/cs109/2014_data">CS109 2014 data repository</a> on Github</li>
</ul>

</div>
</div>
</div>
<div class="cell border-box-sizing code_cell rendered">
<div class="input">
<div class="prompt input_prompt">In&nbsp;[&nbsp;]:</div>
<div class="inner_cell">
    <div class="input_area">
<div class=" highlight hl-ipython3"><pre><span></span> 
</pre></div>

    </div>
</div>
</div>

</div>
 


    </div>
  </div>

  </div>


  
    <footer class="footer hidden-print">
      <div class="container">
        <div class="col-md-4">
          <p>
            This website does not host notebooks, it only renders notebooks
            available on other websites.
          </p>
        </div>

        <div class="col-md-4">
          <p>
            Delivered by <a href="http://www.fastly.com/">Fastly</a>,
            Rendered by <a href="https://developer.rackspace.com/?nbviewer=awesome">Rackspace</a>
          </p>
          <p>
            nbviewer GitHub <a href="https://github.com/jupyter/nbviewer">repository</a>.
          </p>
        </div>

        <div class="col-md-4">
          
  
            
              <p>
                nbviewer version:
                <a href="https://github.com/jupyter/nbviewer/commit/f69705373d1402afd924a77712e7c63659e2b57f">
                  f697053
                </a>
              </p>
            
          
  
  <p>
    nbconvert version: <a href="https://github.com/jupyter/nbconvert/releases/tag/5.4.1">
      5.4.1
    </a>
  </p>
  

          
  
  
  <p>
    Rendered
    <span class='date' data-date='Sat, 25 May 2019 18:54:20 UTC' title='Sat, 25 May 2019 18:54:20 UTC'>(Sat, 25 May 2019 18:54:20 UTC)</span>
  </p>
  

        </div>
      </div>
    </footer>
  

  <script src="/static/components/bootstrap/js/bootstrap.min.js?v=5869c96cc8f19086aee625d670d741f9"></script>
  <script src="/static/components/headroom.js/dist/headroom.min.js?v=b0a311ea668f8e768ea375f4a7abb81c"></script>
  <script src="/static/components/headroom.js/dist/jQuery.headroom.min.js?v=f3a1bae118315d0c234afc74dc6aab71"></script>

  
  
  <script>
    $(function(){ $("#menubar").headroom({
      tolerance: 5,
      offset: 205,
      classes: {
        initial: "animated",
        pinned: "slideInDown",
        unpinned: "slideOutUp"
      }
    })});
  </script>


  
  <script>
    (function(i,s,o,g,r,a,m){i['GoogleAnalyticsObject']=r;i[r]=i[r]||function(){
      (i[r].q=i[r].q||[]).push(arguments)},i[r].l=1*new Date();a=s.createElement(o),
      m=s.getElementsByTagName(o)[0];a.async=1;a.src=g;m.parentNode.insertBefore(a,m)
    })(window,document,'script','https://www.google-analytics.com/analytics.js','ga');
    ga('create', 'UA-52617120-5', 'auto',
       {'storage': 'none'});
    ga('set', 'anonymizeIp', true);
    ga('send', 'pageview');
  </script>
  
  <script>
    require({
        paths: {
          moment: "/static/components/moment/min/moment.min.js?v=89f87298ad94aa1e6b92f42eb66da043"
        }
      }, ["moment"], function(moment){
      var date = $("footer .date"),
        m = moment(new Date(date.data('date'))),
        update = function(){ date.text(m.fromNow()); };
      setInterval(update, 61*1000);
      update();
      var w = $(window).scroll(function(event){
        $("body").toggleClass("scrolled", w.scrollTop() > 0);
      });
    });
  </script>

  <!--NEW RELIC Stop Perf Measurement-->
  
  <!--NEW RELIC End-->
</body>
</html>