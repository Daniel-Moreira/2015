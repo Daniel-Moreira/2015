








<!DOCTYPE html>
<html lang="en">

<head>
  <meta charset="utf-8">
  <title>Jupyter Notebook Viewer</title>
  <meta name="viewport" content="width=device-width, initial-scale=1.0">
  <meta name="description" content="">
  <meta name="author" content="">
  
  <meta name="robots" content="noindex,nofollow">
  

  <!--NEW RELIC Start Perf Measurement-->
  
  <!--NREND-->

  <!-- Le styles -->
  <link href="/static/build/styles.css?v=55ba354138253381d2c0ada9821cd4da" rel="stylesheet">

  <!-- Le HTML5 shim, for IE6-8 support of HTML5 elements -->
  <!--[if lt IE 9]>
    <script src="http://html5shim.googlecode.com/svn/trunk/html5.js"></script>
  <![endif]-->

  <!-- Le fav and touch icons -->
  <link rel="shortcut icon" href="/static/ico/ipynb_icon_16x16.png">
  <link rel="apple-touch-icon-precomposed" sizes="144x144"
        href="/static/ico/apple-touch-icon-144-precomposed.png?v=5a3c9ede93e2a8b8ea9e3f8f3da1a905">
  <link rel="apple-touch-icon-precomposed" sizes="114x114"
        href="/static/ico/apple-touch-icon-114-precomposed.png?v=45d86fc8f24dc00638035e1dd7a6d898">
  <link rel="apple-touch-icon-precomposed" sizes="72x72"
        href="/static/ico/apple-touch-icon-72-precomposed.png?v=540b5eb0f3cfd25f1439d1c9bd30e15f">
  <link rel="apple-touch-icon-precomposed"
        href="/static/ico/apple-touch-icon-57-precomposed.png?v=225f0590e187e1458625654f10a28f56">
  
  

  

  
  <meta name="twitter:card" content="summary">
  <meta name="twitter:title" content="Notebook on nbviewer">
  <meta name="twitter:description" content="Check out this Jupyter notebook!">

  
  <meta name="twitter:domain" content="nbviewer.jupyter.org">
  <meta name="twitter:image:src" content="http://ipython.org/ipython-doc/dev/_images/ipynb_icon_128x128.png">

  
    <link href="/static/build/notebook.css?v=aae8f92f7e80fc468ae446b9d852fe90" rel="stylesheet">
  

  

  
    <script src="https://cdnjs.cloudflare.com/ajax/libs/mathjax/2.7.1/MathJax.js?config=TeX-AMS_HTML" type="text/javascript">
    </script>
    <script type="text/javascript">
      init_mathjax = function() {
        if (window.MathJax) {
          // MathJax loaded
          MathJax.Hub.Config({
            TeX: {
              equationNumbers: {
                autoNumber: "AMS",
                useLabelIds: true
              }
            },
            tex2jax: {
              inlineMath: [ ['$','$'], ["\\(","\\)"] ],
              displayMath: [ ['$$','$$'], ["\\[","\\]"] ],
              processEscapes: true,
              processEnvironments: true
            },
            displayAlign: 'center',
            "HTML-CSS": {
              styles: {'.MathJax_Display': {"margin": 0}},
              linebreaks: { automatic: true }
            }
          });
          MathJax.Hub.Queue(["Typeset", MathJax.Hub]);
        }
      }
      init_mathjax();
    </script>
  

  
    <script>
      (function() {
        function addWidgetsRenderer() {
          var mimeElement = document.querySelector('script[type="application/vnd.jupyter.widget-view+json"]');
          var scriptElement = document.createElement('script');
          var widgetRendererSrc = 'https://unpkg.com/@jupyter-widgets/html-manager@0.15/dist/embed-amd.js';
          var widgetState;

          try {
            widgetState = mimeElement && JSON.parse(mimeElement.innerHTML);

            if (widgetState && (widgetState.version_major < 2 || !widgetState.version_major)) {
              widgetRendererSrc = 'https://unpkg.com/jupyter-js-widgets@2.1/dist/embed.js';
            }
          } catch(e) {}

          scriptElement.src = widgetRendererSrc;
          document.body.appendChild(scriptElement);
        }

        document.addEventListener('DOMContentLoaded', addWidgetsRenderer);
      }());
    </script>
  

</head>

<body class="nbviewer">

  <!-- These are loaded at the top of the body so they are available to
       notebook cells when they are loaded below. -->
  <script src="/static/components/jquery/dist/jquery.min.js?v=a09e13ee94d51c524b7e2a728c7d4039"></script>
  <script src="/static/components/requirejs/require.js?v=6da8be361b9ee26c5e721e76c6d4afce"></script>
  <script src="/static/components/moment/min/moment.min.js?v=89f87298ad94aa1e6b92f42eb66da043"></script>
<!-- Navbar
================================================== -->
  <nav id="menubar" class="navbar navbar-default navbar-fixed-top" data-spy="affix">
    <div class="container">
      <div class="navbar-header">
        <button type="button" class="navbar-toggle collapsed" data-toggle="collapse" data-target=".navbar-collapse">
          <span class="sr-only">Toggle navigation</span>
          <i class="fa fa-bars"></i>
        </button>
        <a class="navbar-brand" href="/">
          <img src="/static/img/nav_logo.svg?v=479cefe8d932fb14a67b93911b97d70f" width="159"/>
        </a>
      </div>

      <div class="collapse navbar-collapse">
        <ul class="nav navbar-nav navbar-right">
          <li>
            <a class="active" href="http://jupyter.org">JUPYTER</a>
          </li>
          <li>
    <a href="/faq" title="FAQ" >
      
        <span>FAQ</span>
      
    </a>
  </li>

          
  
    
  
    
      
        <li>
    <a href="/format/script/github/cs109/2014/blob/master/labs/Lab2_Notes.ipynb" title="View as Code" >
      <span class="fa fa-code fa-2x menu-icon"></span>
      <span class="menu-text">View as Code</span>
    </a>
  </li>
      
    
  

  

  
    <li>
    <a href="https://github.com/cs109/2014/blob/master/labs/Lab2_Notes.ipynb" title="View on GitHub" >
      <span class="fa fa-github fa-2x menu-icon"></span>
      <span class="menu-text">View on GitHub</span>
    </a>
  </li>
  

  
    <li>
    <a href="https://mybinder.org/v2/gh/cs109/2014/master?filepath=labs/Lab2_Notes.ipynb" title="Execute on Binder" >
      <span class="fa fa-icon-binder fa-2x menu-icon"></span>
      <span class="menu-text">Execute on Binder</span>
    </a>
  </li>
  

  <li>
    <a href="https://raw.githubusercontent.com/cs109/2014/master/labs/Lab2_Notes.ipynb" title="Download Notebook" download>
      <span class="fa fa-download fa-2x menu-icon"></span>
      <span class="menu-text">Download Notebook</span>
    </a>
  </li>

        </ul>
      </div><!-- /.navbar-collapse -->
      
      
    </div>
  </nav>

  <div class="container container-main">
    
  
  <ol class="breadcrumb">
    
      <li>
        <a href="/github/cs109/2014/tree/master">2014</a>
      </li>
    
      <li>
        <a href="/github/cs109/2014/tree/master/labs">labs</a>
      </li>
    
  </ol>
  
  <div id="notebook">
    <div id="notebook-container">
      
<div class="cell border-box-sizing code_cell rendered">
<div class="input">
<div class="prompt input_prompt">In&nbsp;[1]:</div>
<div class="inner_cell">
    <div class="input_area">
<div class=" highlight hl-ipython3"><pre><span></span><span class="c1"># special IPython command to prepare the notebook for matplotlib</span>
<span class="o">%</span><span class="k">matplotlib</span> inline 

<span class="kn">import</span> <span class="nn">pandas</span> <span class="k">as</span> <span class="nn">pd</span>
<span class="kn">import</span> <span class="nn">matplotlib.pyplot</span> <span class="k">as</span> <span class="nn">plt</span>

<span class="n">pd</span><span class="o">.</span><span class="n">options</span><span class="o">.</span><span class="n">display</span><span class="o">.</span><span class="n">mpl_style</span> <span class="o">=</span> <span class="s1">&#39;default&#39;</span>
</pre></div>

    </div>
</div>
</div>

</div>
<div class="cell border-box-sizing text_cell rendered"><div class="prompt input_prompt">
</div><div class="inner_cell">
<div class="text_cell_render border-box-sizing rendered_html">
<h2 id="Recall-from-From-Verena's-lecture-on-Tuesday-9/4/2014">Recall from From Verena's lecture on Tuesday 9/4/2014<a class="anchor-link" href="#Recall-from-From-Verena's-lecture-on-Tuesday-9/4/2014">&#182;</a></h2><p>Previously discussed:</p>
<ul>
<li>How to load a .txt file into a pandas DataFrame</li>
<li>Bar plots in matplotlib</li>
<li>Selecting a column from a DataFrame (subFrame)</li>
</ul>

</div>
</div>
</div>
<div class="cell border-box-sizing text_cell rendered"><div class="prompt input_prompt">
</div><div class="inner_cell">
<div class="text_cell_render border-box-sizing rendered_html">
<h2 id="Today,-we-will-discuss-the-following:">Today, we will discuss the following:<a class="anchor-link" href="#Today,-we-will-discuss-the-following:">&#182;</a></h2><ul>
<li>Reading in a CSV file into a pandas DataFrame</li>
<li>Using histograms, scatterplots and boxplots as exploratory data analysis</li>
<li>Summary statistics</li>
<li>Functions to access a pandas DataFrame</li>
<li>Defining your own functions and using loops</li>
</ul>
<p><a href=https://raw.githubusercontent.com/cs109/2014/master/labs/Lab2_Notes.ipynb download=HW1.ipynb> Download this notebook from Github </a></p>
<h4 id="Important:-Tips-for-good-Python-Coding-Practices">Important: Tips for good Python Coding Practices<a class="anchor-link" href="#Important:-Tips-for-good-Python-Coding-Practices">&#182;</a></h4><ol>
<li>Always comment the code, avoiding inline comments</li>
<li>Define functions to do commands that you have to do repeatedly; use docstrings when defining a function.</li>
<li>Use xrange instead of range when simply iterating a procedure N times (iterator instead of actual list built in memory).</li>
<li>Be aware of what parts of the code take the most time to run and plan accordingly (especially web requests, they tend to take a while)</li>
<li>Don't write long lines (we shouldn't have to scroll to see the whole line of code)</li>
</ol>
<h2 id="Diamonds-Data">Diamonds Data<a class="anchor-link" href="#Diamonds-Data">&#182;</a></h2><p>This data set contains the prices and other attributes of almost 54,000 diamonds. This dataset is available on Github in the <a href="https://github.com/cs109/2014_data">2014_data repository</a> and is called <code>diamonds.csv</code>.</p>

</div>
</div>
</div>
<div class="cell border-box-sizing text_cell rendered"><div class="prompt input_prompt">
</div><div class="inner_cell">
<div class="text_cell_render border-box-sizing rendered_html">
<h2 id="Reading-in-the-diamonds-data-(CSV-file)-from-the-web">Reading in the diamonds data (CSV file) from the web<a class="anchor-link" href="#Reading-in-the-diamonds-data-(CSV-file)-from-the-web">&#182;</a></h2><p>This is a <code>.csv</code> file, so we will use the function <code>read_csv()</code> that will read in a CSV file into a pandas DataFrame.</p>

</div>
</div>
</div>
<div class="cell border-box-sizing code_cell rendered">
<div class="input">
<div class="prompt input_prompt">In&nbsp;[2]:</div>
<div class="inner_cell">
    <div class="input_area">
<div class=" highlight hl-ipython3"><pre><span></span><span class="n">url</span> <span class="o">=</span> <span class="s1">&#39;https://raw.githubusercontent.com/cs109/2014_data/master/diamonds.csv&#39;</span>
<span class="n">diamonds</span> <span class="o">=</span> <span class="n">pd</span><span class="o">.</span><span class="n">read_csv</span><span class="p">(</span><span class="n">url</span><span class="p">,</span> <span class="n">sep</span> <span class="o">=</span> <span class="s1">&#39;,&#39;</span><span class="p">,</span> <span class="n">index_col</span><span class="o">=</span><span class="mi">0</span><span class="p">)</span>
<span class="n">diamonds</span><span class="o">.</span><span class="n">head</span><span class="p">()</span>
</pre></div>

    </div>
</div>
</div>

<div class="output_wrapper">
<div class="output">


<div class="output_area">

    <div class="prompt output_prompt">Out[2]:</div>



<div class="output_html rendered_html output_subarea output_execute_result">
<div style="max-height:1000px;max-width:1500px;overflow:auto;">
<table border="1" class="dataframe">
  <thead>
    <tr style="text-align: right;">
      <th></th>
      <th>carat</th>
      <th>cut</th>
      <th>color</th>
      <th>clarity</th>
      <th>depth</th>
      <th>table</th>
      <th>price</th>
      <th>x</th>
      <th>y</th>
      <th>z</th>
    </tr>
  </thead>
  <tbody>
    <tr>
      <th>1</th>
      <td> 0.23</td>
      <td>   Ideal</td>
      <td> E</td>
      <td> SI2</td>
      <td> 61.5</td>
      <td> 55</td>
      <td> 326</td>
      <td> 3.95</td>
      <td> 3.98</td>
      <td> 2.43</td>
    </tr>
    <tr>
      <th>2</th>
      <td> 0.21</td>
      <td> Premium</td>
      <td> E</td>
      <td> SI1</td>
      <td> 59.8</td>
      <td> 61</td>
      <td> 326</td>
      <td> 3.89</td>
      <td> 3.84</td>
      <td> 2.31</td>
    </tr>
    <tr>
      <th>3</th>
      <td> 0.23</td>
      <td>    Good</td>
      <td> E</td>
      <td> VS1</td>
      <td> 56.9</td>
      <td> 65</td>
      <td> 327</td>
      <td> 4.05</td>
      <td> 4.07</td>
      <td> 2.31</td>
    </tr>
    <tr>
      <th>4</th>
      <td> 0.29</td>
      <td> Premium</td>
      <td> I</td>
      <td> VS2</td>
      <td> 62.4</td>
      <td> 58</td>
      <td> 334</td>
      <td> 4.20</td>
      <td> 4.23</td>
      <td> 2.63</td>
    </tr>
    <tr>
      <th>5</th>
      <td> 0.31</td>
      <td>    Good</td>
      <td> J</td>
      <td> SI2</td>
      <td> 63.3</td>
      <td> 58</td>
      <td> 335</td>
      <td> 4.34</td>
      <td> 4.35</td>
      <td> 2.75</td>
    </tr>
  </tbody>
</table>
</div>
</div>

</div>

</div>
</div>

</div>
<div class="cell border-box-sizing text_cell rendered"><div class="prompt input_prompt">
</div><div class="inner_cell">
<div class="text_cell_render border-box-sizing rendered_html">
<p>Here is a table containing a description of all the column names.</p>
<table>
<thead><tr>
<th>Column name</th>
<th>Description </th>
</tr>
</thead>
<tbody>
<tr>
<td>carat</td>
<td>weight of the diamond (0.2–5.01)</td>
</tr>
<tr>
<td>cut</td>
<td>quality of the cut (Fair, Good, Very Good, Premium, Ideal)</td>
</tr>
<tr>
<td>colour</td>
<td>diamond colour, from J (worst) to D (best)</td>
</tr>
<tr>
<td>clarity</td>
<td>a measurement of how clear the diamond is (I1 (worst), SI1, SI2, VS1, VS2, VVS1, VVS2, IF (best))</td>
</tr>
<tr>
<td>depth</td>
<td>total depth percentage = z / mean(x, y) = 2 * z / (x + y) (43–79)</td>
</tr>
<tr>
<td>table</td>
<td>width of top of diamond relative to widest point (43–95)</td>
</tr>
<tr>
<td>price</td>
<td>price in US dollars (\$326–\$18,823)</td>
</tr>
<tr>
<td>x</td>
<td>length in mm (0–10.74)</td>
</tr>
<tr>
<td>y</td>
<td>width in mm (0–58.9)</td>
</tr>
<tr>
<td>z</td>
<td>depth in mm (0–31.8)</td>
</tr>
</tbody>
</table>

</div>
</div>
</div>
<div class="cell border-box-sizing text_cell rendered"><div class="prompt input_prompt">
</div><div class="inner_cell">
<div class="text_cell_render border-box-sizing rendered_html">
<h2 id="Exploratory-Data-Analysis-(EDA)">Exploratory Data Analysis (EDA)<a class="anchor-link" href="#Exploratory-Data-Analysis-(EDA)">&#182;</a></h2><p>The variables <code>carat</code> and <code>price</code> are both continuous variables, while <code>color</code> and <code>clarity</code> are discrete variables. First, let's look at some summary statistics of the diamonds data set.</p>

</div>
</div>
</div>
<div class="cell border-box-sizing code_cell rendered">
<div class="input">
<div class="prompt input_prompt">In&nbsp;[3]:</div>
<div class="inner_cell">
    <div class="input_area">
<div class=" highlight hl-ipython3"><pre><span></span><span class="n">diamonds</span><span class="o">.</span><span class="n">describe</span><span class="p">()</span>
</pre></div>

    </div>
</div>
</div>

<div class="output_wrapper">
<div class="output">


<div class="output_area">

    <div class="prompt output_prompt">Out[3]:</div>



<div class="output_html rendered_html output_subarea output_execute_result">
<div style="max-height:1000px;max-width:1500px;overflow:auto;">
<table border="1" class="dataframe">
  <thead>
    <tr style="text-align: right;">
      <th></th>
      <th>carat</th>
      <th>depth</th>
      <th>table</th>
      <th>price</th>
      <th>x</th>
      <th>y</th>
      <th>z</th>
    </tr>
  </thead>
  <tbody>
    <tr>
      <th>count</th>
      <td> 53940.000000</td>
      <td> 53940.000000</td>
      <td> 53940.000000</td>
      <td> 53940.000000</td>
      <td> 53940.000000</td>
      <td> 53940.000000</td>
      <td> 53940.000000</td>
    </tr>
    <tr>
      <th>mean</th>
      <td>     0.797940</td>
      <td>    61.749405</td>
      <td>    57.457184</td>
      <td>  3932.799722</td>
      <td>     5.731157</td>
      <td>     5.734526</td>
      <td>     3.538734</td>
    </tr>
    <tr>
      <th>std</th>
      <td>     0.474011</td>
      <td>     1.432621</td>
      <td>     2.234491</td>
      <td>  3989.439738</td>
      <td>     1.121761</td>
      <td>     1.142135</td>
      <td>     0.705699</td>
    </tr>
    <tr>
      <th>min</th>
      <td>     0.200000</td>
      <td>    43.000000</td>
      <td>    43.000000</td>
      <td>   326.000000</td>
      <td>     0.000000</td>
      <td>     0.000000</td>
      <td>     0.000000</td>
    </tr>
    <tr>
      <th>25%</th>
      <td>     0.400000</td>
      <td>    61.000000</td>
      <td>    56.000000</td>
      <td>   950.000000</td>
      <td>     4.710000</td>
      <td>     4.720000</td>
      <td>     2.910000</td>
    </tr>
    <tr>
      <th>50%</th>
      <td>     0.700000</td>
      <td>    61.800000</td>
      <td>    57.000000</td>
      <td>  2401.000000</td>
      <td>     5.700000</td>
      <td>     5.710000</td>
      <td>     3.530000</td>
    </tr>
    <tr>
      <th>75%</th>
      <td>     1.040000</td>
      <td>    62.500000</td>
      <td>    59.000000</td>
      <td>  5324.250000</td>
      <td>     6.540000</td>
      <td>     6.540000</td>
      <td>     4.040000</td>
    </tr>
    <tr>
      <th>max</th>
      <td>     5.010000</td>
      <td>    79.000000</td>
      <td>    95.000000</td>
      <td> 18823.000000</td>
      <td>    10.740000</td>
      <td>    58.900000</td>
      <td>    31.800000</td>
    </tr>
  </tbody>
</table>
</div>
</div>

</div>

</div>
</div>

</div>
<div class="cell border-box-sizing text_cell rendered"><div class="prompt input_prompt">
</div><div class="inner_cell">
<div class="text_cell_render border-box-sizing rendered_html">
<p>Let's look at the distribution of carats and price using a histogram.</p>

</div>
</div>
</div>
<div class="cell border-box-sizing code_cell rendered">
<div class="input">
<div class="prompt input_prompt">In&nbsp;[4]:</div>
<div class="inner_cell">
    <div class="input_area">
<div class=" highlight hl-ipython3"><pre><span></span><span class="n">diamonds</span><span class="p">[</span><span class="s1">&#39;price&#39;</span><span class="p">]</span><span class="o">.</span><span class="n">hist</span><span class="p">(</span><span class="n">bins</span><span class="o">=</span><span class="mi">50</span><span class="p">,</span> <span class="n">color</span> <span class="o">=</span> <span class="s1">&#39;black&#39;</span><span class="p">)</span>
<span class="n">plt</span><span class="o">.</span><span class="n">title</span><span class="p">(</span><span class="s1">&#39;Distribution of Price&#39;</span><span class="p">)</span>
<span class="n">plt</span><span class="o">.</span><span class="n">xlabel</span><span class="p">(</span><span class="s1">&#39;Price&#39;</span><span class="p">)</span>
</pre></div>

    </div>
</div>
</div>

<div class="output_wrapper">
<div class="output">


<div class="output_area">

    <div class="prompt output_prompt">Out[4]:</div>




<div class="output_text output_subarea output_execute_result">
<pre>&lt;matplotlib.text.Text at 0x107793b50&gt;</pre>
</div>

</div>

<div class="output_area">

    <div class="prompt"></div>




<div class="output_png output_subarea ">
<img src="data:image/png;base64,iVBORw0KGgoAAAANSUhEUgAAAYcAAAEZCAYAAAB8culNAAAABHNCSVQICAgIfAhkiAAAAAlwSFlz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"
>
</div>

</div>

</div>
</div>

</div>
<div class="cell border-box-sizing code_cell rendered">
<div class="input">
<div class="prompt input_prompt">In&nbsp;[5]:</div>
<div class="inner_cell">
    <div class="input_area">
<div class=" highlight hl-ipython3"><pre><span></span><span class="c1"># Try changing bin size from 20 to 500. What do you notice? </span>
<span class="n">diamonds</span><span class="p">[</span><span class="s1">&#39;carat&#39;</span><span class="p">]</span><span class="o">.</span><span class="n">hist</span><span class="p">(</span><span class="n">bins</span><span class="o">=</span><span class="mi">20</span><span class="p">,</span> <span class="n">color</span> <span class="o">=</span> <span class="s1">&#39;black&#39;</span><span class="p">,</span> <span class="n">figsize</span><span class="o">=</span><span class="p">(</span><span class="mi">6</span><span class="p">,</span> <span class="mi">4</span><span class="p">))</span>
<span class="n">plt</span><span class="o">.</span><span class="n">title</span><span class="p">(</span><span class="s1">&#39;Distribution of weights in carats&#39;</span><span class="p">)</span>
<span class="n">plt</span><span class="o">.</span><span class="n">xlim</span><span class="p">(</span><span class="mi">0</span><span class="p">,</span> <span class="mi">3</span><span class="p">)</span>
<span class="n">plt</span><span class="o">.</span><span class="n">xlabel</span><span class="p">(</span><span class="s1">&#39;Weight in Carats&#39;</span><span class="p">)</span>
</pre></div>

    </div>
</div>
</div>

<div class="output_wrapper">
<div class="output">


<div class="output_area">

    <div class="prompt output_prompt">Out[5]:</div>




<div class="output_text output_subarea output_execute_result">
<pre>&lt;matplotlib.text.Text at 0x10810bf90&gt;</pre>
</div>

</div>

<div class="output_area">

    <div class="prompt"></div>




<div class="output_png output_subarea ">
<img src="data:image/png;base64,iVBORw0KGgoAAAANSUhEUgAAAYcAAAEZCAYAAAB8culNAAAABHNCSVQICAgIfAhkiAAAAAlwSFlz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"
>
</div>

</div>

</div>
</div>

</div>
<div class="cell border-box-sizing text_cell rendered"><div class="prompt input_prompt">
</div><div class="inner_cell">
<div class="text_cell_render border-box-sizing rendered_html">
<p>Plot the density of the price of the diamonds</p>

</div>
</div>
</div>
<div class="cell border-box-sizing code_cell rendered">
<div class="input">
<div class="prompt input_prompt">In&nbsp;[6]:</div>
<div class="inner_cell">
    <div class="input_area">
<div class=" highlight hl-ipython3"><pre><span></span><span class="n">diamonds</span><span class="p">[</span><span class="s1">&#39;price&#39;</span><span class="p">]</span><span class="o">.</span><span class="n">plot</span><span class="p">(</span><span class="n">kind</span><span class="o">=</span><span class="s1">&#39;kde&#39;</span><span class="p">,</span> <span class="n">color</span> <span class="o">=</span> <span class="s1">&#39;black&#39;</span><span class="p">)</span>
<span class="n">plt</span><span class="o">.</span><span class="n">title</span><span class="p">(</span><span class="s1">&#39;Distribution of Price&#39;</span><span class="p">)</span>
</pre></div>

    </div>
</div>
</div>

<div class="output_wrapper">
<div class="output">


<div class="output_area">

    <div class="prompt output_prompt">Out[6]:</div>




<div class="output_text output_subarea output_execute_result">
<pre>&lt;matplotlib.text.Text at 0x10831fdd0&gt;</pre>
</div>

</div>

<div class="output_area">

    <div class="prompt"></div>




<div class="output_png output_subarea ">
<img src="data:image/png;base64,iVBORw0KGgoAAAANSUhEUgAAAagAAAEKCAYAAABHZsElAAAABHNCSVQICAgIfAhkiAAAAAlwSFlz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"
>
</div>

</div>

</div>
</div>

</div>
<div class="cell border-box-sizing text_cell rendered"><div class="prompt input_prompt">
</div><div class="inner_cell">
<div class="text_cell_render border-box-sizing rendered_html">
<p>Now, let's look at the relationship between the price of a diamond and its weight in carats. Try changing alpha (ranges from 0 to 1) to control over plotting.</p>

</div>
</div>
</div>
<div class="cell border-box-sizing code_cell rendered">
<div class="input">
<div class="prompt input_prompt">In&nbsp;[7]:</div>
<div class="inner_cell">
    <div class="input_area">
<div class=" highlight hl-ipython3"><pre><span></span><span class="n">diamonds</span><span class="o">.</span><span class="n">plot</span><span class="p">(</span><span class="n">x</span><span class="o">=</span><span class="s1">&#39;carat&#39;</span><span class="p">,</span> <span class="n">y</span><span class="o">=</span><span class="s1">&#39;price&#39;</span><span class="p">,</span> <span class="n">kind</span> <span class="o">=</span> <span class="s1">&#39;scatter&#39;</span><span class="p">,</span> <span class="n">color</span> <span class="o">=</span> <span class="s1">&#39;black&#39;</span><span class="p">,</span> <span class="n">alpha</span> <span class="o">=</span> <span class="mi">1</span><span class="p">)</span>
</pre></div>

    </div>
</div>
</div>

<div class="output_wrapper">
<div class="output">


<div class="output_area">

    <div class="prompt output_prompt">Out[7]:</div>




<div class="output_text output_subarea output_execute_result">
<pre>&lt;matplotlib.axes.AxesSubplot at 0x10a1cb1d0&gt;</pre>
</div>

</div>

<div class="output_area">

    <div class="prompt"></div>




<div class="output_png output_subarea ">
<img src="data:image/png;base64,iVBORw0KGgoAAAANSUhEUgAAAZAAAAEQCAYAAACeDyIUAAAABHNCSVQICAgIfAhkiAAAAAlwSFlz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=
"
>
</div>

</div>

</div>
</div>

</div>
<div class="cell border-box-sizing text_cell rendered"><div class="prompt input_prompt">
</div><div class="inner_cell">
<div class="text_cell_render border-box-sizing rendered_html">
<p>We can also create a scatter plot using matplotlib.pyplot instead of pandas directly.</p>

</div>
</div>
</div>
<div class="cell border-box-sizing code_cell rendered">
<div class="input">
<div class="prompt input_prompt">In&nbsp;[8]:</div>
<div class="inner_cell">
    <div class="input_area">
<div class=" highlight hl-ipython3"><pre><span></span><span class="n">plt</span><span class="o">.</span><span class="n">scatter</span><span class="p">(</span><span class="n">diamonds</span><span class="p">[</span><span class="s1">&#39;carat&#39;</span><span class="p">],</span> <span class="n">diamonds</span><span class="p">[</span><span class="s1">&#39;price&#39;</span><span class="p">],</span> <span class="n">color</span> <span class="o">=</span> <span class="s1">&#39;black&#39;</span><span class="p">,</span> <span class="n">alpha</span> <span class="o">=</span> <span class="mf">0.05</span><span class="p">)</span>
<span class="n">plt</span><span class="o">.</span><span class="n">xlabel</span><span class="p">(</span><span class="s1">&#39;Carat&#39;</span><span class="p">)</span>
<span class="n">plt</span><span class="o">.</span><span class="n">ylabel</span><span class="p">(</span><span class="s1">&#39;Price&#39;</span><span class="p">)</span>
</pre></div>

    </div>
</div>
</div>

<div class="output_wrapper">
<div class="output">


<div class="output_area">

    <div class="prompt output_prompt">Out[8]:</div>




<div class="output_text output_subarea output_execute_result">
<pre>&lt;matplotlib.text.Text at 0x10ace49d0&gt;</pre>
</div>

</div>

<div class="output_area">

    <div class="prompt"></div>




<div class="output_png output_subarea ">
<img src="data:image/png;base64,iVBORw0KGgoAAAANSUhEUgAAAZAAAAEQCAYAAACeDyIUAAAABHNCSVQICAgIfAhkiAAAAAlwSFlz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"
>
</div>

</div>

</div>
</div>

</div>
<div class="cell border-box-sizing text_cell rendered"><div class="prompt input_prompt">
</div><div class="inner_cell">
<div class="text_cell_render border-box-sizing rendered_html">
<p>Let's look at the scatter plots of <code>price</code> and <code>carat</code> but grouped by color.</p>

</div>
</div>
</div>
<div class="cell border-box-sizing code_cell rendered">
<div class="input">
<div class="prompt input_prompt">In&nbsp;[9]:</div>
<div class="inner_cell">
    <div class="input_area">
<div class=" highlight hl-ipython3"><pre><span></span><span class="n">diamonds</span><span class="o">.</span><span class="n">groupby</span><span class="p">(</span><span class="s1">&#39;color&#39;</span><span class="p">)</span><span class="o">.</span><span class="n">plot</span><span class="p">(</span><span class="n">x</span><span class="o">=</span><span class="s1">&#39;carat&#39;</span><span class="p">,</span> <span class="n">y</span><span class="o">=</span><span class="s1">&#39;price&#39;</span><span class="p">,</span> <span class="n">kind</span> <span class="o">=</span> <span class="s1">&#39;scatter&#39;</span><span class="p">,</span> <span class="n">color</span> <span class="o">=</span> <span class="s1">&#39;black&#39;</span><span class="p">,</span> <span class="n">alpha</span> <span class="o">=</span> <span class="mi">1</span><span class="p">)</span>
</pre></div>

    </div>
</div>
</div>

<div class="output_wrapper">
<div class="output">


<div class="output_area">

    <div class="prompt output_prompt">Out[9]:</div>




<div class="output_text output_subarea output_execute_result">
<pre>color
D        Axes(0.125,0.125;0.775x0.775)
E        Axes(0.125,0.125;0.775x0.775)
F        Axes(0.125,0.125;0.775x0.775)
G        Axes(0.125,0.125;0.775x0.775)
H        Axes(0.125,0.125;0.775x0.775)
I        Axes(0.125,0.125;0.775x0.775)
J        Axes(0.125,0.125;0.775x0.775)
dtype: object</pre>
</div>

</div>

<div class="output_area">

    <div class="prompt"></div>




<div class="output_png output_subarea ">
<img src="data:image/png;base64,iVBORw0KGgoAAAANSUhEUgAAAZcAAAEQCAYAAAB80zltAAAABHNCSVQICAgIfAhkiAAAAAlwSFlz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"
>
</div>

</div>

<div class="output_area">

    <div class="prompt"></div>




<div class="output_png output_subarea ">
<img src="data:image/png;base64,iVBORw0KGgoAAAANSUhEUgAAAZYAAAEQCAYAAACTEVJTAAAABHNCSVQICAgIfAhkiAAAAAlwSFlz
AAALEgAACxIB0t1+/AAAIABJREFUeJzsnXdUFFf7x79bWPouvQii2BBEsGsssaBoRKMYMfYWI8YQ
NbZYYosSI+ZVjC2KDRuiBlQwRo0dxS6IUSmKhaLS29K2/P7g7PwYtgJLGb2fc3Je5057Zt/LPHOf
ypJKpVIQCAQCgaAl2A0tAIFAIBA+LohiIRAIBIJWIYqFQCAQCFqFKBYCgUAgaBWiWAgEAoGgVYhi
IRAIBIJW4dblxXfv3o309HRIJBLMnj0b1tbWePz4MU6ePAkAGDNmDFxdXQFAa+MEAoFAaGCk9UBc
XJx09+7dUolEIv3555+lpaWl0tLSUunKlSulUqlUKhaLaz0ukUjq41EIBAKBoIY6XbHI0NPTA5fL
RXp6OmxtbcHj8QAA1tbWSE9Ph1QqrfX4u3fvYGtrWx+PQyAQCAQVsKTSus+8DwoKwtChQ1FUVIRb
t27R9vXs2RMAtDLepk0brcpNIBAIhOpT5877+/fvo0mTJrCzs4ORkRGEQiHGjx+PcePGoaioCHw+
X2vjBAKBQGh46tQU9vLlSzx9+hSTJ08GANjY2CA9PZ3a/+7dO9jY2EAikWhlXBkXLlwAh8PR5qMR
CATCR4+JiQk6d+5c7fPq1BTm5+cHc3NzsNlsODg4YNq0aYiNjaWiuXx8fODm5gYAWhtXxKVLl9Cp
U6e6eUgCgUD4SHn48CE8PDyqfV69+FgaGqYrlqioKPTu3buhxagRTJYdIPI3NET+hqWmioUkSBII
BAJBq5AVC4FAIBAUQlYsBAKBQGgUEMXCAKKiohpahBrDZNkBIn9DQ+RnJkSxEAgEAkGrEB8L4aMg
ISEBHz58gJubm9aSZUtLS7F582akpKRg7NixjIrukUgkuHjxIt6+fYuYmBiwWCzMmzcPLVu2bGjR
CAyipj6WeqkVRiDUJcuXL0dISAjy8/PRqlUrHD16FC1atKjVNSUSCcaOHYvr169DKpXi4sWL2Lhx
I7788kstSV13yGS/evUqRCIRNR4VFYWwsDA4Ojo2oHSETwFiCmMATLbT1rXsKSkpOHHiBHJzcyGR
SJCQkIBly5bV+rqJiYl49OgRZAv6jIwM7N+/v1bXvHnzJj7//HN06tQJI0aMQG5ubq3lVMTVq1dx
7do1mlIBgNevX2PLli11cs+6gslzH2C+/DWFKBYCo8nLy0NJSQltrLS0tNbX5XK5YLPpfx5Vt6tD
WVkZ5s2bhydPnuDVq1e4ceMG/Pz8aiumQvLy8lBeXq5w38WLF7Xy+xAIqiCKhQEwybZflbqWvXXr
1jS/gZGRETw9PWt93RYtWqBPnz5UawY7OzvMnz+/Rte6desWevXqheTkZNr4+/fvay2nIlxcXMDl
KrZyp6enY+fOnQr3SSQSbNq0CZMnT8avv/4KsVgMABCJRMjNzUVDuGOZPPcB5stfU4iPhcBoeDwe
Tp48iaVLlyIvLw+DBg3CjBkzan1dFouF/fv3IywsDK9fv8aXX36JsrIyjB8/HmKxGJMnT4aXl5dG
11q0aBFevHghN25nZ1drORXx+PFjOTNYZXbu3IkuXboAqOhl1Lp1a0ilUvj5+SEsLAxlZWX4559/
8PLlSwwaNAgbN26EUCiEnZ0djh49CktLyzqRm/DxQKLCGACT6w0xWXbg/+VPT0/H0KFD8fr1awCA
mZkZunTpAgcHByxcuBBWVlYKzy8vL0ezZs1o5jo2m43+/ftj7969ddLu4dGjR/D29kZ+fr7aY9ls
NpydnVFQUIC3b9/SViXW1tbg8Xh4+/YtNTZ06FAcPnxY6zIr42OZP0yFRIURCHVIZGQkpVQAIDs7
GxcuXAAA3LhxA5GRkTA3N5c7j8ViKfRpnDhxos5k7dixIyZNmoSdO3dCIpGoPFYikeC///5TuC87
O1vu/CdPnmhNTsLHC/GxMAAmf/EwWXbg/+Wv3Aq7KvHx8QgODsbTp0+xZs0a7Nu3j/JPyP63Msr8
H9qke/fuapWKOvT19eX8KvXt+P9Y5s+nBlmxED5qZC9GFotVo3MTExORl5eHzz//HJ6enrh69SqK
iorkXri3bt3C3r17kZ6eDg6Hg/Pnz+PYsWM4ffo0WCwW7fjmzZvX6pk0YdeuXUr3cTgchQqvKs7O
zkhKSkJWVhY11qpVK63IR/i4ISsWBsDkWPiGlH3FihXo2rUrunbtiuXLl1fr3DNnzqB58+bo0aMH
Bg8eDDc3N6xYsQLnzp1D//795Y5PSkqiupqKxWLcuXMH8fHxCAwMpK0cdHV1ER4eXrsHU0N0dDRu
3rypcJ+pqSmio6PRq1cvGBsbK1S4bdu2hZeXF0JCQvDVV1/ByMgIAODg4IAVK1bUqexVYfLcB5gv
f00hKxbCR8np06dx4MABFBUVAQAOHjyIzp07Y9SoUWrPLSwsxPLly1FQUECN5efnw8fHBzExMTA0
NKQdz2KxUFZWRhuTSqWQSCRypiMHBwfY2trW9LE0QpX/ZuDAgWjVqhUiIiIAAGPHjqV8RQDQrFkz
XLp0Cfr6+gCA3377DT4+PkhOTkbv3r1VtgAnEGSQFQsDYLKdVpuyZ2dn4+7du3j37p3aY+/evUsp
FQAoKirCnTt3NLrP+/fvkZGRITeen5+PyMhIXL16lTYulUqRl5cHMzMzABWRVl26dEHbtm3h7OxM
HcdisdCuXTuNZKgNqn5zU1NTWsb/li1b0KlTJ9ja2qJly5ZYtWoVpVRkdO7cGaNHj24QpcLkuQ8w
X/6aQhQLgRFcu3YNAwcOxLBhwzBw4EAcPHhQ5fGff/45BAIBtS0QCBSasBRhbGysMA/E3t4e0dHR
tJWMjOLiYnh5eeGbb77BypUrcezYMbDZbJqjXiqV4saNG5TJrCrp6elYuHAhFixYgNTUVI1kVcSo
UaPQvn17hft2794NV1dXXL9+HUBFSPHFixcRHR2N27dvY+TIkQCAf/75B+vWrVNqUiMQVEEUCwNg
sp1WW7KvXbsWr169gkgkQlpaGrZu3aoyE3zw4MHw8/ODi4sLXFxc8N1332HIkCEa3augoEDuq53H
4yEiIgJ9+vSRM4XJMDExwcaNGzFnzhzo6OgAkA/PzcrKwnfffSd37ocPHzBixAjs27cP+/fvx8iR
I5UqIE24du0axo0bp3CfUCjE6NGj8ebNGwAVKyk+nw8OhwMAWLlyJWbOnEll4f/55581lqO2KJo/
YrEYaWlpKC4u1vg6JSUlOHz4MPbt24e8vDxtiqgSJv/t1gaiWAiMoKqvoqysTGk9LBkLFixAVFQU
oqKisHjxYo3vZW9vTykGGR4eHhAIBGjVqhX1Aq6Ki4uL3FjV6wBQaGbbvXs3kpKSqO0XL17U6oUe
FxeHkJAQpftFIhHWr18vNy6RSBAZGYnCwkIAQE5Ojsrr1DcpKSkYMGAA+vfvj169emkkW3FxMb78
8kvMmTMHCxcuhJeXF7Kzs+tB2k8XolgYAJPttNqS3d3dnWZWatWqldK8ktqSm5srZwpLTExEZmYm
Dh06JJfRzmKx0Lt3b4WBAX5+fnJ5KxYWFnLHKXqW2jzfrFmz1B5z9uxZvHz5kjYmlUrlVoLq8mGC
goIwdOhQeHl54fz589UXVgVV58+PP/6IuLg4ZGRk4NWrVwgICKD50hRx9OhR3L9/n9p++vQpAgIC
tCqnMpj8t1sbiGIhMILAwED4+vqif//+mDhxIg4ePIigoCDMmTMH//zzj1bvlZubC6FQSBtLSkqi
TGlVQ3R9fHwQFhamcHUyYcIEhIaGomXLlmjWrBk+++wzhSuRWbNm0fwi7dq1q1X145SUFLXHFBYW
YuzYsYiNjaWUJYfDQd++faGnpwcA4PP5GDZsmNJrREZGYv369bh9+zaio6Mxf/58JCQk1FhudVT1
bxUVFSEnJ0flOVX/vwQgVxGboF1IuDEDYHK9IW3JzuVysXbtWmrb19cXp0+fRllZGSIjIzF//nyt
laFns9kK8ztevnyJ2NhYfPbZZ7h79y4AoGvXrggMDFSZTd+/f3/cu3dP5T35fD4iIyNx+PBhSCQS
TJo0qVZ1xExNTRUGGVQlKSkJw4cPh6mpKWbPng1fX19s3rwZnTp1wv379+Hh4YERI0YoPT8iIoIW
ZZaeno4LFy6gTZs2NZZdxrNnz/Dzzz/D3t4ey5Ytg7W1NZydnXH//n1qFWVtba02Wm38+PE4cuQI
pfCaNWtWZy0LqsLkv93aQBQLgXEUFxfj1q1bVO5Ibm4uwsPDtfaysLOzg4ODg1yZe6AijDk5ORlH
jx4FAIwbN476uq8txsbGCh37NUGW1KgJhYWFKCwsxPbt2+Hj4wMzMzNMnjwZkydPVnuuo6MjLZPf
wMBAK0rl+fPnGDt2LFUA8+7du/j7778REBAAqVSKp0+fwtjYGJs2bVJbIsfc3BynT5/G+vXrUV5e
jnnz5pEKAnUMUSwMgMlfPHUhO4vFkltR1KRkizIMDAzQp08fhYqlpKQEY8eOpVYsp0+fxvHjx3Hs
2DGcPXsW+vr68Pf3r7OS+Jpw6dIlPH36VOE+Q0NDCAQCZGZmQiwW00q75OfnIzMzk8rH0YQFCxbg
0aNHiImJAYfDweDBgzFo0KBaP8PWrVtpVZXj4+Nx4sQJzJw5E4GBgdW+nrW1dY3Oqy1M/tutDUSx
EBiHnp4ePD09cezYMQiFQlhYWGDq1Klau74sEVIZN27coEwxUVFRmDlzJq5cuUKZnhISEnDhwoVq
rRq0ydmzZ5XuKyoqwpgxYzBhwgTs27cPJ06coKLr7O3t0axZs2rdS0dHB8eOHcOHDx/A4/Fgampa
K9llVF0FslgsGBgYaOXahLqHKBYGwGQ7rbZkv337Ns6fP4/27dvD29sbv//+O/r27YvHjx9j0KBB
6NatmxakrSA9PV1lOGrlKCmJRIJ79+7R/Bnx8fF4/PgxevbsKXeuVCrFqVOnkJSUhGHDhtEy81VR
WFiI+Ph4WFlZoWnTpiqPVdYbRgaXy0WnTp3g7u4OgUCAR48ewcDAAL///jt0dXU1kqcyLBYL1tbW
1T5PFUuXLsXt27fx7NkzsFgsdO/eHT4+Plq9R33A5L/d2kAUC6HRc/DgQaxbtw6ZmZnQ19fH9evX
ERgYiOHDh2P48OF1ck82m60wzNbV1RXZ2dlIS0sDUFFOX1GdsMzMTIXXnTVrFiIiIlBSUoIDBw4g
MDBQrenoxYsXmDhxIl69egU+n49p06ZhyZIlSo9X1+BL9lwcDgf+/v4qj20oLCws8Pfff2Pjxo3U
x0RdhZcTtA8JN2YATP7i0Ybshw4dol7UxcXFuHTpksIQUm2h6ovf0tISQUFB8PT0xKBBg7B79265
+l/KvuDT09Nx9epVKtQ1PT0df/zxh1p5lixZgvj4eJSWliIjI4P2eyiiSZMmSvfxeDyl5V4aGwKB
AOvWrcPXX3/NWKXC5L/d2kBWLIRGT9WEPalUivz8fOjr68s57aVSKUQikcKcEk3Jy8tTWi4mKioK
vr6+OHbsGDWWk5OD//77j+pb0qFDB3To0EHu3NzcXLnVxOPHj5GbmwsTExOl8lTNuRAKhcjJyVGY
aAlAbgUlw8zMDB4eHpg0aRKAiux7Doej1cAHAgEgKxZGwOR6Q9qQ3cfHh3rx8ng8FBYWwsPDA336
9MGTJ08gkUhw7Ngx+Pj4wN3dHV26dMH48eOVvmDVUVhYqFSxlJeXyxXAHDZsGHbu3Alvb29MmzYN
4eHhcr6KwMBADBkyRK40TUFBAYYNG6YyobF37940Z3bz5s1VNguTFZhUdJ1du3ahtLQUY8eORZcu
XdC9e3cEBwcrvVZDw+S5DzBf/ppCViyERo+vry8cHR1x7tw5XLx4EWlpacjPz0d6ejp+/PFH2NjY
4MKFC7TaYSkpKVizZk2NfAiVE/4UwePxcPPmTezYsQMsFguLFi3CwIEDMXDgQIXHDx48WGWC5NOn
TzF8+HCEhISgbdu2cvsXL14MHo+HqKgoCAQCBAQEqFyRKTOT5eXlobCwEGvWrKH1YAkICICHhwfs
7e2VXpNAqA4sqaoSsR8Jly5dQqdOnRpaDIIW6NSpE169ekVtN2vWDHl5eQqVwZAhQ6hExuqQk5MD
FxcXhf3dORwODh06hPnz51N9YZo2bYrTp08rXEWIRCLY2Nho1H9+2LBhatsBaMKoUaPkesbIcHNz
g5mZGW0/m83GqVOnPll/AEE5Dx8+hIeHR7XPI6YwQoMjFAoREhKCkJAQtQUFq3ZftLS0VPjS5vF4
Cv0cmmBiYoKWLVsq3MfhcHDmzBlas7G3b9/i0KFDCo8Xi8UaKRVAfbFHTfn666+V7nv8+DGEQiEt
W93e3l4r2fIEggyiWBgAk+206mQvLCzEsGHD8P333+P777/H8OHDVda4OnDgADw8PODm5gZPT0+E
hISgY8eOlAOay+WiadOmGD9+PBYuXFgjmdPT0/HhwweF+/T09JCYmCg3XrnkfWXYbLbSMvuVsbW1
xezZs6slZ3h4OBYtWkS1GZahrkulubk5xowZAxcXF3To0AEbNmxQm/vSUDB57gPMl7+mEB8LoUH5
888/ERMTQ23HxMRg586dSvunWFpayvV0Dw0NxZYtW/D27VuMHTtWYWJidZBIJEqd9/n5+Xjw4IHc
uLIvfh0dHRgaGtKiwWxtbcHhcGgOew6Hgzdv3mgs+6pVq7Bv3z4UFRXh+PHjiI2Nxc8//wwAiI6O
VnnuvXv38NdffzEm7JjAPOpUsTx79gwHDx6Ei4sLFeK4fft2pKWlgcfjoW/fvujXrx+AiiX6yZMn
AQBjxoyBq6trjcY/Rphs+1Yl++7duxWWkJc1maq8PXv2bCpBcMuWLTRTFY/Hw6JFi7Qms52dHbp1
64bz589rbJ46f/485s2bJ9ddUiQSwdjYmKZYdHR0qO6NMlJSUrB8+XLo6+urrCYs49y5c5TZsKCg
AGfPnqUUS9UeK1XJzMzEmTNnGKFYmDz3AebLX1PqVLGUl5fD29sb8fHx1BiLxcKPP/5Ii8GXSCQ4
ceIEVqxYAQDw9/eHq6trtcbbtWtH4vEZRExMDDZu3ChXOsXR0REzZ86kjfn5+dFqd02fPh1Xr16t
s/+/WSwWDh48CF9fX4SFhWl0zpMnT3Dy5ElMmTKFNs7hcOTqXrHZii3QOTk5CAsL00ixKJJZhrpy
+7q6umjdunW170EgaEqd+ljc3NwUFuKramZ49+4dbG1twePxwOPxYG1tjfT09GqNV3amfmww2U6r
TPbbt29TCYUyHBwccPLkSbmw16pf9xkZGcjNzUVqairGjBmDL774Aj/++KPaVsXVQdbnpTpUNunJ
YLFY+O6776ieITY2Npg6darSUu+aVhYePnw4jI2NAVRkqFdWRtOnT1cYjszhcGBpaQkvLy/G1N1i
8twHmC9/Tal3H4uenh7++OMPGBoaYurUqbCxsUFhYSEMDAxw4MABABVly2UO3OqMV40YIjReunbt
ClNTU6r7n66uLmbOnAlHR0fqGFnvjKqOcWNjYxgZGWHUqFGIjY0FUOE3kEqlGpVGLykpwXfffYeE
hATo6+vj119/pRWxlEqlGDJkSLUTLB0cHBSOT58+HUKhEFu3bkVhYSGOHDmCzp074+7du9RHlq6u
Ltq1a4c1a9ZodK8VK1agc+fOuHXrFnr37k11twQqSsQPGTJEzqnfpEkT/PPPP+TvhFDn1LtimT59
OgDg1atXOHToEBYtWgQjIyMIhULMmDEDUqkUe/bsAZ/Ph0Qiqda4KipXGZV9RTBlm8ny9+7dW+n+
uXPn4siRIygqKoKrqyvV5Eq2Pzw8HKGhoZSfg8vlwtHRERMnTsS5c+eoQpBAhTlV1oNEnXyTJ0/G
v//+S537zTffIDAwkIrXDw8PR1xcHFTh5OSE9+/fU/kzFhYWGD16tML7Xbt2DTt37kRGRgYAIDEx
Ec7Ozti0aRPevXsHPT09mJiYYNy4cVQipCa/79ChQzF06FBERUXJzY9bt27JyZyTkwNbW9tGNT/U
bauaP0zYZrr8NaXOEyT/++8/PHz4kHLey0hNTUVoaCjmz58PiUSCVatWYcWKFZBKpVi3bh3Wrl1b
7XFlkARJ5iCVSil/gZeXFy3Cic/nU21vS0pK0LNnT1qyZL9+/Wg+kcTERAQEBAAAFi1aREVuDRs2
jPbirXxdALh//z48PT2Vyqijo4N9+/ZBLBbj4MGDYLPZWLJkidI5lpiYiM8//5yWcOnu7o4rV65o
+rNUi5iYGAwcOFAu8IDFYqFFixZgsVjQ0dHB9OnT8c0339SJDISPg5omSNbpiuXUqVOIiYlBbm4u
iouLMXPmTGzevBm5ubnQ19enJjWbzcbo0aMp5SCz/1Z3/GOFyT0dNJVdKpVi3rx5uHXrFlgsFsaN
Gwdzc3PaMSYmJrCxsYFUKoWenh4WLVqEDRs2ID8/H3Z2dti0aRN17OvXr/H1119Tiuf+/fsIDw9H
8+bN5SoPCwQCWoMqZTksMpycnNCnTx/8+++/mDx5MgYPHqyyj8n3338vl8Wfk5OD8PBweHt7q7xX
TUhISFAYzSaVSvHixQtqOyAgAD179tS4J0xDwOS5DzBf/ppSp4pl5MiRGDlyJG3sxx9/VHisu7s7
3N3daz1OYCajRo3CtWvXqO1t27Zh165deP/+PVJSUqCvr4+pU6fiq6++QmZmJkxNTaleLLIVTuXI
qP3799NWM69fv8bevXuxdu1abN68GVlZWUhMTERWVhZycnIwZMgQ/Pzzz/D29sbz589Vyvr8+XN0
69YNHz58AIvFQrdu3RAeHi4X/QVU+Inev38vN/7mzRssWLAAWVlZmDFjRrV+K3X07NkT1tbWCu9b
mYyMDNy/f79RKxYCMyGZ9wyAyV88msj+119/yUXP5OTkID4+HufPn0d0dDTu3LmDs2fP4sGDB3j9
+jViYmKwfv16vHnzhipb/8MPP1DnCwQCufvIxvh8Pk6dOoUWLVqgrKwMhYWFSE5Ohr+/P8RisVwu
SlVEIhG1qpFKpbhz5w5V4yshIQGbNm3C6dOnIZVKoaOjo7RFcW5uLk6dOqX296ku9vb2GjVAs7Cw
QOfOnbV+f23C5LkPMF/+mkIUC6HBuXr1KsRiMW1MT08Pn332GYCKKC4vLy+5jHeRSETbfvLkCfVv
X19fdO3aldru0qULFRwgo2pdMqFQiIKCArUlWBTlz+Tl5eHKlSsYOXIk1q1bB19fX/j6+gIA1q9f
rzS8WJNyLzVh8ODB0NfXV7jPysoKTk5OWLhwIVxcXOrk/oRPG6JYGACTY+GVyf7hwwdMmjQJ3t7e
MDExoZmR2Gw2vv76a8oZ/v333+Pu3btyiqQqlV/SBgYGOH36NPbv34/9+/fjzJkzcisRJycnmpKw
tbWFQCBQ+7K3sbGh5dq0aNECEyZMwPLly6l8qrKyMpw9exYpKSlwd3dXWCLG3t5eaema2jJgwAD4
+Pgo7Lw4fPhwREdHyyWiNkaYPPcB5stfU0itMEK9k5eXh27dulFlTqKiouDh4YGkpCSwWCyMGDGC
Kk8CQC6RksPhoEOHDnj37h1SU1Op8R49etCO09PTU5nFHhgYCC6Xi8TERJiYmGDLli1K2wpXxtPT
EzNmzEBgYCDYbDaWLl2KuLg4WoUJoGKl9f79e/D5fLlVjq6uLv7+++8664HCYrEQGBgIGxsb/Pnn
n9RvbWJiojDiLTMzE0+fPoWDg4PKJmIEgiYQxcIAmGynVST7jh07aLWzxGIx4uPj8fDhQwDypqYm
TZrQstp1dXXh5OSElStXYuXKlSgqKoKDgwO2b99eLdl0dXWxdetWuXFlPeNZLBZ69uyJdevWwdDQ
EEFBQdS+hQsXyq1K2Gw2+Hw+DA0N5cq4GBgY1EtjrSVLlsDU1BShoaGQSqUYPXo0bG1tMWnSJFhb
W2PdunV4+PAh/Pz88Pr1a1hYWMDPz4/mr2pImDz3AebLX1OIYiHUO8XFxXJjYrFYae2vHTt24Ntv
v8WtW7dQVFQEoVCIo0ePIiMjg5YLcuPGDfj7+0MkEqFXr15YvXp1jeqJKSrNAlSYzs6cOaPwmorG
WrduDUdHRxQVFYHP59M6O9ZX9rvMj+Tt7Y2JEyfi8ePHGDBgAGVWDA8PR6tWragIuoyMDOzduxe+
vr4KzWgEgiYQHwsDYLKdVpHsfn5+NMcym83GTz/9pPQaRkZG0NfXl3O2JyQkICkpCaWlpXj//j38
/Pxw9+5dPHz4EHv27MEff/wBAIiIiICPjw/GjBmDR48eqZVZmaM9ISGBUiBCoRBhYWE4c+YMSktL
4eHhQVMuurq6iIiIAJfLhbGxMVUrTIYyc1N+fj6Cg4Nx5MgRhQq4OhQVFWHAgAFYunQpVq1aBS8v
L3z33Xc0X1VOTg6tggFQ4R+q7b21BZPnPsB8+WsKWbEQ6h0rKytcvnwZfn5+KCkpwcyZMzFhwgRE
Rkbi4MGDYLFYWLZsGZWn9NNPP+HMmTNy10lNTcWgQYNgY2ODli1b4u3bt9S+4uJi3LlzB1euXMHC
hQupcirx8fE4e/asSjOUspe+LOkwPz8fI0aMQGxsLJXHUrWHi1gsRmZmJszNzcFisbB3717MnTsX
+fn5aNq0KXbs2CF3/dzcXHz55ZdUdNuBAwdw+vRpGBgYqPlFFXPkyBFaU7Lnz58rvJatrS0yMzOp
JM5WrVopDNcmEDSFKBYGwGQ7bVXZRSIRgoODkZaWhh07dlDl269du4b58+dT5qL4+HhERkbC3t5e
aZVhkUiEvLw85OXl0TLKZTRp0gTHjh2jlApQ0UY4IiJCLvS4MsqiwrhcLoqKirBx40aq+KUsj6Xq
C1skEuH169dwcnICUGEW+/vvv5XeEwA2b95MC5l+8OABDhw4UO3OkjKqNkQDAFdXV9y/f59Skvr6
+ggJCcG+fftw//592Nrawt/fv0b3qwuYPPcB5stfU4hiIdQbEokEY8eOxbVr1yAWi3HixAns2bMH
3bp1w9EzNdtEAAAgAElEQVSjR2k+iDdv3iAyMhKzZs1CXl6e2mtXDUU2NTXF2rVrsX79etq4rq6u
Wqe5stL1IpGI1mCsMlWd82w2mxZd9uzZM8yZMwcFBQWws7PD3r17YWJiQjunqqkPqFh1DB8+HE2b
NlUpc2WkUilGjhwpl/djbGyMXbt24caNG9i0aROMjIxw9OhRmJuba7VRGoFAfCwMgMl22sqyx8XF
ITo6mkqGTElJoep7Ve25zuPxVDq4KysHFotFy27n8Xj49ttvoa+vjyVLlqBHjx4wMDCAQCDA4MGD
MWzYMJUy29vbKy2BX1ZWprCcfpcuXWgyuLu7U8mHUqkU3377LR48eICEhARcuXJF4Yrp+++/R7Nm
zWhjz549g7e3t1xDNFVER0crnDMGBgZo1qwZJk6ciIcPH+L69ev1EplWG5g89wHmy19TiGIh1Buq
eskvWbIE3bt3h56eHoyNjeHp6UmVJaka/svhcODg4ABra2vY2dnhiy++wPHjx/HZZ5+hU6dOmDRp
EpV4aGBggDNnzuDvv//GuXPnsH//frWRYoaGhtUyPxkaGiInJwf29vbo3bs3pkyZgvDwcKrZVkFB
Aa2/PQC5HjNARffMEydOyCnZly9f4vTp0xrLk5aWpvB3rtzrRtl5Xl5e6NatGwYPHqy2xTGBoAyi
WBgAk+20bm5uSEhIgFAohJubGzp37ky92G1tbakXuKGhIaUA9u3bBxcXF+zduxdlZWWwtLSkXVMs
FuPWrVt4//49UlNTce/ePSQlJcHDwwOZmZk4d+4cRo8eTUU2cblcuLm5oW3bthqHH7do0ULtMcbG
xnB2doZYLEZsbCyeP3+OFy9egMfjISIigubHqGrmUtbxtFWrVgpLsSQnJ2skNwD07dtXrsqAoaEh
Tp48qfI8X19fREdHIykpCffu3WsUmflMnvsA8+WvKcTHQqgzIiIisGrVKuTk5MDS0hLbt2/HyZMn
sW3bNqSnp2PSpElwd3dHTk4OxGIxzM3Noauri4ULF+L169dgs9mIiIiQKzlflYyMDOzatQvv3r2j
svTT0tKwatUqqh9LdVHUKKsqXC4Xb968QUlJCTWWnp6OoKAgsFgsrF69msqnqVrGXlFZexmdOnXC
69evaWOVO1yqIz4+Xs5cJxaL8e2330IgEGDJkiUKTX2VgxyAiooHlfvjEAiaQhQLA2BiTwepVAp/
f38q8S4vLw/Lli3DxYsXMWnSJOTm5qJ58+b44YcfcObMGQiFQhgYGMDW1pZ6qUokEty+fVujPvDF
xcVypV8qm5+2bNmCf/75B2w2G4sWLYKFhQVOnz6Nli1bYsyYMTTne05ODvbt26f2nrK2ysqePysr
C2fOnEFqaip0dHRoL3tVIcT+/v6Ii4ujStxUbT2sjnfv3qG8vJw2VlJSgnPnzgEA7t69i8jISLnc
mqq/s5mZWYMrFSbO/cowXf6aQhQLoU4QiURySXbFxcVYt24djh49iuLiYpiamiI1NZV6CRYUFKCg
oIB2jqovexkmJiYYNWoUQkNDqVwWPT096iv/yJEj2LRpE3Xt0aNHg8ViQSwWg8fj4cKFC9i7dy9Y
LBaePXuGyMhIWskZTeBwOEp9SGlpaXBxcaFl9A8aNEjptWxsbHD+/HlERESAz+dj2LBhSpM2FTFg
wABYWVkpbVj28uVLqi14ZXbt2oUZM2YgIyMDpqamCnNtCARNIIqFATDxi0dHRwfNmjWjJS3a2dkh
ODiYWlloEkbcqlUrGBgYKHxJ8vl8uLu7Y9KkSbhz5w7s7e3B4/HA5/Px2WefYe7cuQCAf//9l6aw
KiursrIyREVFITU1FWFhYfjjjz+qFYElQywWg8vlKqzArKenh2PHjmHx4sXIysqCk5OTXBh0VYKC
gnDx4kVwOBwYGBiobJVcFTMzM/z111/w8vJSqiAV9Yhp2rQpzp8/r/F96gMmzv3KMF3+mkIUC6HO
OHToEH788Ue8f/8eLVu2xOjRozF69GjaMcpexjIkEgnGjx+PN2/eIDs7GywWi1oV5OfnIzs7G3v2
7MHdu3cBVOSvzJ07F0OHDsWqVatQVlYGgUBAO0/RPUQiEQ4ePFgjpSJDJBJBV1eX8gmx2Ww0adIE
8+bNg5WVFQ4cOKDRdYKDg7Fp0ybKdDZ79mxcvnxZaQi0Itq1a4e4uDjs2LEDb968wYkTJ6jfWU9P
T66zK4GgTYhiYQBMtdMKBAJMnz6dkj0/Px8tWrRAQkICgAo/w/Dhw3Ht2jXk5ORAR0cHRUVFNAWQ
nJyM1q1bo3///rhz5w4yMjJozvzCwkKaozsnJwehoaH4888/8fTpUwAVJVq6d++OmJgYmqMdqDBh
denSBXZ2dmr7vVSFx+PJOck9PT1hYGAAa2treHt7o2nTpjAzM4NUKsWpU6cQGxuLwYMHw9XVFWvX
rkVOTg7GjRuHAQMGUNc4cOAA7brZ2dk4deoU5syZo7FsEokEDx8+BIvFAo/Hoz1bSUkJjh07prRN
eGOCqXNfBtPlrylEsRDqDT6fj0OHDmHZsmUoKSlBs2bN4OnpiQ0bNlCmmX79+tHKmojFYqxcuRLP
nj2Te/FzOBy0bdsWV69epY2/ffsWb968obZfvXqF/v37Y9euXZg9ezbu3r2L8vJy6OjooGfPnjh8
+DC4XC7c3d2Rmpoq181SEfb29jA3N6dKuwAViZpjx47FF198IXf8woULERoaCqFQiMOHD8PY2JhS
iNevX8f//vc/KnFTUQZ+dXw+EokEEyZMwJUrV1BWVqYw+KGuOlcSCADJY2EETP7icXBwgJubGxwd
HdG3b180bdoU/v7+iI+PR0hICKZOnYqhQ4ciKysLbDZbYemSuLg4OaWir6+P6dOnY926dXIRUIoy
4zkcDpo2bQoTExPq+PLycjx79ozKKdm7dy/mzJkj1zBMESkpKUhOToadnR11fQ8PDwwePFju2Kys
LBw/fhxCoRBAxQqksuLLyMjAoUOHqO2q/hQej1etqLBr167h8uXL1O+QnZ0NPp9P7W/fvj2mTp2q
8fUaEibPfYD58tcUsmIh1Cl9+vShHOdxcXFo1qwZxGIxzYH+9OlTrF69ulqNuoqLi5GYmIiXL1/K
RY6VlJTA3d2dWk20adMGCxcuBFBhOqtMQUEBsrKyYG9vD6lUihkzZuDrr7/WSLnk5+dTJWL4fD76
9OkjVzPs8uXLmDt3rtwqpKrPp/IKYuXKlXj+/Dni4uLA5XLx1VdfoUuXLhr8KhXk5ubKKdtevXqh
Y8eO0NHRwbRp02iKhkDQNkSxMACm2mlTUlLkXuRVX3gyZKHJgwYNQlRUlFzYsSKSk5NpZeFlWFpa
4syZM9i/fz9KS0sxffp0mJubA6j4grx79y51P0dHR7Rp0wY3b97E/PnzkZubqzDzXRGyjH5Z6Zmq
bN68Gb///rvC3iZOTk54+fIlSktL0bx5c6xYsYLax+PxcOLECWRnZ0NXV1dhBJcqPDw84OTkRLVK
trKywrfffot+/fpV6zqNAabOfRlMl7+mEMVCqDMsLCzAZrPV+iz09PQwZcoUlJeXU+HDsbGxePDg
gZyzvep5e/bsoY2x2Wz4+fnB2NhYztldWlqKhw8fQldXF0BFvsj69euhr6+PpUuXKlRSqmjSpInK
8vs7d+5U2jCrTZs28PLyQnJyMubMmQNnZ2fafhaLRSnD6sLn8xEeHo7Vq1fj7du3WLRoESOVCoG5
EMXCAJj6xaOnpwdPT08q41sRAoEAW7duRZcuXTB8+HA8fvwYXC4Xffv2Rbdu3XD9+nWF59nb28PX
1xdr1qyhjbdo0QKTJk1SeM7KlSvxzz//UCao5ORkTJkyBVOmTFHoMFcHl8uFUCjEjRs3YGRkhF69
etFMYaoc7mfOnAGXy0V5eTkePnyIw4cPyymX2mBjY4M///xTa9drKJg699++fYu//voLNjY2EIvF
n1ywBHHeE+qM169f49KlS0r3s9ls+Pr6YtiwYVi/fj3u3r2LkpISFBYW4uLFi+jbt6/C3A0DAwNE
RUWha9eucqVROnTooPR+ycnJcrksubm5CA0NpfVO0RQbGxt4enpiwoQJGDVqFMaNG0fz96jyY0il
UsosmJycjLVr11b7/oTGyZMnT/Dll1/il19+wQ8//CA3Lz4FiGJhAEzt6TBs2DCFEVoyJBIJNm3a
hG3btuHKlSu0fWVlZdDX18c///yD9u3b0/aVlJRgzZo18Pb2Rnp6OgBQNa1iYmIUVgIuKCiAjo6O
nHMdqPDv+Pv7Y+jQoejcubNGlY0FAgEkEgmeP38OoCIs+uLFi7TM9VmzZlGKT90XqyYhzjWBqXNH
BhPlX79+PRVKLhaLERUVhUePHjWwVPULUSyEOqG8vBypqalqjxOJRAgICMCzZ89o4ywWC/b29jAz
M6MSKmVIJBIEBwfTOk7KViJJSUlYtmwZ7fjMzEx88cUXOHfunMIvRxsbG7Rv3x6HDx/GxYsX8eWX
X6qUWVdXF87Ozrh9+7bcvsuXL1P/nj9/PoKDgzFnzhwEBwejY8eOCq9naWmJiRMnqrwngTlUnWNi
sbjaybdMh/hYGAAT7cy//vqrxsdWjRwDKhTFihUrsGbNGoVl81WZFqo6zFevXk1l4StC1hVSVuhR
nVlMIpFQJWSqcunSJZSVlYHH4wGoiNDy8PAAAHz22WdYuHAhsrOz4erqipKSEuTm5mLs2LHUMdrk
8OHD2LNnD8RiMQYMGIDVq1c3eLXi6sLEue/r64vY2FgqP6pjx45KPyo+VohiIdQJZ8+erfU1qvYk
0QQjIyO5ysGyxERlZGVlISUlBW3atAEAtZWEdXV1FSpDoCLLPyoqilaiRYapqSn27t2r8tra4r//
/sPatWupHivJyclo3rw5pk2bVi/3/5Tp168fgoODERwcDAsLCyxevJj60PhUIKYwBsBEO7O6l3ld
4OTkhBUrVsDZ2RnDhw+Hl5cXgoKCMH36dLl2v5UxMzODra0tta3O32FlZaXSZyLLH6lMSkoKrl27
hvfv32vwJLUnKiqK1rhLKBTi5s2b9XJvbcLEuQ8AXbt2xbZt2zBw4ECVvXc+VsiKhVAnqMo/0RRF
FYk5HI7CF7+DgwMGDBiAK1euICAggCrN/+zZM2zevBm7du3Cn3/+iTt37qCkpARisRh6enpo0qQJ
li9fDmNjY+pailYblXnz5g34fL7SRl82NjZISUnBnTt30LZtW9y5cwe///473r9/D3t7ewQEBNBK
v5SUlODw4cMoLCzEhAkT5Fox14SOHTtCIBBQrQl0dHTQrl27Wl+XQNAEllRZLfGPiEuXLqFTp04N
LcYnRfv27dU67zkcDuzt7fH+/XuFimjChAkICwujfCZ8Pl9hboiuri5MTEyUrga++uorBAUFAahI
kkxMTISJiQlsbW0Vrjxu3LiBESNGqH1GZc20vv/+e5w6dQqpqakQCARgs9k0JdShQwfKyV9SUoIR
I0bg3r17ACr6z4SHh1M1yGrDhg0bcPz4cYjFYnTr1g1//vmnwqg4AkEZDx8+rJH/j8wyQp2gqJhk
VT7//HP88ccfSk0Fly9fxtatWzFt2jSsXbtW6UuRy+XSIsSqUjkXRldXF66urrC3t1dqzqpcIFIV
ypIqw8PDKaWal5cnpwwrl7U5deoUpVSAiqi23377TaP7q+Onn37CvXv3cP/+fezevZsoFUK9QWYa
A2CinTkgIEDlfgMDAxQXF2PatGlKm2ulp6ejpKQE//vf/5CdnY3c3FyFx1Xt4VIZS0tL/PTTT9WS
vW3bthodp0yxVI1Kk0qlVDQWl8ulRQgpqp2mzdDUW7duVautcUNx9+5djBgxAl5eXti2bRs1zsS5
XxmZ/FKpFJs3b8aECRPw888/q8zv+hho/DOOwEiqllqpilAoVJgHUhVZ9NWxY8dUHsdms8Fms2kv
ZQ6Hg6lTp1Y7IsfU1LRax1el6gqFzWajXbt20NHRQZ8+fWh5NiNGjMDu3bvx33//AahYXTWWBlzF
xcVYvXo10tLS8Pnnn+Pbb7+tk/ukp6dj5syZ1ErxyZMnMDEx+ahye5YuXYrg4GCUlpaCxWLhxYsX
CAkJaWix6ow6VSzPnj3DwYMH4eLiQtVvevz4MU6ePAkAGDNmDFxdXbU6/jHCxFj+pKQkrVxHltku
ywlQhkgkwmeffQZzc3PExcWBzWajU6dOWLx4cbXvaWNjAx0dHaWVmNVRNbhAJBIhNjYWJiYmGDp0
KM0Ex+fzERERgY0bN6KoqAh+fn5o1apVje6riJrOHalUinHjxlG12q5cuYKsrCwsWbJEa7LJiIqK
opkfCwoKcOHCBUycOJGRc78yMvmjo6OpfCypVIr//vsPpaWlVEHUj406VSzl5eXw9vamwi8lEglO
nDhBlQj39/eHq6urVsbbtWvHuOSvjxlt/cE4ODhg165dSk1dlSkvL0dQUBAOHjyInJwcTJw4sUbF
/9LT0zW6nyZUjmzLzc3F8ePHMXfuXOpl6uHhARsbG/j7+2vlftoiKyuLUupAxQrzypUrdaJYWrRo
ASMjI1pukI2Njdbv05BUNUdyuVzo6Og0kDR1T536WNzc3Gi9JN69ewdbW1vweDzweDxYW1sjPT1d
K+PqvmiZDBPtzNqy65uZmeHIkSMaHcvn8zFq1CgsWbIEv/32G4YPH66wbpg6SktLa+3nMDMzww8/
/CCXxS+RSODn54exY8fihx9+wBdffEFrb6xtajp39PT05F58dVWht3Pnzhg/fjxsbGxgbm6Onj17
YvXq1QCYOfcrI5N/wYIFVKSfhYUFpk2b9lEHU9Srj6WwsBAGBgY4cOAAgAoHrqyhkzbGKye5ERoW
ZX1IVCEQCFBYWEgzJQUFBSlMOKyKqakpRo0ahTlz5tDK4q9fvx67d++ulhwXL17U+FhjY2O5pmQ2
NjaYMWMG5s+fT+WoFBcXw9DQEN27d8fZs2ep3+f169dYu3YtZdZtLBgZGeHrr7/G3r17kZeXBwcH
ByxdurTO7vfbb79h4cKFKC4uhp2d3Uf30h06dCjc3Nzw6NEjtG3bFq1bt25okeqUelUsRkZGEAqF
mDFjBqRSKfbs2QM+nw+JRKKV8Y8VJtqZa7JicXFxwYMHD2iKRebUVgWLxYKnpyf09PQUFgCsLq9e
vdL4WEWlXYyNjXHjxg18+eWX+O233+Dq6orbt2+jd+/ecHd3x6lTp2oto6bUZu78/PPPGDVqFBIT
E9GtW7c6/3CzsLCQG2Pi3K9MZfnt7e1hb2/fgNLUH3WuWCrbqm1sbKgy50CFaczGxgYSiUQr46qo
3CJUtjwl2zXfLioqQmFhIYyNjaGrqwsOhyO3vzro6uoiOjpa4+NtbGyQkZEBsVgMqVSK48ePA6hI
PoyJiQFQ8Ycs82dU5/mq85GiyBeTmJiIxMRETJkyBZcuXYKjoyMcHR3Ru3dviEQi2NvbU9WcTU1N
4ebm1mjnp4uLC7Kzs/HixQtKsTQm+ch23W/XhDrNvD916hRiYmKQm5sLFxcXzJw5E7GxsdSy38fH
B25ubgCgtXFFMD3zvrH1zf7w4QO8vb3x7NkzcLlc9OvXDyEhITQbfKdOnTT+8ufxeNWK6zc2Nsa1
a9cwePBgWj2sLl264K+//sL//vc/5Ofnw9fXF05OThpfV8apU6cwffr0ap9XFYFAgPPnz6O8vBw/
/PADcnNzYW1tja1btyIoKAhPnz7Fhw8fwOfz0bt3b6xcuVLrASiNbe5UFyJ/w1LTzPs6XbGMHDkS
I0eOpI25u7vD3d1d7lhtjRPqnjVr1lBf3CKRCFevXsWlS5fg6elJHVO59pY6lCkVNputsDx+QUEB
unTpImc6MTY2hrGxMeX4VYVUKsXOnTsRFRUFKysrrFu3jgo00VaLYGNjY1haWmLkyJGIi4sDUGFm
mz9/Pvbs2YPBgwdTFZyfPn0KU1NTzJkzRyv3JhAaEpIgyQAa2xdPVce8SCSSSwrcvn07Pv/8c7XX
UlRoUoaqxbREIsGHDx/g4OCA4uJi2NjYYMuWLRpIX8Fvv/2Gbdu2Uc+SmJiIyMhIlfJUR3YLCwvM
mzcPRkZGchUDsrKyEBsbS2sLUFxcjNu3b2tdsTS2uVNdiPzM5OMKvSDUCzNmzKD5tNq2bSvXA6Vy
WQ5VqHqJS6VStflJRUVFOHfuHC5fvlwtx+iFCxdoCvLJkydUEUtNQ1zbtGmjtBz/rFmzMH36dOjo
6MDMzIy2z8rKCs2bN4e5uTltnEQ1Ej4WiGJhAI0tlr9nz57Ys2cPRo4cibFjx+LUqVMQCAS0Y86c
OVPr+7Rs2RK2trYqlU9WVhZmzJiBDRs24MmTJxpfu2oTMaFQSCkwdWY8FosFd3d3+Pr6Km341b59
e+rfa9asgZGREXg8HkxMTBAQEIDWrVtj5syZaNq0KWxsbNCnTx+sXbtWY/k1pa7mjkgkwrVr1/Dv
v/9qpUWCMhrb3K8uTJe/pmhsCissLKQlOxI+bXr27ImePXsq3V+bl42dnR06duyINWvWYNasWWqP
j4mJQUxMDA4fPozNmzfTep0ow9bWlmai0tXVpZIiVTUps7KywtatW9GmTRv06tVL4bF8Ph/6+vrU
9i+//EIpoLKyMixbtgwnTpzAokWL4Ofnh5KSEpiYmDCmckR5eTl8fHwQHR0NsViMjh07Ijw8nLwf
CBRqVywvX77EokWL8PPPPwOosG3v2LGjzgUj/D+fmp2WzWYjICAAjo6OGpXfl/Hu3Tts375do2N7
9OhBS8Jr1aoVZd5TlWGemZmJsrIyrFixQqFSYbPZKCgowNSpU+Hv74/y8nJa5BoApKWlUf/W19eH
qalpnSmVupg7ISEhiIqKQnl5OSQSCR48eICNGzdq/T4A8+c+0+WvKWoVS3BwMBYvXkxVfGWz2R91
+RRCw/P27VscPnwYABAYGFitmkplZWWYM2cOZsyYgTt37ig9bsOGDZg2bRq6d++OQYMG4ciRI+Bw
OIiKilJpkpJIJAgJCVFoduNyuZBIJJBKpcjOzsbu3buRm5srlxdjYmKi8fM0RrKzs+Wi9ZS1NCB8
mqhVLCwWS65Vak2rvhJqxqdop5UlWBoZGWHMmDEanWNmZoaUlBQcPnwYYWFhmDZtmtLS/FwuFxs3
bsS5c+cQGhoKOzs7SCQSLFy4kGprrAw9PT2FeVFVqw0UFhbi9evX2Lx5M1xcXGBvb48OHTpoHNig
Depi7vj4+KB58+bUdpMmTbSS96MIps99pstfU9T6WIyNjfHo0SNIpVIUFxcjNDQUjo6O9SEb4ROm
uLgYQUFBsLW1xYMHD9Qez+PxMGnSJFrI8bt377Br1y5069ZNo9pThYWFcnW/FGFmZgZnZ2fExsbi
xYsXYLFY6N69O1JSUpCSkkIdx2azYWhoCGdnZ0RFRaGsrKzavWEaI3Z2dggNDcWvv/4KsVgMPz8/
klNGoKE28z4/Px/79u2jelx07doVkydPhp6eXn3JWGuYnnnPRKqG2FYXU1NT5OTkVCsrv0+fPoiO
jqZVJjY0NISVlRUGDRqktuVvaGgoli1bRutPrwoXFxf4+fnBzMwMAwYMgL+/P7Zt20bV/jI0NMSN
GzdoX/dARRh1eXn5R6FkCB83ddbzns/nY968edi7dy+CgoIwc+ZMRikVQsNQ2wgh2ctdmVJRFPkl
FArRp08fyiTFYrFQVFSE5ORkHD58WGUF4eXLl2PBggXIycnR2JH+9OlTPHnyBD169MC///6LQYMG
oV27dtT+oqIiTJ06lVZkMiIiAj169ECXLl3g5eVFfBOEjxKSx8IAmGinrU6jr5qUSP/333/lxkxM
THD8+HHs378f/fv3p+W/CIVC3Lt3T+n1Ll68SEV5Vad8XkZGBr744guMHz8eo0ePxtu3b2n709PT
qYKphYWFWLFiBRITE5GSkoLo6GjMnTtX43vVBCbOncoQ+ZmJ2r/oS5cuyY39/fffdSIM4eOhOgEe
iuqBVfccAwMDbNmyBRwOB15eXpg1axYt+kogEKB///7Vvo8qmjZtiry8PKpuWklJidwKxMDAgDIL
pqWlITU1lbb/4cOHWpWJQGgMqHXeX716Vc7Gdvv2bQwdOrTOhCLQYWIsvKy/d11ReVXBYrFga2tL
9WfPzMykmn799ddfAABvb28MGTKEOkcoFOK7777DixcvoKuri+7du+PDhw/Iz8+Hrq6uSvlZLBZ6
9eqFzp07y314SaVSODg4UAnF8+fPh4GBAQBQociVqU5V55rAxLlTGSI/M6lREco6rLRP+EgQCAT4
8OFDra7B5XJhY2MDS0tLPHr0SOlxUqkUL168wOzZs6mxffv24dixY5g3b57Cc+bNm4eIiAhq+8mT
J/Dz84NYLEZmZiaOHj2q8n4JCQmUmYPL5VIBA87OzoiIiEBhYSHMzMxoviYrKyuYmZkhMzOTGmvb
tq2aX4FAYB5qTWECgYBqnAQAd+7cqVZJdELtaWx22pSUFKxcuRLr16+Xq2osQ10uiCJMTU3RvHlz
WFpaYvTo0Xj06BGio6Nx4cIFuVwqdbx69Qr+/v5K91etFVZeXo6wsDCsWLFCowrDlZWmSCSCs7Mz
Ro8ejbCwMJiZmcHBwUEugCExMREcDgdsNhssFgstW7ZEQEBAtZ6rujS2uVNdiPzMRO2KZcqUKQgI
CMCJEycgkUggEomwaNGi+pCN0Ah5/fo1Ro0aheTkZAAVVYIjIiLkXqI1abdbUlKCR48eKezgaGJi
IlcaRR0yP0xgYCAiIyPBZrPx3XffwdvbW66ysOz+BQUFaNmyJQQCAfLy8jS+16hRo7BgwQKl+8vL
yzF37lyqgjJQUUamJo3ICITGjlrFYmlpiQ0bNlD1jZo0aVKjKB5CzWlMdtrff/+dUipARSfPsLAw
TJ48udbXLi4uRps2bTB+/Hhs2rSJtk+TxMXK2NraYtasWThx4gQCAwOpldWyZcvg7OyMrVu3okeP
HnYYh/cAACAASURBVLSVlbW1NQQCATIzM9UGHxgYGFBRZK1bt8aUKVNUHp+ZmSmXH1PZJFZXNKa5
UxOI/MxEIx8Lm82uVq8LwqeFNgsolpWV4ciRI/Dw8ICXlxc1bmpqqlGNOn19fYwYMQLffPMNOnfu
jJkzZ9LMde/fv8e4cePg6OiI48ePY9u2bUhOToZAIMDWrVvBYrGQkZGhssKxsbExwsPDERwcDC6X
i8WLF8t1s6yKhYUFTE1Naauuyj1tCISPCdJBkgE0pr7Zixcvxs2bN6l+9u7u7hg1apRW71FeXo7Y
2FhKsaSnpyMhIUGjczt27IgdO3YgNDQUS5YskfOlABXmPNl/ly9fluslUzUXpSq9e/dGp06dqlXN
QUdHB4GBgViyZAkKCwvRtGnTeqkZ1pjmTk0g8jMTpYpFLBarLB9O+DQxMDCg9VoRi8V1UpqkckfK
AQMGaOSzsbS0xJQpU/Do0SOsXLlSrU8mOTkZjx49Qr9+/WjjqqoG2NnZwcfHB+Xl5dWqugxUlOq/
evVqtc4hEJiIUsWya9cuzJ49W6HtnMViITg4uE4FI/w/jemL5/vvv6eZpJ48eYJvvvkGBw8e1No9
rKys0LVrVwAV/YAqO7yVweVysXfvXvTu3RsbNmzQ2NGvqC6Yu7s72Gy2wsTN7OxszJ49G66urggL
C2v0za0a09ypCUR+ZqJUscg69zVv3hy//PJLvQlEaNw8f/5cbuzcuXN4/vy51nIyHB0d8eLFCxgZ
GWHChAkanSMSifD777/Dzc1N4xBPHR0dtGzZUm48Pz8fPB5PYRfM4uJiAMD9+/fx66+/4tdff9Xo
XgTCp4TS8C5Z5FeTJk3qTRiCYhpTLHyPHj3kxsRiMS5cuKC1e6SmpqJXr15o37494uPjNT7v+vXr
GD9+vMoGXzJ4PB6GDBlC600vQyKRaBT5WB9RXbWlMc2dmkDkZyZqnfea9BwnfDr06tULx48flxuv
XKq+Nujr69N6mlSX1NRUpbJwuVz069cP/fr1Q+vWrTFw4ECFEW3GxsZyZjCBQID8/Hxa1QlZV1UC
gUCHJKQwgMZkpw0KCpIb43A4GDBggFauLzM11RRVfWBEIhH+/fdfHDlyBN27d1caJp2ZmSkXkGBi
YiJXyqgm1QXqm8Y0d2oCkZ+ZqFUsta33RPi4UBSd1a5dO3To0KEBpPl/2Gw2WrVqRSs0qYxnz57h
/PnzSvfb29vDzs6Odm1nZ2datWQej6fQjEYgEDRQLBs3bqwPOQgqaEx22pkzZ9K22Wx2vfZwV4ZE
IkFSUhICAwNpvWAUrUo4HI7Kene6uroIDg5GkyZNwGKxIJFIkJiYiDFjxqBFixZo1qwZRo4ciR9+
+KFOnkWbNKa5UxOI/MxErY+FtE8lVCY3NxcsFosyC/F4PKWFKBsCmSnN3t4ebdq0Qb9+/bBlyxaa
2apnz560PBlFlJWV4d27d9RzvnjxAtbW1jhw4ABat25drUZmBMKnhtoVy4ABA3Dw4EEUFhbS/iPU
H43JTnv37l2ar6GkpESjKKz65t27d7h+/TrWrFkj5wsZMWIEEhISlJaIkUgk+OKLL+Qc+NHR0Rg6
dCiGDx9e7dplDUVjmjs1gcjPTNSuWMLCwgCA9vJgsViNwvxBqH9k3RIro6hsSkOjKkpt06ZNKCgo
gKGhIZycnKCvrw97e3usWbMG+vr6uHfvnkLFIZVKUVhYiPv372PVqlVyhTIJBEIFahXL9u3b60MO
ggoaU70hRU3eIiIicOXKFRQVFUEsFjdo8yp15e6NjY2pSt0FBQW0VUtSUhLCwsKojo+qeP78ORYt
WoTr16+DzWZjwoQJ8PPzq/0DaJnGNHdqApGfmWgUblxQUIDHjx/j6dOnCrORCZ8Oiqpc5+Tk4O3b
t8jOzkZeXl6Dmcb4fD4OHjwopxh4PB48PT0xa9YslZFc8fHxyM/PR/v27dVW83706BEOHTqExMRE
xMfHIzAwEPfv36cdU1paigULFsDb2xtz5sxRWTGZQPiY0KjnfUhICFq3bg2pVIqXL1/im2++QZcu
XepDPgLq106bl5eHZcuWISsrC/3794evry9tf2P+sBCLxThw4ACsrKyQmZmJsrIy8Hg82NvbQywW
Y/jw4TA3N8fDhw8VPgeXy4Wenh4A4ObNm+jQoQNVS6xywAJQoTQqk52djdu3b9P+Lr799ltERkZS
22lpaTh58qRWn1kdTP9aJvIzE7WK5fTp0wgICKBKi2dmZmL9+vVEsXyEiMVi+Pj4UF/eN2/eRGFh
IdUZUSwWN+rADaFQiPDwcAAVWfG+vr44fPgwnj9/Tv138uRJiMVi3Lx5E0KhEGlpaUhPT4e5uTkm
T55MRUEaGxtj//79mDx5MsrLy2FtbY23b9/S8ng4HA61bWpqiu7du9PkuXLlCm371q1bkEqlWu1f
QyA0RtQqFoFAQOtXYWFhobB1LKHuqC877Zs3b5CUlERtFxUV4cqVK1iwYAHKysrg4+ND26+Mql/3
9UXle+bk5CA0NJRWGTk1NRVhYWFYunQpNfbu3TvExMSgZcuWaN26NTVeUlKCadOmUaHUr169QtOm
TfHhwweUl5fD1dUVbm5uuHPnDthsNsaPH09VZJZRNYBAW2VvqgPTbfxEfmaiVrE4OTkhLCyMyqy+
desWnJyc8PLlSwBAixYt6lZCQr1hbGxMmYJkyPI1goKCcPPmTYWl5CtjZmaGhQsXYtmyZXUmp6bw
+XyakuNyuXBwcKAdY2NjozBbPyoqSq6kfkFBAU6dOgWhUIgePXpAX19f5f3t7OyovxOgovUxWa0Q
PgXUOu/j4+MRFxeHQ4cO4dChQ3jx4gXi4+OpbULdU9svHqFQCFdXV1hZWcHW1hZLliyh7c/Pz8fT
p0/B4/FopUy4XC4mTZoEoOLLXp1SAQBfX185v0xD4OLigpCQEPTp0weGhobg8/kYOHAgxo0bp9H5
Ojo6ckqAw+Gge/fu6N+/v1qlAgBbt25FixYtYGRkhGbNmmHz5s01epbawPSvZSI/M2FJG8BmsX37
dqSlpYHH46Ffv37o27cvHj9+TDk2x4wZA1dXVwCo9rgiLl26VK02sh8bffv2RVxcHLXN4XBw+fJl
tG/fHufOncPy5cuRmZkJMzMzFBQU0L7U27dvjzNnziA9PR0+Pj5ITU1VeS8dHR34+Pjg6NGjdfY8
VTEyMkJJSQlEIhHMzMzQunVrODo6ws/PD05OTnj+/DnYbDbatm2rcMUQFxeH69evo0OHDujVqxeA
ivbIHTp0QHp6OoCK0jVLly6l/E2aUlxcjNTUVNja2sLQ0LD2D0sg1CMPHz6Eh4dHtc9rkJ73LBYL
P/74IywsLABUZDqfOHECK1asAAD4+/vD1dW1WuPt2rX7aM0MtbXTyvI2ZIjFYkRHR6N9+/9r796D
orruOIB/d4EFluVlCixEgSSoRAFjGx+Vjk8KjDooabExvqKlZqKtbUzRSSLoBF8TzZjJSKypUaoN
2KKtnQbTmigZ42AoKgUUBzT4SAQCBHnJs+ztHww7LOwC+2Dvvev381f23rt3v3sG89t7zj3nRuKN
N97A/fv3AQCtra2DHkddWlqKuLg4xMXFwdl5+D+X7u5ufPbZZxZntYRGo8Hq1ashCALOnz+PgoIC
FBQU4PPPP8eMGTPg5+eHzZs3G/37+POf/4y33noLLS0tcHV1xYYNG5CamgoXFxdcvnxZf96kpCSs
XLnS7Gzu7u4ICwuzxde0iNz7+JlfnkRbNr//hVJNTQ0CAwOhUqmgUqkQEBCA6upqs7abWp6DgMDA
QIPXSqUSfn5+2L9/P7755huDfca6uyoqKnDo0KERz7AfeCvuaOkrdDU1NcjKykJ3dzcqKir0++vr
65Gbm4vMzEwkJibqrz7627lzp36WfWdnJw4fPoyenh6Ul5djxYoVqKqqwrhx4/CLX/zCLt+JyBGI
0hV29OhR3LlzBx4eHnj55ZfR3NyM/Px8g2NmzZoFAGZtnzBhgtHPe9y7wlpbWzFjxgyDRRUBmHyu
u1xptVrU1taa/E6bNm3Cjh07DLYFBQUZzGlxcnJCRUUFFi1apH8Ms1KpxJo1a/Duu++OWnYiKbK0
K0yUK5Z169YhPT0dL774Ik6cOAGNRoO2tja89NJLWL58OR49egQvLy+zt5Nxfc+OH/gbYqRFRaPR
jGiwWmwtLS0ICQkxud/YSt0D/25cXV1RV1dncHWj0+mMrpFGRMaJ+gRJFxcXODk5QavVGvxDrqmp
gVarNXv7UPo/F+HSpUuyen3o0CGr3n/u3DmLf20HBwfj+eefh4uLC1xcXCw6h734+/sjJyfHaAHR
aDT6tbz6t09qaqq+aLq5ueHVV1/F3bt3B9123b8oi/33YM7rvv+WSh7ml1a+kby2hChdYe+99x4e
PnwINzc3JCcnw8/PD8XFxfq7vJKSkhAVFQUAZm83Ru5dYZcuWTcAGBMTg2vXrln03sjISFRVVUn+
MbweHh5ITU3F+vXrkZOTg02bNunHejw8PPDRRx8hNjbW6HuvX7+OixcvYurUqfjxj38MADh58iT2
79+Phw8f4umnn0ZWVhb8/Pzs9n1sxdq/HbExv7gs7QoTpbDYm9wLi7XGjx9vcWF49tlnRe8G8vLy
glarhZubG7755hs0NjYaXEF4eXkhIyMDixYt0m+7dOkSDhw4AJ1Oh7Vr1yIhIcHsz/3f//6HlpYW
+Pj4OOwdh0RDkdXtxmRf/v7+RguLSqWCTqcbcqmRW7dujWa0YSmVSpw5cwZRUVFQKnt7bgfOy3nu
uecMigrQOzHN2l+Kzs7O8PX1teocRI8jUcdYaGTM7e+8cuUKVqxYgRUrVqCwsBCZmZlGj+vq6hp2
/Sox1rfqT6fTYeHChZg8eTLi4uIQGxs7qNiN5orL1vY1i435xSX3/JbiFYuDqaiowLp16/Dtt98C
6F2hQOziYK2Ojg50dHQYLCjZX0lJyah8bklJCS5fvoyJEyfKcnyFSCy8YpEBc7p0Tpw4oS8qQO+K
vqb+h+xompub8e2339pkbs62bduQkJCAPXv2IC4uDkVFRTZIaH9yHjgGmF+uWFgczMAVdB190Fmh
UGDBggXYt28foqOjMW/ePMTHxw/5eOLh1NXV4fTp0wZL5r/99tu2ikzk8FhYZMCcftply5Zh2rRp
+uVu+lYqcDRhYWGYOnUqdu3ahZ07d+LIkSN48OABvv/+e1y5cgVbt261+NxtbW3o6uoy2Nbd3W1t
ZFHIvY+f+eWJhcWBpKSkYN68ebhz5w6mTJmC06dP4+9///uIFo+Um9u3b+O7777Trx838Nkp1sy7
GTt2LCZOnKh/7enpaXIODBENxnksDuKLL77AqlWr8OjRI/22mTNn4uzZs3jiiSdEeaKjtby9vYft
0vL29kZ+fj4SEhLw9ddfA+idQf/666+bvcR9f62trUhNTUV9fT1iYmKwZs0ai89FJFecx+Lg6uvr
UVlZidDQUPj7+wMAioqK8Oabb6KzsxNKpdKgqAC9tx2fOnVKlkUFAF5//XXs2bMH7e3tJo9pamrC
1q1bcfToUaSmpqKzsxOzZs3C5s2brfpsjUYjyoO5iBwBr1gkrqenBykpKcjKykJXVxdUKhW2bduG
NWvWYP78+fpf6aaMGTMGDQ0Ndkprnf6PEZ4yZQrOnTuH4ODgYZfhDwoKwvXr10clk9yX5GB+cck9
v6xWN6aRuXHjBp555hlkZmbqB5O7urqwe/duVFZWDnqAlzFyKSoAkJCQgI8++ghZWVn47LPP8Mc/
/tFoURm4QGRNTQ3eeeedUcul0+nQ1tY2aucncjQsLBKWmJiov+W1v+7ubmi1WowZM0aEVMPz8fEx
+z1OTk4YP348EhMTER8fD2dnZ5NdUQqFwuA2ap1Oh3//+98W5x3Kxx9/jMDAQISEhCAsLExWhRqQ
/zwK5pcnFhYJa21tNbpdEAT87Gc/Q21trZ0TDa3vSmKkv+5dXV0RFBSEgIAALFiwACkpKQb7Td3i
297ePmh+Tt86YrZUVFSEnJwcdHd3o6enBw0NDVi4cKHNP4fI0bCwSNTVq1dNroGl0+lQVlYmubkV
fXkHzgExJSIiAvn5+bh06RKys7MHPe9lqDk4CoUCHh4eAHonhb766qsWpjbt2rVrg2bx19fX2/xz
RpPc51EwvzzxrjCJehyesa5Wq4d88uexY8ewbt06FBcXo6Ojw6AbqqenByEhIVi5ciXmzp2L8PBw
m+ebPXv2oMc3h4aG2vxziBwNr1gkylaDxVJe0sXb23vI/a6urvj4449x/fp13L59W3+bdZ+2tja8
8sorBkXlxo0byM/Pt0n7jR8/Hm+++Sbc3d3h6uqKp556Cp988onV57UnuffxM7888YpFomy1IrHU
7iYPCgrCo0ePEBoain379pn13nHjxhmMK3l6euoLpyAI2LhxI3Jzc9HW1obw8HD87W9/s3pV4s2b
N1s9J4boccMrFomS+1L3A8dLgN6icvHiRXz++ec4d+4cAgICzDrngQMHMGnSJGi1WoSHh2P//v36
fcXFxfjnP/+JlpYW9PT04MaNG3jrrbes/h5y7yNnfnHJPb+leMUiQTk5OWJHMMrNzQ1KpdJkN5NC
oUBsbCyio6OxePFiODs7Iz4+Hm1tbQgJCcGnn34KNzc3i2+TjoiIwJdffommpiZ4e3sbdPPV19cP
yjVwJQIisg8WFok5duwYduzYIXaMQdzc3HDo0CH86Ec/QlRUlNFj5s+fj+zsbINttp4Rr1AojM6T
mT59OiZMmIDy8nIAgK+vLxITE63+PLn3kTO/uOSe31IsLBLS0NCA7du3m5y/IhaVSoWMjAwsWbIE
MTExRo956aWXcPDgQYNtgiAgOzsbV69eRUxMDCZNmoStW7eira0Ns2bNwtatW212c4GXlxdycnKw
bds2dHZ24oUXXsDPf/5zm5ybiMzDwiIB9+/fx+HDh3Hq1CnJFRWlUolXXnlF/+u/74pgoMjIyEHb
fv/73yMrKwudnZ04ffo0XF1dUVdXB6B3no5SqcSWLVtslnXs2LHIzMy02fkA+a/1xPziknt+S7Gw
iODq1atYtWoVuru7sWTJEvzpT39CT0+P2LH01Go1urq6EBISgrlz5yItLU2/78knn0RFRYXB8e7u
7khISDDY1tPTgwsXLujX+mpubjaYHd/e3o78/PxR/BZEJBYWFjsrLy/HT3/6U/3ro0ePiphmMK1W
i8LCQv2s9oEyMzMxf/58/Sx7Z2dnZGVlITAwcNCxxpZd6T/ZUKPR2DD56JD7r03mF5fc81uKtxvb
mdQfGDVt2jSTRQUAwsPDkZeXh+XLl2Pt2rUoKyvDnDlzBh3n5OSE+Ph4/bl8fX0xe/ZsBAYGwsvL
C5GRkQa3CxOR4+AVi51JbQwF6L2SiI6OxjPPPIM9e/YMe/zEiRORkZEx7HG7d++Gt7c3Hj16hAUL
FmDOnDmora1FQ0MDnnrqKbi6utoi/qiSex8584tL7vktxcIyCnQ6HbKzs3H8+HGoVCokJiaitrYW
+/btk9xMeKB3aZXjx48Pu8SKJaKjow3+Yfn7+w9amoWIHAufIGljhYWFWLp06ZCP05WasLAwfPXV
V1AqlSgrK8PXX3+NadOmQavV2uT8XV1d2Lt3L+7du4fY2NjHYoFNIkfAZ95LRHx8vCSvSvpTqVTQ
6XQQBAH+/v7Yu3cvlEol0tPTcfToUTQ1NSE4OBgffPDBkEvXj4QgCFixYgUuXLgAQRBw/vx5fPfd
d9i0aZONvg0RSQ0H720oIiJC8kUF6O2qO3HiBG7duoXr169j/vz5aGlpwV//+lc0NTUB6J1bs3v3
bqs/Kzc3F6Wlpfp2aW5uxtmzZ60+r73Ifa0n5heX3PNbilcsNjSSZ9BLgYeHB0JCQgyWRmlvbx/0
4DBbLITp4uICZ2fDP7PReNojEUkH/4Vboba2FgsWLMCYMWMk+/z5Pq6urnBycoKXlxeWLl066MFY
fn5+mDBhgv61Wq3G3Llzrf7cuLg4LF68WD9nJSgoCK+99prV57UXud/Rw/ziknt+S/GKxQLp6ek4
cOCA2DGGpVKp8PzzzyMyMhIbN27E/fv34evri2effXbQsQqFAidPnsSOHTtQVVWFOXPm4Fe/+pVN
cuzduxcJCQkoLy/HvHnz+BRGIgfHu8LMtHr1akk9RbD/g660Wi1mzpyJoqIiODk5ISYmBnv27BH1
KZJyv4+f+cXF/OLiXWF2InZRUSgU+Mtf/oKQkBBUVFRgxowZyMvLQ3V1NZYuXYrg4GBR8xER8Ypl
hBYuXIivvvrKRoksk5aWht/97neiZiCix4elVywcvB+BJUuW2LWoKBQK7Ny5E2FhYXBxcYG3tzdS
UlJYVIhIFmRdWEpKSpCWloa0tDSbP6mwvy+//HLUzj3QD3/4Q5SXl2PDhg3Iy8vD+fPn8f777+ON
N96wWwZbkvt9/MwvLuaXJ9mOseh0OuTk5CA1NRUAsGvXLkyePFnUgWpzODk5YcyYMUhPT8eZM2eg
UCiwZcsWTJkyRX+Mh4cHIiIi0NjYKGJSIiLzyLaw1NTUIDAwECqVCgAQEBCg32Zr6enp+gJmDS8v
L6SkpGDVqlVwdnaGWq0GACxbtmzI98n5rhI5ZweYX2zML0+yLSytra1Qq9X6R9Gq1Wq0tLSMSmHZ
uHEjvL29ja5vpVAoMGfOHIwbNw5+fn544YUX0NjYiIKCAty8eROzZ8/GypUrbZ6JiEiqZFtYNBoN
2trakJycDEEQcOTIEXh5eZk8vv/95H39nua8Dg0NRUNDw4iPnzZtmn6GuSWf1//1oUOHEBkZaVV+
sV7372OWQh7ml1Y+5pf+a0vI9nZjnU6H7du3IzU1FYIgYOfOnUhPTzd6rD2XzR8Ncp5kJefsAPOL
jfnFZentxrItLABQXFyMU6dOAQCSkpIQFRVl9Di5FxYiIjE8ljPvp0yZYnAXFRERiU/W81geF3K+
F17O2QHmFxvzyxMLCxER2ZSsx1hGimMsRETm41phREQkCSwsMiDnflo5ZweYX2zML08sLEREZFMc
YyEiIqM4xkJERJLAwiIDcu6nlXN2gPnFxvzyxMJCREQ2xTEWIiIyimMsREQkCSwsMiDnflo5ZweY
X2zML08sLEREZFMcYyEiIqM4xkJERJLAwiIDcu6nlXN2gPnFxvzyxMJCREQ2xTEWIiIyimMsREQk
CSwsMiDnflo5ZweYX2zML08sLEREZFMcYyEiIqM4xkJERJLAwiIDcu6nlXN2gPnFxvzyxMJCREQ2
xTEWIiIyimMsREQkCSwsMiDnflo5ZweYX2zML08sLEREZFMcYyEiIqM4xkJERJLAwiIDcu6nlXN2
gPnFxvzyxMJCREQ2xTEWIiIyimMsREQkCc72/sCMjAxUVVVBpVJhzpw5mDt3LgCgpKQEp06dAgAs
W7YMERERFm13RJcuXcJPfvITsWNYRM7ZAeYXG/PLk90Li0KhwGuvvYYf/OAH+m06nQ45OTlITU0F
AOzatQsRERFmbZ88eTIUCoW9vw4REQ1g98ICAAOHdWpqahAYGAiVSgUACAgIQHV1NQRBGPH2vnM4
Ijn/4pFzdoD5xcb88jRqhaWkpAT/+Mc/DLatXr0abm5ueP/99+Hh4YGXX34ZWq0Wra2tUKvVyMzM
BACo1Wq0tLTo/3uk2x21sBARycmoFZaoqChERUUN2r5u3ToAwN27d3HixAmkpKRAo9Ggra0NycnJ
EAQBR44cgZeXF3Q6nVnbHZWc+2nlnB1gfrExvzyJ0hUGAC4uLnBycgIAaLVaVFdX6/fV1NRAq9VC
p9OZtd0UHx8fXLt2bRS+hX2o1WrZ5pdzdoD5xcb84vLx8bHofXafx/Lee+/h4cOHcHd3xy9/+Uv4
+fkBAIqLi/V3eSUlJemvdszdTkRE4nosJkgSEZH9cIIkERHZFAsLERHZFAsLERHZlGh3hdmaOUu8
SHE5GHMymVoWRyw3b97E8ePHMWnSJKxatWrIY6XY9ubkl1rbf/jhh6iuroZOp8OGDRsQEBBg8lgp
tr05+aXW9gBw8uRJlJeXQ6lUYv369bJrf3Pym9X+ggPo6ekRtm3bJnR2dgqdnZ1CWlqaoNPprD7W
XszNlJGRIdTV1dkx4dCKi4uFgoIC4fjx40MeJ8W2F4SR5xcE6bV9n9LSUuHDDz80uV+qbd9nuPyC
IN22FwRBuHnzpnD48GGT+6Xe/sPlFwTz2t8husL6LwmjUqn0S7xYe6y9WJJJkNDNfFFRUdBoNMMe
J8W2B0aev4+U2r6Pm5sbnJ1Nd0BIte37DJe/jxTbHgBu3bqFJ5980uR+qbf/cPn7jLT9HaIrzNSS
MMaWeDHnWHsxN5OxZXHkQIptby6ptn1eXh4WLlxocr/U2364/IB023779u1obm7G22+/bfIYKbf/
SPIDZra/tZdQUvDgwQMhIyND6OzsFDo6OoSDBw8K1dXVVh9rL5ZmunPnjvDOO+/YIeHwbty4MWxX
khTbvs9I8vcnpbYvLCwUPvnkkyGPkXLbjyR/f1Jq+z63bt0Sdu/ebXK/lNtfEIbP399I2t8husJM
LQlj7bH2Ymmm/sviiE0YwSWyFNu+z0jy9yeVtq+srERZWRkWLVo05HFSbfuR5u9PKm3fn4+PD3Q6
ncn9Um3/PsPl728k7e8wM+9NLfFy+fJluLq6GjyaWIrLwZiT39SyOGI5c+YM/vvf/6KxsRGTJk3C
+vXrAcin7c3JL7W2//Wvf40nnngCSqUS48aN0y/yKpe2Nye/1NoeAA4cOICWlhY4Oztj7dq1+q4t
ubS/OfnNaX+HKSxERCQNDtEVRkRE0sHCQkRENsXCQkRENsXCQkRENsXCQkRENsXCQkRENsXCQiQz
d+/eRVFRkdgxiExiYSGSGRYWkjpOkCSyUGdnJ7Kzs3H79m0olUoEBwcjOTkZANDe3o5jx46hIU2W
pAAAAhpJREFUoaEBdXV1mDlzJpYvX65/b0ZGBgIDA1FcXIyuri4sXrwY0dHRAHpnPefl5aG9vR1d
XV347W9/i6CgIADAv/71L3z66afo6OhAQEAAIiMjkZSUZP8vTzQEFhYiCx05cgQajQYvvvii0f2t
ra3QaDTo6urCb37zG+zduxe+vr4AegtLfX09tmzZAnd3d4P3tbS0wNPTEwCQm5uLBw8e6JeZAYAv
vvgClZWV+uVPiKTGIZbNJxLDf/7zHxw8eNDkfqVSiatXr6Kurg4uLi5obGzUFxaFQoH4+PhBRQUA
PD09cffuXdy7dw9VVVV4+PDhqH0HotHAMRYiK5haEfbevXvYvn07vv/+e4SGhsLLy2vQCsqmOgs+
+OADnD17Fp6ennj66acl+3ArIlNYWIgsNH36dJw8eVL/P/7+BaC0tBRTp05FbGws1Go1amtrR3ze
wsJCJCcn47nnnkNlZeWg/SqVCk1NTQBMFzYiMTnt2LFjh9ghiORo8uTJKC0tRU5ODi5evIiysjJM
nz4dAODn54czZ87gwoULqKmpgY+PDwIDA/XLkhcWFiIoKAhjx44ddF5nZ2f84Q9/wJUrVxAeHo6K
igrExMTo9/v4+CA3NxcXL15EQUEBpk+fPqLH+hLZCwfviYjIptgVRkRENsXCQkRENsXCQkRENsXC
QkRENsXCQkRENsXCQkRENsXCQkRENsXCQkRENvV/V/FZryWXFucAAAAASUVORK5CYII=
"
>
</div>

</div>

<div class="output_area">

    <div class="prompt"></div>




<div class="output_png output_subarea ">
<img src="data:image/png;base64,iVBORw0KGgoAAAANSUhEUgAAAZYAAAEQCAYAAACTEVJTAAAABHNCSVQICAgIfAhkiAAAAAlwSFlz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"
>
</div>

</div>

<div class="output_area">

    <div class="prompt"></div>




<div class="output_png output_subarea ">
<img src="data:image/png;base64,iVBORw0KGgoAAAANSUhEUgAAAZYAAAEQCAYAAACTEVJTAAAABHNCSVQICAgIfAhkiAAAAAlwSFlz
AAALEgAACxIB0t1+/AAAIABJREFUeJzsnXdcFFfXx3/bYOm9CgioGBELaDRWELvGAlFRY0ui+ACK
YowtqNgee1fU2BUrPipBrGDvYEHFDqLSpPe67Lx/8Nl5GXaXLS5ldL5/OXfmzj2zXubMPfcUFkEQ
BBgYGBgYGFQEu6EFYGBgYGD4tmAUCwMDAwODSmEUCwMDAwODSmEUCwMDAwODSmEUCwMDAwODSmEU
CwMDAwODSuHW5c3/+ecfpKamQigUwtfXF2ZmZnj27BlOnToFABg1ahScnJwAQGXtDAwMDAwNDFEP
PH/+nPjnn38IoVBIBAYGEmVlZURZWRmxaNEigiAIorKy8qvbhUJhfTwKAwMDA4MM6nTFIoLP54PL
5SI1NRUWFhZQU1MDAJiZmSE1NRUEQXx1e1paGiwsLOrjcRgYGBgYaoFFEHUfeb97924MGjQIRUVF
uHv3LuVc165dAUAl7Q4ODiqVm4GBgYFBcep88z4mJgaWlpZo0qQJtLW1UVxcjLFjx2LMmDEoKiqC
rq6uytoZGBgYGBqeOjWFJSQk4OXLl5gwYQIAwNzcHKmpqeT5tLQ0mJubQygUqqRdGpcvXwaHw1Hl
ozEwMDB88+jr66NDhw4K96tTU9i0adNgZGQENpsNGxsb/Pbbb4iNjSW9uUaOHIm2bdsCgMraJREV
FQUXF5e6eUgGBgaGb5THjx+jd+/eCverlz2WhobuiuX27dvo3r17Q4uhFHSWHWDkb2gY+RsWZRUL
EyDJwMDAwKBSmBULAwMDA4NEmBULAwMDA0OjgFEsNOD27dsNLYLS0Fl2gJG/oWHkpyeMYmFgqIXM
zEw8e/YMJSUlDS2KQgiFQty8eRP37t1Dfn4+2V5RUYHS0lK8fv0aSUlJEvsSBIG8vDx8B1ZyMUpK
Sr7L51Y1zB4LA4MUAgMDcfz4cZSWlsLOzg7Hjh2DlZWVUvcKCQnB2rVrUVRUBA0NDQQFBeGXX35R
scRVCIVCjBs3DleuXEFlZSUAQFNTExoaGiAIAoWFhQAAPT09DB06FGvXriX7Pnr0CNOnT0dubi4M
DQ0RHBxcqyv/t0JmZibGjRuH5ORkaGpqYtGiRRg8eHBDi9XgMO7GtcAoFgZFWblyJdavXw+hUEi2
DRw4EEeOHFH4XosXL8b27dsp9+JyuVi+fDm8vb1VIm91rl+/jlGjRkEgEMi8VkdHB+Hh4aTycHNz
w7Nnz8jzLi4uiIyMVLmMjY2xY8fi4sWL5LG9vT1u3boFDQ2NBpSq4WE2779h6GynpaPsubm5OHjw
IEURAEBxcbHC9xIKhQgLCxO7l0AgwOnTp6X2O336NEaOHImxY8fi9evXCo2Zk5Mjl1IBgIKCAopJ
rLrZTNKxLAiCwKpVqzBkyBCMGjUKHz58UKh/Tepr/mRnZ1OOc3NzkZmZ+dX3peP8VwX1kt2YgYFO
ZGdno6ysjNLGZrOVCnQjCALl5eUSz1Xft7l+/To2bdoEgiDQrl07HD16lHzZvX37FufPn4epqalc
YzZv3lxu+ezt7dG5c2fyuEmTJkhMTKQcy6K4uBhsNht8Ph/r16/H1q1byWcbO3YsIiMjoaWlJbdM
DYGdnR0ePnxIHpuamtaaJoqhdhhTGANDDSoqKtC3b1/SJMRisdC+fXvY2tqivLwcEyZMQN++feW+
n729PXJzc8XaeTweTp48CXNzc3h6epL573g8HioqKijXbt++HWPGjJFrvHnz5uGff/6ReR2Px0Ov
Xr2Ql5cHTU1NrFu3Djo6OvD19UVGRgbMzMywY8cOGBgYoLy8HLt27UJycjJ+/fVXtGnTBgRBwMfH
B3fu3AGLxULfvn2RkJCAGzdukGPw+XycP38e7du3l0v2hqKkpATTpk3Du3fvoKWlhXXr1qF169YN
LVaDo6wpjFmxMDDUgMfj4dixY5g9ezYKCgrg5OSEqKgonDlzBgDw8OFD7NixA+7u7jLvVVFRIXXF
UlFRgalTp8LAwICSVLWmUgGgkFlGnlWGaJwrV66QXlB9+vRBYGAgTpw4ARaLRV4XHx+Pnj17kquQ
f//9F7t27cKbN29w9uxZ8vlOnDgBR0dHyhh6enowNjaWW/aGQkNDA3v37m1oMb4ZmD0WGkBnOy1d
ZbewsMCRI0cwZ84cdOzYEe/evSPPZWRk4NChQ3Ldh81mS1QUItLT0/HmzRuZ9zE0NJRrPAAYPXq0
3NdWN1jk5ORg/vz58PPzAwBUVlaiqKgIPXr0oJjt0tLSsHHjRjx//pyiNIuLi9GxY0e0bdsWenp6
sLCwwG+//aa0Jx1A3/kjgu7yKwuzYmFgkIGBgQHU1dUp+y7a2tpy9WWxWHLHRfB4PGhpacHKygqf
P39GXl4eAKBp06YKmSNu3bol97U1KS8vR2RkJLp164aMjAzk5uZKdAR4/fo1vL29ER4eTpr5jI2N
MXz4cAQFBSExMREGBgYwMTFRWhYG+sIoFhpA5+yodJYdqJKfIAj07t0bV69eRVlZGRwdHbFkyRK5
+ldWVkJDQwMFBQUyrzUxMUFYWBjs7Oxw/PhxnDp1ClwuFwsXLlRoI1mR1Y0k5PGIsrS0xIABAzB7
9mz873//A4vFwqRJk9CpUycAUFk1129h/nyPMIqFgUEGLBYLhw8fxoMHD1BQUIAuXbrUumI5cuQI
IiMj0aRJEyxcuBB2dnaU2JDaaNasGYAqb6qxY8cqJe/ly5eV6gdUme54PF6t7sosFosMHvT19YWv
r6/S48mivLwcL168gIaGBn744QfK3g9D44VRLDSAzjUd6Cw78P/ys1gs/PTTTzKvnz17Ng4fPoyK
igqwWCy8fPkSO3bswLRp0/Ds2TMyEl4Sqiqv/eDBA7mv1dLSQlFREaVNmrMBALRp0wYDBgzAzJkz
lZZPXvLz8+Hm5oZPnz6By+ViwIAB2L9/P62UC93nv7Iwm/cMDCri33//xcGDB8nNeoIgEBMTA319
fWhpadWqVNhsNn7++WeVyKFIBEFNmYRCoVQ5dXV1oaOjAza7fl4bM2fORGJiIoRCIcrLyxEeHo4L
Fy7Uy9gMXwejWGgAnb946Cw7ULv8lZWVKCgowJUrV3D//n3s2bNH7KVcXFyMxYsXy/QOsrCwQPfu
3XH79u1aVwzyINrnkIfS0lJoampKPFdzZZCfn4+7d+9iy5Yt2LJly1fJKA/R0dGUY4IgaKdY6D7/
lYVRLAwMCkIQBAICAuDs7IwWLVrAy8sLHh4eePnypdi1HA6n1tQtIpKTk+Hp6QlPT0/8/PPPYuYp
RZgxY4bc13K5XPj5+cHT0xNcLtUyLm3lU1JSUi9utLa2tmJt58+fx4YNG+p8bIavg1EsNIDOvvB0
lT0/Px/Tp09H//79xaLYDx8+jJMnTyIpKYlcXZSVlSEnJwdqamqUa9lstlieMGkIhUIIBALExMRg
3bp1Sst+586dWs+LViIsFgtubm6YO3cu9uzZI+bJVZvJS1X7QbWxbds26OvrU9pycnKwc+dOStqZ
xgxd5//XwigWBoYaVFZWYuTIkThy5Aiio6OxbNkyrF+/njwfExMjsT4LQRAYOHAg2rZtCzs7O/To
0UPpHFk1kyIqgoWFRa3nLS0tYWRkBGNjY+Tn52PZsmUoLS3FnDlzyGBGCwsLtGjRguzD4/HA4/HA
YrHAZrORkJBAxtnUFU2bNsWmTZtITzkR2dnZZOLMhIQEhIaGKpyok6FuYRQLDaCznZaOsn/+/JkS
aV9UVIRr166Rx+7u7tDR0ZHY98aNGzh16hQCAwPx5s0buRVE9f0MCwsLTJo0STnhUbtXF1BldsvK
ykJGRgYePnyIzZs3Y8SIEeDz+XB1dYW/vz8uXryIa9euwcfHBz///DNmzJgBPp8PgiAgFAoRGxuL
BQsWKC2jvAwdOhRjx44Fn88n25o2bQpHR0ccO3YMgwcPxtSpUzF06FDs2rWrzuVRFDrOf1XAuBsz
MNRAU1NTbI/jy5cv5L+HDx+O169fY/PmzWJZkHNzc/Hw4UNs3boV6enpco/J4XDQr18/AICPjw+c
nZ2Vll9SwktZxMTEYMqUKSgoKCADOj08PHDz5k0UFhbiw4cPYkGeijzf1zBz5kzk5ubi3r17UFNT
Q1BQEAwNDbFjxw7y/yUzMxP79u3D1KlT60UmhtphFAsNoLMvPB1lLykpEdtfqGnSmjdvHhISEnDq
1ClKu4aGBmxsbOSuhyJCIBDAzs4Oy5YtU07oavTq1QsaGhoKlVOuniyzpKQE586dw61bt/D+/Xvy
Gk1NTUpNmufPnyMtLa1O08uL5o+kTAc1f2OBQACCIBpVnAsd578qYExhDAw10NTUhIGBAaUtJycH
/v7+ePr0Kdk2adIkyiY2j8fD+PHj4eTkRKlxIi/x8fHKC10NfX19DBo06KvukZ2dLbbyMTY2pry0
09PT5U5tUxd07twZ6urqAKq825ydnRuVUvmeYVYsNIDOXzx0lN3ExATDhw/HkSNHUFBQADabjc+f
PyMkJARRUVHYvXs3zMzM4OfnR1ZYFOXKWrVqFQDg06dPCo/r5OSksmeQtlqR5KWmra0NNTU1yn6Q
uro6DA0NKTnDTE1NxZ6rtLRUZTJLorb5s2HDBlhbW+Pp06do1aoV5syZU6eyKAMd578qYFYsDAwS
+O9//4v//e9/sLCwoLyIU1NTsWXLFmzcuBEfP34k2wmCQEhICJkTLCUlRaHxOBwO5s2bpxrhAalF
qmoqFQMDA0yZMkWshouhoSGCg4Ph4uKCFi1aoE+fPti/fz9atWpFXmNmZoY//vhDZTIrCovFwqxZ
s3Do0CHMnz8fHA6nwWRhoMIoFhpAZ194OsvOYrEoBbhE3L59W+JLrKSkBD4+PujevTuljrw8DB8+
XKWpUvz8/OSKNRk2bBguXbqEuLg4SjubzUb79u0RGRmJBw8e4OTJk2jSpAnOnj2LsWPHwsPDA7t3
767zL3JF58/t27fh6uqKTp06wcvLC4WFhXUkmfzyfI8wpjAGBgnk5ORg8eLFEs8VFxdDV1cXfD5f
zBT06tUr8t98Pp80J9XmAsxisbBo0SLVCI4q85SHhwdppquNW7duSdzbEQqFqKioIPcwRJiYmGDb
tm0qk1WVlJSUYNasWaTDwfv37zFr1iy5yjQzqBZmxUID6GynpaPsAoEAo0aNwt27d6Vec/ToUbEN
/ppwuVwcP34cHh4etV5HEARWrFihlKySiIqKwpMnT+S6VpJSYbFYaNWqlZhSaQgUmT+pqanIysqi
tCm6clQ1dJz/qoBRLAwMNfj8+TPFzVYSOTk5lNgWSWhpacHS0hJnzpyROWZMTIxCMtYGh8P5Ku8o
Ly8vsdLL//zzD2xsbGBtbY3+/fvXmqm5oTA3NxdT9paWlg0kzfcNo1hoAJ3ttHSUXVdXFzweT+Z1
teUA43K5mDlzJu7fvy9XtmJFUt3LolevXlIzFsvC3Nwc69evp6xW/vrrL8ybNw+FhYUoKipCdHQ0
Ro4cqSpxa0WR+aOpqYl169bByckJ9vb2cHd3x8aNG+tQOtnQcf6rAmaPhYGhBkZGRhgzZgy2bdum
9Avfzs4OHh4eckfQd+zYUalxJBETE6N0duSBAwdixIgRyMrKgomJCZYuXYoTJ05IHEOVnDt3Dps2
bYJAIECPHj2wdOlSpVZdbm5uuHnzpkplY1AcFqHKT6VGSlRUFFxcXBpaDAaaMWvWLBw4cECpvmw2
Gx07dsTDhw9rvc7IyAj29vY4efIk9PT0lBqrJqdOnYK3t7dc19asIKmurk5JU9O2bVu8fv1abNWl
rq4u0WNOGT59+oSBAweS99PQ0EBgYCB8fHxUcn8G5Xn8+DF69+6tcD/GFMbAIAV7e3ul+xIEgeTk
5FqvadmyJW7cuIELFy6oTKkAVaYwaUkya2JiYkI5rqlAioqK0LRpU7F+QqGQjNkRQRAEcnNzFUol
AwD379+nKKmSkhLcu3dPoXswNC4YxUID6GynpavseXl5WLt2rdzX1yySxeVyZcaRjBs3DpaWliov
9SsQCMQSRkrCyclJLNq/pgHD0NAQ4eHhMDY2prRXVFRQfp8XL16gTZs2aNOmDTp16kRmIJCH1q1b
Uzbd2Ww2qdTpOn9E0F1+ZWEUCwODBB48eCDXy1lHRwfLli2DnZ0dpV1TUxMcDkfi1z4A9OzZE35+
fkrL9/TpUwQHB0s0tW3fvl1m/+bNm+PcuXPYvn07+vTpI+ZaLMq9FRwcDFNTU+zdu1dMAYqU0OvX
rzFo0CCkpKSgqKgIycnJ2L17NyWmpzZat24NX19fNG3aFFZWVujfvz/+/vtvufoyNE7qdPP+1atX
OHToEBwdHTF+/HgAVZM+JSUFampqcHV1hZubGwDg2bNnZKbYUaNGkV9SirZ/i9DZF74xyv7u3Tuc
Pn0aNjY28PLyorwwCwsLMX/+fJlVGEWUlJQgLCyMUr8FqFrx5OXlgcPhQFtbmxIBrqGhAUNDQ5w5
c0ZijMuVK1ewb98+sNlsLFy4ED/88APl/J49e7B69WpkZWVBX18f06dPR0BAAHleW1tbptwJCQm4
desW7t69i8LCQvB4PMreCo/Hg46ODvbu3YslS5bgp59+wo8//ogHDx4AAJo0aQJ/f38AwPr168Ui
3HNychAfH09JAVMbf/75J2bMmIGKigpoaGiQ7Y1x/igC3eVXljpVLBUVFfDw8MCbN2/INhaLhYCA
AMrSWigUIjQ0FAsXLgQArFixAk5OTgq1t27dmslsyiCTu3fvYurUqUhOTgaPx0NERAQOHz5Mzp1f
f/0Vt27dkvt+AoEAjx8/lnq+srJS7KVbUlKCs2fP4urVq8jKysLkyZMp8vn5+ZHJH+Pi4hAREUHJ
5XXgwAEyEDA3NxfHjh3DzJkzyWeYOXMmduzYUWuFR6FQiMDAQKSkpKCiokLsfElJCW7evIk7d+4g
OzsbO3fuxOnTp7FlyxZkZmZi0qRJZD4ySeltjIyM0KFDB6nj15SFzWaDy+WKmRQZ6EmdmsLatm0r
8eupph03LS0NFhYWUFNTg5qaGszMzJCamqpQe1paWl0+SoNCZzttY5N9w4YN5KZ6RUUFrly5QiqG
goICpVLXy1vTvib5+fligYg7d+6kZBT+9OmTWM2XmuPVDFZUU1OTy5NHlLZFhLq6Orp160b5m62s
rMSLFy8AVK205s6di7Vr11KSXM6bNw+2trbksZaWFnbs2CGzRHJYWBi6dOmCDh06YMSIERJdpBvb
/FEUusuvLPX+ecDn87FlyxZoaWlh0qRJMDc3R2FhITQ1NUnXTk1NTdK+rUi7rInMwFDzo6aiogIz
Z87EtWvXoKGhATU1tXqV5/Pnz5RjSRH/Hz58oBy7ubnh48ePKCkpIZVB9dV6dnY2Tp8+Xeu4urq6
aN26NWV8ExMTHDhwAAMHDqTIISu1i62tLcLDw3H48GHo6urit99+o5izJJGbm4ugoCAyQ/THjx8x
Z84cufaHGBo/9b55//vvv2PZsmUYPXo0Dh8+DKDKJlxcXIyxY8dizJgxKCoqgq6ursLttVH9y+H2
7du0Oqaz/N27d29U8kyePFnMdJOYmIjTp0+Dy+XCx8fnq11/FYl6t7KyosjXtm1bsWu0tLQozzNw
4EBMnDgRv/zyCxYuXIiRI0dSzs+dO1fmuD179sT69evRtm1b6OjowMTEBH5+fjAyMsLgwYNhYmIC
dXV12NnZYdiwYZg7dy7mz5+Pp0+f4tatW2K/b3x8PJKTk3H48GF069aNUglT9HxCoRDZ2dm4efMm
wsPDkZGRQZFJlNerMc8fRY/pLr+y1HmAZFxcHB4/fkxu3otITk7GiRMnMGvWLAiFQixevBgLFy4E
QRBYvnw5li1bpnC7NJgAye+XkJAQHDt2DCwWC1OnTsWQIUPQu3dvSpJGMzMz3LhxA6ampgCAO3fu
YOjQoUpH3WtoaJDKpVmzZoiOjpZ4L21tbQQGBlKCGT9+/AgPDw8kJiYCqHIJjoiIkDsuBajac1y/
fn2t18ybNw9z5syBQCBAcnIyDAwMKB9n6enp+PTpE+zt7eHr64urV69CIBCAw+HA2NgYnTt3xu7d
u8nUN6tWrcLGjRtJ05qFhQUuXLgAGxsbAEB0dDT8/f2Rl5cHfX19rF27FjNmzEBCQgKAqr3XiRMn
YsOGDXI/J0Pdo2yAZJ0qlrNnz+Lp06fIzc2Fo6MjvL29sXHjRuTm5kJDQwN//PEHGaAVGxtL2pJH
jhxJfrkp2i4JuiuW27fpWze7IWW/evUqvL29ycqIZmZmOH78OLhcLiZNmoSEhATo6elh/PjxlBK7
+fn5cHBwkCvHV22wWCz06NED9+7do+xlcLlc/Pzzzxg8eDB++eUXsX5JSUnYsWMHNDQ04O/vL1dd
leoUFhbCzs5OaqJITU1NPHjwQKy4lyTevXuHfv36iTkCcDgc+Pr6kr/buHHjcP78eco1Bw8exJAh
QwBUme+qB1Q6Oztj8eLFCAoKQklJCVq1aoUdO3aImd2qz5/i4mKoq6vTqqAXnf92AeUVS53usQwf
PhzDhw+ntFV3i6xOu3bt0K5du69uZ2AQcfbsWUq53S9fviAiIgILFizA5cuX8eTJE1haWoq58+rq
6kJPT0/MVKMoBEHg4cOHsLa2Jr/MAaBbt27Yt2+f1H5WVlZflUZfW1sbhw8fxtixY6XeX5pSOXXq
FG7evIlOnTrh119/lTpGZWUl3r59Sx47ODjg8uXLEAgEAKrKGFff4K8ZE1RQUICePXvi6tWrMp+n
uLgY48ePx5s3b6Curo4pU6bgP//5j8x+DA0HEyBJA+j8xdOQsjs4OFDcV/l8Plq2bImUlBSEhYVB
KBSiZcuWYv0IgkBOTo5KZCgvLxdb+ajq3rUxYMAATJs2TWwTnc1mY9q0aRL7LFu2DLNmzUJISAjm
zp2LOXPmoHnz5ujcubPYKoHL5cLR0ZE8XrBgAYYMGQI7Ozs4ODhgzpw5lJQ4NdPXy7NaevXqFY4d
O4bevXvj2rVrSElJwYcPH7B582Yxp4fGiKjQ2uvXrxtYkvqHcRpn+Gbx8fHB/fv3ER0dDTabDVdX
VzRr1gyDBw/Gx48fwefz8fPPP4tVGExOTia/vL8WgiCQkpJCaZNkoiosLMT+/ftRXl6OSZMmwcjI
6KvGnTt3Lv7991/w+Xzo6+ujpKQELBYLXl5eGDdunMQ+Fy9eJGNuSkpKcO3aNQDAkSNHsG/fPly5
cgXx8fHg8Xho3749FixYQPYVCAT4448/oKGhgfbt24vFlB08eBC+vr5IT0+Hubl5rd5fBEHgt99+
Q0REhMTfKj09HR8/foS1tbXCv0t98fHjR4wePRrv3r2Djo4ORo0ahdWrVze0WPUGo1hoAJ3ttA0p
O4fDweHDh/HlyxdwuVwYGxtj5MiRpItraWkpoqKiEB8fj2bNmpH9VPmFSRAEZeOex+OJpdIvLCzE
kCFDEBsbCwAIDQ3Fv//+SzoTKEpMTAwOHTpEiaSfPHky1qxZQ7nu3r17OHbsGCwtLSWaqEXKQSAQ
YNiwYZg8ebLEIOS8vDx4eHggLi4OampqcHd3x4EDByjXGhoa4vjx43LJf/jwYZw7d05qfJCNjY2Y
+bKxsWDBAjIwPC8vD6dPn4aPjw8l3udbhjGFMXzTsFgsmJubk5kean4Bl5eXi9WtryvTBYvFgoGB
AfLy8ijR+IcPHyaVCgC8ffsW69atk3gPgiCwZ88e/P7771i9erXEL/r79+9TlAoA/PvvvwCqXKv/
/vtvTJ48GZMmTUJISAjWrl2LUaNGYeTIkWQySF1dXQwbNgxHjx5Fly5d0LNnT/Tp00di1cw5c+bg
6dOnqKioQFFRES5fvizX3ok0YmJiJCoVKysrdOzYEZs2bRJLitnYqDmnioqKkJub20DS1D/MioUG
0HW1AjQ+2ceMGYPnz5+TKVGcnJzE9lkkpTiRBy6XSzGh8fl8yguGIAikp6cjPDwcLBaLDPCVpByk
eXQtWbIEe/bsQXFxMbhcLt68eSPmCCCpTkp6ejp27tyJrVu3ip0nCAJPnjzBypUr0aFDB9y8eROd
O3dGp06d0LNnT3z69Im8R0BAAI4ePUr2/fz5s5g3WFlZGdLT0yXKLw99+/bF2bNnKcr3hx9+wNWr
V8Hn85W+b30yYMAAPHr0iNxnadGiRaNfZakSRrEwfFeMHDkSOjo6OHXqFExMTBAYGCiWn0pZZSgQ
CGBsbAxLS0vo6Ohg3rx5WLt2LT5+/Eia30SI4lSAKlfdY8eOkdmA7ezspHpPXrt2DcXFxeR4jx49
Qnl5OSVjgJmZmcS+QUFBUl2oORwOOBwOevTogR49egCoSlQpejGKqPnVvW7dOrFULPr6+ujbt6/E
ceRhyJAhePPmDU6fPo38/Hz89NNP2LZtG22UCgBMmTIFPB4PFy9ehI6ODlauXEkr+b8WRrHQAGaP
RbUMGDAAAwYMkHq+ZtJIRcjMzISpqSlOnDgBTU1NdOvWjXxRV6f6ykZfXx/h4eHYuHEjysvLMX36
dFhZWUm8f83U9SKFUJ1ffvkFS5cuFTMnSVMqogSQa9asweLFi1FQUAArKytYWVnBwsKCVCZsNluu
bMUEQUhdccnL7NmzMXv27EY5f+Rl0qRJaN68OW3l/xqYPRaGb5Kacb9FRUW4evUqHj58KDOiPiIi
4qvGfvnyJZnYMi4ujpLdW0RNBWFoaIhly5Zh9erVYkpFKBQiNTUVRUVF8PHxITf19fX14eXlJaZY
4uLi5EqMaWZmhh9//BFsNhtZWVk4c+YMOnfujP79+8PNzQ2XLl3CwYMH0aNHD7i4uGDcuHFiBbz+
+usvaGlpUdry8vIQGRkpc3yGbxdmxUID6PzFUx+yFxUVYenSpcjIyICmpiYePnwIgUCADh06YOfO
nRK9lg4dOiS1cqMi6VOkkZycjEOHDmH58uUSXZflTQ+fk5MDLy8v0j3a29sbYWFhuHPnDtq3by8x
o0TNjXtnfUu7AAAgAElEQVRJ6OjoICwsDP7+/hT5RH0/fvyIpUuXIjo6GmFhYVLvY2VlhSFDhlA8
vvh8vtQVl6LQee4D9JdfWRjFwkBrBAIBfvnlF7KSIovFIlckiYmJKCkpQUpKCp4/fw6gylvn4sWL
OHv2LDw9PSXeU9oehSI0adIE8+fPp6TAr44k85gkZs+ejZiYGPJ4+/bt8PT0xO+//y61j5GREeV3
qInIDXjTpk21Zi6Oj4/H6tWrZSa1XLNmDeLj4xEXFwd1dXX069cP5eXl8PX1hY2NDWbNmlXvWaMb
moqKCiQkJEBXV/e7zLrOmMJowNdmGm1I6kL2169fo0+fPnB2dka3bt0QFxdHnqv5Mj1//jyePn1K
aRMlMf2avZTqiBIxVmfRokW1BllKS7dSk+opaYCqzXNJLr/VSU5OrtXcRxAECgoKEBYWhhEjRqBF
ixZQV1eXqGQ2b94sU0ZtbW2cO3cOFy9exKVLl+Dq6gpfX18cP34c69atw5gxY5SuWUPHuZ+dnY3+
/fujf//+6N69OxYtWtTQItU7jGJhoB3/+c9/8PjxY3z8+BHv3r2TWCBKFsnJydi2bZvEc4qkvRdd
XzPV/tu3b/HDDz9IXRH8+eefct27Q4cOlK99a2trNG/evNY+Xbt2FUuZwmazxXLrlZSU4OHDh0hL
SwObzYa1tbVYAKS8m/A8Hg9OTk5o3rw5jh49SrpzC4VCPH36VMwr7ltGVF4gPz8fOTk5OHLkCCWv
2vcAYwqjAXS206pa9oqKCrGveKDqxanoV/GOHTtQWVkJFxcXDBgwgHypisxm8pKXlwczMzNKBuDK
ykosXLgQzs7OWLlypdi+h7zKcMGCBSgtLUV0dDT4fD5Wrlwps6a9iYkJdHV1yUqZbDYbLi4u6Ny5
Mz5+/Eh6eWlqauLIkSNkv/fv34PNZlNWO4aGhnLJWZ2ayonD4Uhc1ckDHed+zUzQeXl5SE9Ph4OD
QwNJVP8wioWBVvB4POjp6ZFFoURYW1sjLy9PLM6Cw+FI/eouKCjA+vXroaGhgZEjR2LTpk0AgMuX
Lyssl6SoajabDX9/f2hoaODvv/+mmMays7NRWloqM7aBzWZj+fLllLaysjIsWLAA8fHxsLa2xurV
qymrrKtXr1I80YRCIWJiYvD48WOwWCzweDwQBEHGw1SHx+OBy+VCKBTCysoKly5dkirb3r17yWBJ
Ly8vsq5MQEAA4uPjkZKSAnV1dbi5ualsM58OuLu74+7du6SptVmzZmjTpk0DS1W/MIqFBtDZl78u
ZP/nn3/Qv39/8g+XzWajefPmiIqKolxnYGCACxcuYPfu3eByuThz5ozEiPCSkhJcvnwZubm5IAhC
qdQb2tralFUJh8MhU8VPnjwZiYmJ2LVrF7mq+vz5MwICArBjxw6Fx/L29kZ4eDh5nJaWhtDQUPJY
IBBIXL2J2mozb5WVlaGsrAx8Ph89evSAvr6+xOtu3bqFlStXkqvHxMRENG/eHO7u7nBzc8OZM2dw
/vx52NraYujQoQo/owg6zn1vb28yD11RURGCg4O/uiop3WAUCwPtaNWqFeLi4jB37lx8+fIFbdu2
haenJ2JiYihmiEGDBsHBwQFr164FUBX4WN30Ux2hUEhGsMvjrlsdDoeDadOmYePGjZQUHiLTh7+/
P0JDQ8Ve9vHx8QqNI+L69euU47t374IgCNIE5e7uLpZORlFKS0tx/fp1yn2rc+nSJYpJMicnB5cu
XYK7uzuAquefMWOG0uPTHX9/f/j7++P27dvflQlMBKNYaADdvtiqo6jscXFx2LFjB7S1tTF//nyp
X3o6OjoIDg6mtHl6euLYsWOorKyEra0tpViWaPPU2NgYBQUFIAgCbDYbpaWl4HA4cHZ2homJCVgs
FiwsLBTabK6srISxsTGWLVuGCxcuQE9PDytWrIC6ujoqKytx+/ZtiVHvyn7F1rxXTe+zmJiYr1Iq
ImoqlCNHjmD79u0oLy+HgYEBRXnx+fxaq7gqC53nPkB/+ZWFUSwMjYbY2FiMGzeO3HS+d+8eIiIi
ZG5WA1Wb4Q8fPiRfdJmZmZg8eTKaNGmCgQMHYubMmUhLS6P0sbe3h4uLC1q0aIGAgADyRbp582ax
yqeyuHDhAoKDgzF69GjKRjWLxRJ7QXO5XDg5OcnlyisJS0tLfPjwgTw2NjamjPHo0SOZ9+DxeOjY
sSPevXtHibURxb/o6enB2dkZrq6u4HA4sLe3x71798jfUJTeJS8vDwRBwNXVVW4XaoZvH0ax0AA6
2plFKCL7li1bSKUCVHlnXb58WWogY3Xu379PJnEEqkwzorQiR48elZixOCkpCcHBwejUqRMKCgow
a9YsJCcnK+xuDFTVBu/SpQvU1NQwefJk+Pn5Aah6AQ8fPhz79u1Dfn4+DA0N4e/vj+nTp0s0McnD
8uXLMXfuXKSmpsLU1BSLFy+mnJenSFlFRQUGDBiAZs2a4ciRI6QnmI2NDUaOHImkpCSEhoaS+zHV
0/oDIDf3RY4ONStVqgo6z32A/vIrC6NYGBoNNdOcsNlsMa+poqIiJCcnw9LSEtra2iAIAhUVFdDV
1YWamppEE5C0NPg8Hg98Ph9paWnw8vJS2M24upzVV0Pbtm3DkCFDYGNjA4FAgClTpqBLly6IjY1F
z5490alTp1rvJxQK8enTJ/B4PIklfAcOHIgff/wR79+/h62tLczNzSnn5UlJY2JiAldXV0ydOhWV
lZV48+YNtLW1sX79etjY2MDFxUVsk5/H45G/pag0cV0pFAZ6wygWGkDnLx5FZA8MDMTjx48RHx8P
NpuNLl26UNKv3759GwEBAcjMzIShoSG8vLxw5swZFBUVwcLCAq6urrh27ZrULL7VYbPZcHNzQ1pa
GsaPH69UDXU2mw0TExOoq6uTNUuAqrolnz59QmZmJvz8/JCdnQ19fX2sW7dOplIpKyvD6NGj8fTp
U3A4HPTr1w/bt28XW90YGxtLLXbl6uoqNa6HzWbDzs4OM2bMIPdEapYJjouLk+iK3KxZM7DZbFRU
VKBdu3aU0sR1BZ3nPkB/+ZWFRchK9foNEBUVJTFZH0PjIz09HaGhodDT08OoUaMoUee9evWimGTU
1NQoSsTd3V3qRnlNvL29ERgYiH79+ilVMbJ58+YwNTXFu3fvkJGRIXa+e/fuyM3NxYsXL8i21q1b
49atW4iPj0daWhqcnJzENvCDgoKwZcsW8pjNZuPQoUMYNGiQ3LIJhULY2dmR7s41mTJlClavXo2C
ggK4ubkhNTUVPB6PrK2yatUqMbdsIyMjREZGomnTpnLLwUB/Hj9+jN69eyvcj1mx0AA622kVld3U
1JTcn6hJza/omnsJDx8+lEupWFpaIiUlBQ4ODkp7TyUmJuL9+/dSz9++fVsse/Lbt28REBCAc+fO
IScnB/b29li7di2OHDmC0tJSjB8/Hnv37qX0EQqFuHDhgkKKJTQ0VKpSYbPZZCXDAQMGkE4ApaWl
mD59OmxsbChKRVtbG1OnTsWcOXOUjp7/Gug89wH6y68sjGJhaHRUVlbC398fT58+hZqaGubNm4f+
/fujRYsWePfundR+8qZJUVdXx7lz5ySe43A4MDExEfMgq4k8G+Q1TVEVFRUUR4L379/j119/JRXm
tWvXJD6DovXdpXmFsdls9OzZExMnTgQAiqMEUOXGXDMxp4WFBf7++2+FxmdgYJJQ0gA6f/EoI/uy
ZcsQGhqKV69eITY2FnPnzkVMTAwEAgFMTExgZmYGDodDeXEbGhrKLOAlorqrbnWaNGmCixcv4tGj
R2LFs1RFzQ3x6qswSUpFQ0MDEyZMUGgMT09PsdWSpqYmQkJCcPr0afJczQJdongekROFyCW5IaHz
3AfoL7+yMCsWhkbHy5cvKSuCz58/o1+/frX2ycnJ+epxk5OTsXjxYpw5c+arS+uK0NbWpqwCNDU1
a03Xr66uTkb+q6mpYdWqVbCzs1NozOLiYrHNfoIgxNLtnzlzBn369EFRURE4HA68vLywadMmrFq1
Cq9evYKTkxPmzJmj0NgMDACzYqEFdKxJIUIZ2W1sbBTuoyoflE+fPuHYsWMquVfPnj1x5coVuLq6
wtHREU2aNEH79u1hb28v8XpHR0fMmDEDZmZmMDc3x4YNGzB+/HiFxvzy5Qt8fHzEFGNJSQlu3bpF
aXNwcMC7d+9w584dvHz5Elu3bgWHw8Hff/+NkJAQzJs3T2qVzfqCznMfoL/8ysIoFoZGx/Lly9Gv
Xz80bdoULVq0kLuMb23I+4LU0NCQ6OWlKDo6Oti8eTNatmyJM2fOwMDAAMnJybh9+zYSEhLEKip2
6NABe/fuRWhoKL58+YK0tDRs2bKFrGsiL8+ePZMqf6tWrcTa1NXV8cMPPyi8j8PAUBuMYqEBdLbT
KiM7n8/H8ePHERMTg/v376NFixZfJQOfz8f48eOlZuoVweFw4OLigujo6K8aT1NTE2PHjiVdc8+d
O4c7d+5QrqmsrISOjg7YbDZatmyJffv2Yd++fZT9n7dv3+LgwYMKjW1nZyexuBiPx0NAQACl7eLF
i/jjjz8wd+5clVXTVDV0nvsA/eVXFmaPhaHRItpAv379OoYOHYro6Gil9j5KS0tx+fJlWFhYoKio
SGokfmVlJU6cOPFVMgNV8TYrV64EUGWiCwwMFLtGKBQiIiICWVlZcHZ2hq6urkR3XkVrxTdv3hw/
/vijmAmmsrISWVlZMDExAQCcPHkSCxYsIDMUx8bGIjw8vEFcihm+PZgVCw2gs51WEdkJgsC8efPQ
vXt3uLq64vjx4wCq0oecPXv2q/ZRUlNT8erVK6lKRZW4ubmR/66oqBBz6xXRpEkTnDlzBgEBAbh2
7RoCAgIo5qp27dph0qRJCo8vydFBKBRSCoadOHGCkvb+xYsXlOJgjQU6z32A/vIrC7NiYWg0BAcH
49ChQ2TQYlBQEDp27IiioiIMHDhQ4dLDDYGRkRF++eUXAFWpUUS5uGpiYmICDw8PPHv2DEDVC2jb
tm2IiIjA4cOHweVyMX78eLkyO9dEmvKsbmar6U6tpqYms5olA4O8MCsWGkBnO60iskdHR1Mi4dPT
03H//n0MGjRIJfVF6hotLS20atUKc+fORXZ2NmbOnImXL19KvLa8vJyS7iUjIwMHDx6Evr4+pk+f
Dh8fH6WUCgCJeywAKJkCAgMDYWtrC6BqD6pv375o3ry5UuPVJXSe+wD95VcWZsXC0Gho1aoVzp8/
T4lhOXnyZL0pFWNjY2hqaqK0tFRiCePaYLPZIAiCNH28ffu21kwAubm5ElcNkti1axeioqKgpaWF
VatWwczMrFZZpKWaqV4OoG3btoiIiMCVK1dgZWWFXr161XpPBgZFYFYsNIDOdlpFZP/zzz/JzWUR
Dx8+VFmMiiy0tLTw+PFjhVOY2NraonXr1pQo+nfv3sn0QtPR0SGVSfPmzcXqqgBV5sEVK1YgMjIS
YWFhGDFihExFK6lIGYvFws6dOyltFhYWmDBhAtzd3ZWuDVPX0HnuA/SXX1kYxcLQKCgoKEC/fv3E
YjDkSSqpKtLT0xEWFkYWCJMFj8fDkydP8PjxY1haWlLOaWhoYP369bVmDGjXrh1CQkIQHByMCxcu
SMwcHBkZSXEFTkhIIMssS6N79+5i+yWHDh1q8PQsDN8PdWoKe/XqFQ4dOgRHR0cygvjZs2c4deoU
AGDUqFFwcnJSafu3CJ3ttK1atcKzZ89ga2sLXV1didcUFhaic+fOMhM/1jUlJSX4448/5K4g2atX
L1IZLF++HAkJCYiPj4eOjg48PDzQpk0bHDp0CFZWVmJJK7W0tLB06VK0adOm1jFqFtLS0tKCgYFB
rX22bt0qtqpZtGgRBg8eLNdzNSboPPcB+suvLHWqWCoqKuDh4UG6MQqFQoSGhmLhwoUAgBUrVsDJ
yUkl7a1bt260y/nvldDQUCxfvhyZmZmwsLDA5s2b0a1bN8o1KSkpWL9+fYMrlepIKnJVEw0NDUoq
+2bNmuHKlSt4/PgxTE1N4ejoCKBqVWNsbCz2fEVFRVi9ejVCQkJqHWfVqlX48OED4uPjoauri1Gj
RkFHRweVlZVSE2VK+i1F+cfoRmlpKR49egQtLS20a9eO+RunCXVqCmvbti3FsyUtLQ0WFhZQU1OD
mpoazMzMkJqaqpL2xvRiUjV0tNMSBIF169bh8+fPKCkpQUJCAmUPgSAI+Pn5wc3NTeHo8saAlZWV
WNZhXV1duLm5gc/no3///vjpp5/g4eFBVmqsSW0lAERYW1vj8uXLCA8Px4EDB3Dnzh107doVXbp0
waVLlyT28fX1pQQ6slgs/P777wo8XeMgLy8PPXr0gIeHB37++WdMmjSp3vbbVAUd/3ZVQb16hRUW
FkJTUxMHDhwAUOWlIipIpIp2CwuLensWhtoRCARi5pjqx5GRkTh79ixKSkrqWzQKfD4fffr0wevX
r5GQkAChUCi1rG/NfkDVyuPOnTvQ0dFB586dce/ePYwaNYp8rrdv30r19pI3D5i2tjY6deoEDw8P
SgXNhQsXok+fPmIrF319fVhaWuLjx48AqtyPExMTMXz4cLDZbPj7+1OCOBsrQUFBiI+PB1A1ny5f
voyrV68qVdGQoX6pV8Wira2N4uJiTJ48GQRBYM+ePdDV1YVQKFRJ+7cKHe20PB4P9vb2ZC15NptN
mocAYOfOnQ2iVFgsFpycnGBsbAwLCwusXr0aWlpaqKiowPLly/H27VskJCTIXE2Ymppi7969CAoK
QlFREbhcLtzd3fHlyxex55JWFEwUR1IbBEFg69atuH79Op48eUI5V1hYiPz8fLE9l6tXr5JKBahS
6NVNbm/fvsWpU6fISpINiVAoRFlZmdheEgDk5+dTjsvKyhR2A29o6Pi3qwrqXLFUX7qam5sjNTWV
PE5LS4O5uTmEQqFK2mujeolQ0fKUOa7b48OHD+Ovv/5CbGwsMjIykJCQAD8/PyQkJODBgwdoCLy9
vTFw4ECw2Wx0794dAoEAv//+OxITE9G6dWvs2bMHo0ePlqlY4uLicO3aNXJlI/qilhcNDQ0MGDAA
GRkZ8PX1RVlZGebNm4euXbtSfs+tW7di5cqVEvdITE1Noa+vL/b7JyYm1rrqSklJwaZNm0j344aa
H58/f8aGDRuQl5cHc3NznDt3Drq6uuT5MWPG4Pbt26SnYLNmzdC3b99GM7+/l2NlYBF1aLQ8e/Ys
nj59itzcXDg6OsLb2xuxsbGkN9fIkSNJ+7Oq2iURFRUFFxeXunnIeoDOdbP37NmDRYsWNZrI+eDg
YIwePZo8njZtGk6cOEGmXXFzc8N///tfdO3aVWVj6uvrIzc3lzzW0dHBsmXLMHz4cAwaNIiMzjc3
N8fu3bspDg6enp64fv06ecxms9G8eXOYm5tj8+bNEl2UKysr4eXlhevXr0tVLhMmTMCmTZtU9ISK
k52djV69epErWgAYMWIE/vnnH8p169atw6NHj8Dj8RAUFCS1lk1jhc5/uwDw+PFjpUyPdbpiGT58
uFiwVrt27dCuXTuxa1XVztB4IAgCmzZtajRKBQDu3btHUSyxsbGUXF7v379XaQp5S0tLqKmpURSL
nZ0dJkyYgLNnz1JSvqSlpWHPnj0UxVLT9dnIyAinTp2ClZWV1DE5HA7GjBmDN2/eIDU1VaJyaej6
KykpKWJ7TDUrXALATz/9hNmzZ9eXWAwqggmQpAF0/eKJi4uTy3W3PsnMzKQc1wwkVFdXV0mZYxHG
xsaYMGECuQ9iZmYGPz8/AFUrl5pp6mvm+Vq9ejUcHR2hoaEBExMT/Prrr7UqFaDKFLZw4UIkJydD
KBSCxWJR3HTNzMwwbNgwVTye0jRt2pTibCOqS1MTus59EXSXX1mYXGEMdUJISAhWrFhB+VJvDNSM
g1i4cCECAgKQlJQEU1NT+Pv7y8zFJYLH46GysrJWD7IvX75g/Pjx6Nu3L2JjY9G5c2c0a9YMQJXZ
rWfPnrhx4wYEAgFatmyJoKAgSv8mTZrgypUrePv2LYyMjGQqFaAqDU5193uCINC+fXty9ePr6ysz
MLOu0dHRQXBwMAIDA1FaWorWrVtjxYoVDSoTg+pgFAsNoKOddvv27RJNGw1NzU3wnj17IjIyEu/f
v4e1tTXMzc1x8+ZNue7VtWtXxMfHIykpSeo1ubm5yM7ORuvWrdG6dWvKOQ6Hg+PHj+PSpUsICwtD
XFwcvL29MWnSJHh6epLXaWhoSDT7EgQhMWDQyckJhoaGZL0VDoeDXr16kQHFjYUff/xRaiyOCDrO
/erQXX5lkdsU1lhLlzI0Tuozx5ci1JzHr1+/xtGjR1FcXEx6Fsprvrt16xZFqfD5fDg5OYHL/f/v
tbKyMkybNq3WwL7g4GCEhobi5cuXuH37NubOnVurcktMTETfvn3h4uICd3d3vH79mnLe0dER06dP
h52dHUxNTTFo0CDMnz9frmdiYFAFMhVLQkIC/vrrL7K8qlAoRHBwcJ0LxvD/0PGLpzYvvYbk+fPn
8Pb2xuLFi3H8+HF4enpi4cKFGD9+PDnH5c0VVtMEtmjRIty8eVPMUyspKQl5eXkS73Hu3Dncu3eP
0paVlYWTJ09KHdfHxwePHj3Cx48f8fTpU/j6+opdM2PGDERHR+P58+c4ePAgRdnRCTrO/erQXX5l
kTnbDh48iDlz5pDKhM1mf9PpUxhUw7Zt2xAWFtbQYohRXFxMuqlzuVwyeLGwsBDHjh3DiBEjoKen
p9S9+Xw+/vzzTzEToIaGhtSiXZmZmRJXMzY2NlLHqV5SGABycnIkmsXYbDbYbPr65xQVFYHNZksM
nmRo3MicdSwWS6xGRn3UDWf4f77XfEN1Tc2I+JycHIwYMQJRUVEK36tFixZ48eIFDh8+TJrbWCwW
rK2tERAQIHXFMHToUEpsBovFQvv27REQECB1LFNTU8qxiYmJ1OSMdJw7BEFg6tSp6Ny5M9q1a4dZ
s2bRLkeYCDr+/qpApmLR0dHBkydPQBAESkpKcODAAdjZ2dWHbAwM9U52djZ27dqlUB9ra2tcvXoV
r1+/pigrLS0t7N27F7/++qvUviYmJggNDcWwYcPQq1cvbN26FZGRkWJuyNURBVE6ODjgp59+wp49
exSSt7Gzd+9ehIWFISUlBZmZmThx4gTCw8MbWiwGBZBpCpsyZQr27duHz58/w9/fHz/++KNYVleG
uoWOdtrGlN7cxMQElZWVIAgClZWVYjmoaqJoQGd2djY+f/4sVjHSwMBArjrydnZ22L9/v9zjmZub
y/2ipePcef78OcX5o6SkBM+ePcPQoUMVuk9ZWRl27NiBjIwMTJw4EQ4ODqoWVSZ0/P1VgUzFoqur
i5kzZ9aHLAzfEPKkhK8PjI2NERwcjF69eoHNZmPYsGG4deuW1Ou5XC5MTU3JLNryUFRUhLFjx+LA
gQNITU1FUlISNDU14e/vL7M8MYM4gwYNQnh4OBkDZWxsXGslTklUVFTA09MT9+/fB0EQCA8Px/79
+9GhQ4e6EJmhBvTd2fuOoKOddurUqQ0tArhcLgwMDPDXX3/hxx9/RFBQkNTiWEDVR9Sff/4plq9K
HhITE3H37l1cuXIFN27cwN27d/Hbb799jfgqgY5zp3///vjrr7/g7OwMBwcHLFq0CJ06dVLoHtHR
0YiOjib3ZpKSkhokNxodf39VIFOxSNrIPH/+fJ0Iw/DtIKsue30gEAjw7t07JCYm4sOHD9i/fz/s
7e2ho6NDXsNisWBlZYUePXrg5s2bmDt3rlJ5tHg8HszMzMBms2Fubs54Mn0lPj4+iIqKwrp16zBu
3Dil7lHTHEtXBwA6IlOxVM+sKuL+/ft1IQuDFL5XO62qKSgowMuXL8k8VYMGDcKrV6/w7NkzhIWF
wcLCAikpKbhz545C9+Xz+XB3d2/w/FuSoPvcUVb+Tp06oVOnTqRysbKyapBklnT//ZVFqagpRvMz
0JXqH0WGhoZkfMmdO3cwa9Ys5ObmUrId14aZmRlWrVoFa2trtG/fnrYxI3l5eXj16hUsLCwkpuFv
CHJycsjAzokTJ1JWmfLA5XJx6tQp7N69GxkZGfj1118bZPP+e0XmX4Kenh6ePn1KHj948EDh/2SG
r+N7tdN+LVwuF+rq6lL3VeLi4rBz504QBIH58+fj3bt3yMjIEAtAlMaXL1/w9OlTuLi4NFqlImvu
xMbGok+fPhgyZAj69euHdevW1ZNk0snKysLgwYOxdOlSLFq0CEOGDFHImUKEuro6pk2bhiVLljSY
Uvle/3ZlrlgmTpyINWvWIDQ0FEKhEAKBAH/99Vd9yMbA8FUIBAKpZYFFrFq1Cu/evUNRUZFSY8ir
hBorCxcuJOvKZ2Rk4ODBg/D29m7QUt8bN26k5D979uwZ9u/fD39//waTiUExZCoWExMTrF69Gikp
KQCqChc11q+zb5Xv1U5bHwgEAly9ehX29vb48OGDQn0tLCwahedXbciaOzWThRYVFaGwsLBBFYuk
jwG6Zvv4Xv925dIQbDYbVlZWsLKyYpQKQ61cuHAB06dPb2gxFEIgEGD16tUwNDSUu4+hoSH27t2L
9u3by7yWIAgcOnQI/v7++Pfff79GVJXTrVs3qKmpkccFBQXYu3dvA0oETJ8+nZLmpmXLlo1egTNQ
YbQEDaCLnTY4OBh+fn44cuRIQ4tSKzXzdrVr1w4tW7aUO6sxn89HYGAgfvrpJ7munzVrFubNm4eQ
kBD4+/tjzZo1CsusLLLmTmBgICUXYGVlJUJDQ5UuJ00QBLKyslBSUqJUf6CquNnZs2cxefJkDBky
BOHh4Qop/cYEXf52VY1UxSKvZwwDg4jTp083uoqRkqhuahFlzy0qKpJbsWhqaqJv374Sz5WVleH1
69dkCeTKykpcv36dfFHn5+fj3LlzX/kEqoPFYolVzKysrFS4ng5BEFiyZAmaNm0KR0dHODs7f1VA
or5UKj8AACAASURBVJWVFdasWYMpU6YoFVfE0LBI3WPZtWsXfH19JeYFY7FYOHjwYJ0KxvD/0MVO
25jyg1VHS0sLZWVlYLFYEAgEFHd5oVCICxcuwMvLCwsWLMCSJUuQmZlZqxdSdnY2li5dKpas8vPn
zxgzZgySkpKgra2NqVOnws/PT+x3qc/fqebcEQgEYLFYFE85UbGw4uJisNlsODk5ydxjKSoqwqFD
h3Du3Dl8+fIFBQUFlBIA6enp2L59O4YPHw5bW1uVyU836C6/skhVLP/5z38AALa2tli6dGm9CcRA
Tz59+oRmzZrh/fv3UotaNRRFRUWwsrJCfn6+1ASUHz9+RMeOHXHjxg1ERETAx8en1nvW/KIvKyvD
7Nmz8fLlSwBVK5Ndu3Zh7NixGDx4MA4ePIjCwkIYGBhg9OjRqnkwBRAKhfDx8cGDBw/AZrPh6elJ
FjZbsGABWZLZ1tYWCxYskHqfS5cuYc2aNXj9+rVMc1d2djaSkpK+SrEw0BOpikW0SW9paVlvwjBI
prHXzb5z5w58fHyQlJQEHo8HJycnvHjxoqHFolBbXXqgqhiXrq4utLW1oaWlVeu1Wlpa5IdXeXk5
Jk6ciJcvXyI9PZ1yXVpaGiIiIrBs2TJ07doVx44dA5/Ph7Oz89c9jBwUFhZiw4YNePPmDRYvXoyL
Fy8iLCyMVIh79uyBm5sbOa9+//13/P7775R75OfnIzU1FTY2NtDQ0MDnz5/x559/kh6isrC0tISj
o+NXPUdjn/uyoLv8yiLT3Vj0B8TAII21a9eSL+6Kigryq72xIzIHmZiYYPLkyWQUfsuWLWvtc+LE
CXTu3BkAsHTpUly+fFliNgqhUIi1a9fCy8sLkZGRiIqKQklJCa5du4bAwEBMnDixDp6qKs38sGHD
8OTJEwDAixcv0LJlS8oqKz8/H0+ePJH60jtx4gRWrlyJ3NxcmJubY/fu3Xj16lWtSoXNZoPL5YIg
CJiammLv3r203XRn+DroWQj7O6MxffEQBIEFCxbg+vXrYLPZmDBhgpijR81a8I0RDoeDixcvgsVi
wdzcnLIyb9GiBTQ1NVFcXCzWj81m49atW+jatSuAqqzGtaU4SktLQ2JiIq5cuUKajrKysnDo0KE6
UyxXr14llQpQtfdjYmICbW1tsrqliYkJXF1dkZWVhevXr8Pe3p5cSVVWVmLt2rX49OkTgColNHfu
XKxevRp6enpipk4ejwdra2uMGjUKv/32W62lmBWlMc19ZaC7/MoiU7Gkp6eLlUJl+H7Zu3cvDh48
SHo5rVu3Dl5eXrh37x4tFIqIyspK+Pv748aNG2Lux7XtH1RUVCA2NpY87tChA6KiolBWVgagSvHU
/B0IghBTPnWZb4/D4YjJYWdnBzc3N3J11bp1a5w/fx6bNm1CeXk52Gw2unfvjrNnz6K4uFjM3bik
pARt2rSBt7c3jh8/jvLycqipqaFXr14ICAhoNDnGGBoHMuNY1q5dWx9yMNRCY/KFf/DgAeWlk5WV
hVOnTtFKqYiIj4+n5METkZSUJPXFz2azKaW5Z86cifHjx6NNmzZwdnZGmzZtKNdbWFjAzs4O3bt3
h7q6OgBAX18fI0aMUOGTUHF3d6dk9rW1tUW7du3g4OCAffv2obS0FCdPnsSaNWtI85hQKMTt27fx
9u1b6OjowMrKivLMrVq1AgDMnz8f0dHRePjwIWJjY7Fp06Y6VSqNae4rA93lVxaZK5bqUbkMDC4u
LggPDydfSFwul7JpzeFw4OzsjJiYmIYSUW7YbLZE119pSkVbWxu6uroYOHAgiouLoampCRaLRQl4
zM7Oxvjx45GUlAQtLS0sXboU6urqCA4ORqdOnRAbG4sBAwZgwIABtcoWERGBkJAQ8Hg8BAUFUSLR
ZaGmpoYzZ85g1apVCA4ORmJiIhYtWgSgymwlLT2KUCjEp0+f4ODggKNHjyIgIABZWVlo2bIlVq5c
Sbk/815gqA0WIWNNHhUVheTkZHh6elLaVWVDrQ+ioqLg4uLS0GJ8E4iy4Yr2VVgsFuVFrKmpiQsX
LsDV1bWhRJQLFouFnj174tSpU2LZj5OSktC2bVupfdlsNoyMjNCzZ0/s2rVLYpojgUAgZmKTl8jI
SPj6+pJBls2aNcOFCxcUChRMTU1F9+7dkZOTI3cfPp+Pt2/f0upvm6Fuefz4MXr37q1wP5kz//Tp
0wCqTCAiWCwWtm3bpvBgDPQnICCAsllPEATFnm9jY4MWLVo0lHhyM27cOKxbtw5CoRDz58/H27dv
YWZmhrVr18LY2Fjq5j1Q9WWfkZGB8PBwuLi4SIx5UVapAMDRo0dJpQJUmewiIyMVin+JiIiQqlS4
XC6ZfUBTUxM8Hg8aGho4efIko1QYVILM2b99+/b6kIOhFhqTL7yk4Mfq+yvSzEuNDUNDQ/B4PHh7
e+PUqVNke3JyMjZv3ixXSpPy8nLExcWpXLaaUe/q6uqUfF7yYGFhIbaaFDFr1izEx8dDR0cHixYt
gr6+/lfJW5c0prmvDHSXX1nk+qwqKCjAhw8fwOVyYW9vDz6fX9dyMTRSevbsWWt6+Q8fPjSKevey
EOXHunLlCqU9JiYGpaWlMuu4AFVF8Pr3769y2ZYsWYLY2FjExcVBXV0dvXv3hru7u0L3GDRoEAYP
HoyIiAhSubDZbCxZsgR+fn4ql5mBoToyFcv169dx7NgxtGjRAgRBICEhAX/88Qc6duxYH/IxoHH5
wsuKYC8tLUVISEg9SaMcJiYmyMzMxOnTp0k3YRGVlZW4detWrf15PB4cHBwwcuRIDBkyROXy6enp
4cKFC3jy5Ak0NTXRtm1bhVeBonx+cXFxKCsrQ5s2bWi54d6Y5r4y0F1+ZZGpWMLCwrBmzRro6ekB
ADIzM7Fy5UpGsXynVA+8kwRBEI0ie6+RkRGysrIobSwWC3Z2dmS6E0neTUZGRrCxsZF4z0GDBsHR
0RGTJ0+u89guPp+PLl26fNU9WCwWnJycVCQRA4P8yFXzXqRUAMDY2LhBq8t9jzQmX3h50uI3dBJK
Q0ND3Lt3D926daO0EwSBwsJC0j26vLwcBEHA2toampqaMDIygrOzM758+SJ2TzabjZ49e2LBggW0
ChhuTHNHGRj56YlMxdKyZUucPn0aCQkJSEhIQEhICFq2bEkeM3xfyBMIKc/+RF3A5XKhq6uL1q1b
IyIiAr6+vpSPIA6HI5YoksViYf/+/fDw8EBeXh4uXbqEefPmiSWiFAqFWLFiBfbs2VMvz8LAQGdk
xrEEBQXVat9dvHixyoVSNUwci+qQJ6mgrq6u1PT0dUWXLl2QlpZGOhaIgheLi4vJ+iOSAgO7d++O
M2fOoGnTplLdi6vTu3dvhIaGqlx+BobGSJ3FsQQFBSkjT61s374dKSkpUFNTg5ubG1xdXfHs2TPS
7XPUqFGkbVjRdoa6xdbWFomJibVeY25uXu+KJSXl/9q7+6CorvsN4M/uugusIERAWI0VX8uAiFik
GmN9KRp8qW2moqRBRxOSThM7xklNrYo0KoymmdRS32OIlVSpOAYZ8CWO1YqtQ0XNqkEbrUKtgKFE
FF0EYe/vD4b9se7yssvu3nvw+fyVvfey++wZ4pd7zj3nVKC8vNzyum2RkCTJ7p3WT37yE2zduhUa
jabLOyZyngdR52TZ816lUmHZsmVIS0vDpEmTYDabkZubi9WrV2P16tWWvwgdOe7ORf3kpqR+2qdn
qbelUqmg1+s73STLHe7evdthtqeFh4dj06ZNlkfn/fz8rM4/PZterVYjMjLSamkTESjpd8cZzC8m
WQoLYL0eU1VVFQwGg+UpnZCQEFRWVjp0vKqqSq6v0iOdOHECI0aMwODBgzF//nyYzWY0NTV1eLci
SRJMJpMsqzI8efLEZvl+e8LDwzF37lwcPHjQavzlww8/RN++faFWqxEUFIR169Zh3LhxGDJkCBIS
ElBYWIidO3di5cqVWLBgQaePJBM9yzodY3GHrKws3Lp1C71798aiRYvw4MED/OMf/7C6pnW/C0eO
jxgxwu7ncYzFMbdu3cLYsWOtuo/CwsIsixR2xt7S8UqxZs0avPPOO3bPVVdXo6ysDEOGDEFgYKDN
uZkzZ+Lf//43gJbuvqysLIwbN87quv379+Pw4cMICQlBWloa9Hq9e74IkQe4bYzFHVq3QC0rK0N2
djZeffVVmEwmpKSkQJIk7Nq1C3369IHZbHboOHVPTU0NZsyYgRs3btic62xcpS2lFhUfHx9cuXIF
q1atwq9//Wub35ng4GDL0imNjY2Wza5efvllVFRUWIoK0HKX/emnn1oVlo8//hgZGRmWx62vXLmC
/Px8h7roiHoCWXeQ1Gq10Gg0CA0NRWVlpeV4VVUVQkNDYTabHTrekbZr9rT2e4ryetu2bYiKinLr
55nNZixcuNDjg+6e9OTJE8uiqsePH8fp06fh7e1t0x5FRUVIS0uD0WiEJEk4evQoxo8fb7V4I/D/
4zKtP5+fn281h+fq1asoLy+3bOcrx+9P2z5+pfw+M79y8nXltTNk6QrbtGkT7t27B29vb6SkpCA4
OBhGo9HylFdiYqJl2XJHj9sjeleYJxayKy0tbfczVCoVtFptl5+cEoFarUZOTg7i4+Ntzt2+fRtT
pkzBt99+azk2fvx46PV6FBUV4cmTJxg1ahTy8vKsJg+//PLL+Nvf/mZ53a9fP5w8eRIGg8G9X6YD
oi+CyPzyEqorzF4fd3R0NKKjo7t9vCfyxC/mc889Z3dsRKVS4bvf/S6uXbvm9gyepNFo2l1MtfVO
ui1JkpCTk4Pi4mKYTCa88MILNuMnK1euxK1bt/Cf//wHvXv3xqxZs2QtKoD4a1Uxv5hk7Qoj5TAY
DAgICLD6Kx1o+Qe1pxUVtVqNCRMmtLsWV2hoKOLj45GXl4f6+npoNBpcu3YNc+bMwb59+9odzxs7
diyOHDmCoqIihIWFIS4uzp1fg0ixZHvcmLrOlc/CS5KE3/3ud5g2bRpee+01PHr0CEDLlrpdmXne
EyxYsAD79+/vcFB98+bNSE5OhkqlQnNzM2pra3H27FmsWLGiw/c2GAyYN2+eYoqK6PMomF9MvGN5
hjQ1NSElJQX5+fkAgPPnz6OkpARGoxG1tbV4/PixzAndb/z48di4cWOnOzxOnz4d58+ftzleXV3t
rmhEPQYLiwBc0U+bl5eHJUuW2NyV3LlzB1OmTOmxRcVgMGDHjh24efMm9Ho95syZ0+m+JNevX8eF
CxdsjqtUKnzve99zV1S3EL2Pn/nFxMLyDDhy5AhSUlLszi+RJAmXLl2SIZXr2HvoICgoCD/4wQ/w
9ttvIyYmxqH/we/evWt3iaCQkBC899573c5L1NNxjEUA3e2n3b17t2InLbqCTqeDl5eX1bGYmBjs
2rULMTExDr9fXFyc3Rnzzc3NMBqNTueUg+h9/MwvJhaWZ0BxcbHcEdwqICDAqosqJCQEP//5z51+
P51Oh7Nnz9o8KlxdXY2NGzc6/b5Ezwp2hQnA0X7anTt3IicnBwAwf/78Hj2bHmi5O/nkk0/w0Ucf
4e7du1iwYEG3t84eOHAgsrKyMHv2bKvFLUW78xO9j5/5xcTC0kOYTCZs3boVJ06cwKVLl1BfXw8A
VnuU9ET9+vXD9u3b4e3tjZUrV7rsfZubm5Genm5VVPz9/fHGG2+47DOIeip2hQmgs37ax48fY9Kk
ScjIyEBxcbGlqADAvXv33B1PFiqVCpMnT8a5c+ds9lJxhRs3btg81DBkyBBMmzbN5Z/lTqL38TO/
mFhYeoB9+/ZZrbwrKi8vL7uD5vPmzcPgwYOtjg0YMAD79u1zS1EBgEePHlkVaKBl2Rsi6hwLiwA6
66e9cuWKh5K4l16vt9mXfurUqdi4caPNUjN6vb7T+SjOampqwvLly62y+Pn54d1333XL57mT6H38
zC8mFhbBZWZmYt++fXLH6BYfHx+oVCrcu3fP8o+5RqPBmjVrkJubiyVLllgtR6/VapGamgqVSuWW
PLdv38atW7esjg0bNqzdtcWIyBoLiwDa9tPW1NTAaDTiwYMHKCsrwx/+8AdhZ82r1WpER0cjMjLS
ZkJic3MzvLy8oFKpcOfOHatzffv2tewk6g7+/v7w8fGxOhYQEOC2z3Mn0fv4mV9MLCwCycnJwdSp
UzFjxgzExcVh2rRpwg7OZ2Vl4fTp0zh27Bhqa2ttznt5eeFHP/oRANuxjaamJrd2//Xt2xfJyckI
Dg6GWq3G8OHDkZ6e7rbPI+ppZNnoy9NE3+gLaFl6JTY21qaLRolUKpXdJVHa6t+/v6U4fPbZZ3jn
nXes5ohs3LjR8mjv5cuXMWvWLDx69Mjyvv7+/njrrbewfPlyN32Llu2Yq6qqEBERwa2v6Znk7EZf
vGNRgGPHjiEpKQmvvvoqSktL7V7T1NRk0yUksrq6Ost/JycnY9WqVQgMDERQUBAyMzOt5ou8//77
ePjwoVWxun//PnJzczstYN0RFhaGcePGsagQOYiFRWZFRUVYunQpvvjiCxw5cgTJycmWPdKBlpne
U6ZMwaBBg4TZGrir/9gvXbrUMlfkpZdewpQpU/DDH/4QMTExVuNGTz8R1soTs+BF7yNnfnmJnt9Z
LCwyy87OxjfffGN5XVZWhoKCApjNZixevBhBQUEwGo2KH6B39Amturo6ZGdn42c/+xkOHDiAV155
BQcOHMBf/vIXTJ48GbGxsVi/fj0A2P3u3t7emDhxotueDCMi57GwyCwoKMjqtVarRWhoKH7605/i
0KFDMqVyTHBwMHx9fZ362YqKCqxfvx63b9+2HGtubkZFRQU++eQTXLhwwWblYi8vL6SmpuKjjz7q
Vu6uEH0eAvPLS/T8zmJhkdnKlSsRGxsLnU4HvV6PyZMnIyEhQahbaL1ej/j4eKd/XqvV2j1+//59
XLt2zWa3x+DgYCxatIh3K0QKxcIiM19fXxQUFCAnJwc6nQ4nTpzA888/b7X4oZI8Pb8DQLcGuP39
/bFt2zZER0fbnDMYDJgwYQJef/11BAcHAwB69+6NhIQEuzncQaQCbw/zy0v0/M7i6sYKoNPpkJaW
ZpnPodSl2b28vODn52ezhtbcuXPxwQcfdOnnGxoarI5FRkYiNjYWBQUFOHz4MAoKCnD79m1otVos
W7YMgwYNwqBBgxAeHo7jx49j5MiRmDFjhku/FxG5FguLzEwmE06cOKHY+SlqtRpjxoxBaWkpTCaT
1YMGrT777DO7i0c+7cUXX8RXX32Fqqoqy7GhQ4cCaLkTSUxMRGJiot2fHT16NEaPHu3kt3Ce6H3k
zC8v0fM7i4XFw4qKirBhwwbU1NQgPDwcRqNRsXumGAwGzJ07F9nZ2TCZTO1eV19fjw8//BALFy7E
1atX7V4TEBCAP/3pT9i7dy+2b9+OhoYGDBs2DBkZGe6KT0Qy4RiLB/33v//F22+/jbNnz+Lrr79G
fn6+YosKAAQGBiI7O9vukittjR8/HkOHDsXHH39s93xYWBiysrKg1+uRkpKC4uJiFBcX4/PPP0fv
3r3dEd1lRO8jZ355iZ7fWbxjcbMdO3Zg7dq1aGpqgre3t9WMc6Wrr6+3W1TaLtnSv39/zJkzBwCw
YsUKm2s1Gg1OnjwJf39/q2Nd6TojIjGxsLhRTU0NUlNT0dTUBAA2e40omVqtxsyZM3HgwAFUVlYC
aHksOCkpCaNHj8bnn38OtVqNX/3qV5ZNuB4+fGjzPklJSVZFRTSi95Ezv7xEz+8sFhYnmUwmTJgw
AVVVVdBoNEhLS8Mbb7wBSZLw4MED9OnTB2PHjrUUFbloNJpOH13WarXw8fGB2Wy2FAez2YySkhJk
ZGQgMzMTzc3NmDhxItauXQuVSoXFixfbvM+wYcPw5ZdfWl6PGDECmZmZrv1CRKR4HGNx0ksvvYTy
8nI0NDTAZDJh1apVOHToEAIDAzF48GAEBgZ2Ojbhbl5eXti7d2+n3U55eXkoLi62ua65uRk//vGP
ceLECZw6dQrr1q3rcFJiZmYmkpKSEBsbi/j4eOTl5eHvf/+7S76LXETvI2d+eYme31m8Y3HS0ysN
NzU12f0rXk4NDQ3Iz8/v8IkuoOXpr379+iEqKgonT56E2WxGnz59MGvWLIc+z9vbG1u3brU6duPG
DYdzE5HYWFic5O/vb3VH0pUuJzkMHz68w/MDBgzAwIEDoVKp8Oc//xkbNmxAeXk5pk+fjvnz53f7
80XvY2Z+eTG/mLjRl5MqKyvxwgsvWMYkYmJiUFJS4tLP6K4xY8bg2LFjluVQnhYSEoKjR49i0KBB
Hk5GRCLgRl8e9ODBAyQnJ+P+/ftobm5Gc3Oz4opKTEwMjh8/Do1GY/d8QkICSktL3V5URO9jZn55
Mb+YWFgcVFhYiLCwMFy8eFGWzw8PD8fUqVPbXREYaHkaa//+/ZaB9vz8fKvzvXr1wt69e7k6MBG5
BbvCHNS3b1+XvI8zLl68aLnDuHDhAq5cuYJTp06htrYW3//+96HRaDB8+HDEx8fbzGh/8uQJvvji
C0RERFjmnRARdcTZrjAO3iuUn5+f1Sz94cOHW3VbjRkzBmPGjMHChQu79H5ardbhp7yIiJwhdFfY
pUuXsGbNGqxZswZXrlyRO063jR8/HgcPHkRNTQ3Ky8tx5swZ/OIXv8CKFStQXFwsdzyniN7HzPzy
Yn4xCXvHYjabkZubi9TUVABAeno6IiMjhRw38PX1RWFhIaKioqyOR0REID09/Zn95SQiMQl7x1JV
VQWDwQCdTgedToeQkBCrfT7cZfbs2U7/rFarxcSJE3H58mWUlZXhN7/5Dd59912UlJTYFJW2RH4W
XuTsAPPLjfnFJOwdy8OHD6HX67F7924ALfuu19XVwWAwuPVz9+zZgz/+8Y94//33AbQ81tvY2IjA
wEDLuMfBgwcxbdo0REZGYujQoe1uo7t8+XK3ZiUikoOwhcXX1xcmkwkpKSmQJAm7du3qcN/1M2fO
WP56aO1acvZ1TEwM8vLy2j3fmmPkyJEu+bxt27YhKirKZfk9+bptN54S8jC/svIxv/JfO0PYx43N
ZjPS0tKQmpoKSZKwfv16rFu3zu617ph570lti6JoRM4OML/cmF9ezj5uLGxhAQCj0YgDBw4AABIT
EzFq1Ci714leWIiI5PBMzmOJjo5GdHS03DGIiKgNYZ8Ke5aI/LixyNkB5pcb84uJhYWIiFxK6DGW
ruIYCxGR47hsPhERKQILiwBE7qcVOTvA/HJjfjGxsBARkUtxjIWIiOziGAsRESkCC4sARO6nFTk7
wPxyY34xsbAQEZFLcYyFiIjs4hgLEREpAguLAETupxU5O8D8cmN+MbGwEBGRS3GMhYiI7OIYCxER
KQILiwBE7qcVOTvA/HJjfjGxsBARkUtxjIWIiOziGAsRESkCC4sARO6nFTk7wPxyY34xsbAQEZFL
cYyFiIjs4hgLEREpAguLAETupxU5O8D8cmN+MbGwEBGRS3GMhYiI7OIYCxERKQILiwBE7qcVOTvA
/HJjfjGxsBARkUtxjIWIiOziGAsRESkCC4sARO6nFTk7wPxyY34xsbAQEZFLcYyFiIjs4hgLEREp
Qi9Pf+CWLVtQUVEBnU6HSZMmYfLkyQCAS5cu4cCBAwCAefPmYeTIkU4d74nOnDmDF198Ue4YThE5
O8D8cmN+MXm8sKhUKixbtgxBQUGWY2azGbm5uUhNTQUApKenY+TIkQ4dj4yMhEql8vTXISKip3i8
sADA08M6VVVVMBgM0Ol0AICQkBBUVlZCkqQuH299j55I5L94RM4OML/cmF9Mbissly5dwqFDh6yO
LVy4EN7e3sjMzETv3r2xaNEihIaG4uHDh9Dr9di9ezcAQK/Xo66uzvLfXT3eUwsLEZFI3FZYRo0a
hVGjRtkcf+211wAAZWVlyM7OxvLly+Hr6wuTyYSUlBRIkoRdu3ahT58+MJvNDh3vqUTupxU5O8D8
cmN+McnSFQYAWq0WGo0GABAaGorKykrLuaqqKoSGhsJsNjt0vD0BAQG4cOGCG76FZ+j1emHzi5wd
YH65Mb+8AgICnPo5j89j2bRpE+7duwcfHx+8/vrrCA4OBgAYjUbLU16JiYmWux1HjxMRkbyeiQmS
RETkOZwgSURELsXCQkRELsXCQkRELiXbU2Gu5sgSL0pcDsaRTO0tiyOXq1evYs+ePYiIiMCCBQs6
vFaJbe9IfqW1/c6dO1FZWQmz2Yy33noLISEh7V6rxLZ3JL/S2h4AcnJy8K9//QtqtRpvvvmmcO3v
SH6H2l/qAZqbm6XVq1dLDQ0NUkNDg7RmzRrJbDZ3+1pPcTTTli1bpOrqag8m7JjRaJSKi4ulPXv2
dHidEttekrqeX5KU1/atLl++LO3cubPd80pt+1ad5Zck5ba9JEnS1atXpR07drR7Xunt31l+SXKs
/XtEV1jbJWF0Op1liZfuXuspzmSSFPQw36hRo+Dr69vpdUpse6Dr+Vspqe1beXt7o1ev9jsglNr2
rTrL30qJbQ8A169fx4ABA9o9r/T27yx/q662f4/oCmtvSRh7S7w4cq2nOJrJ3rI4IlBi2ztKqW1/
8uRJzJw5s93zSm/7zvIDym37tLQ0PHjwAGvXrm33GiW3f1fyAw62f3dvoZTgzp070pYtW6SGhgbp
8ePH0ubNm6XKyspuX+spzma6deuW9MEHH3ggYee++uqrTruSlNj2rbqSvy0ltf25c+ekgoKCDq9R
ctt3JX9bSmr7VtevX5cyMjLaPa/k9pekzvO31ZX27xFdYe0tCdPdaz3F2Uxtl8WRm9SFW2Qltn2r
ruRvSyltf/PmTZSWlmLWrFkdXqfUtu9q/raU0vZtBQQEwGw2t3teqe3fqrP8bXWl/XvMzPv2lng5
e/YsvLy8rLYmVuJyMI7kb29ZHLnk5eXhyy+/RG1tLSIiIvDmm28CEKftHcmvtLZfsmQJAgMDw+nv
RAAAArNJREFUoVarMXDgQMsir6K0vSP5ldb2APD73/8edXV16NWrFxYvXmzp2hKl/R3J70j795jC
QkREytAjusKIiEg5WFiIiMilWFiIiMilWFiIiMilWFiIiMilWFiIiMilWFiIBFNWVoaLFy/KHYOo
XSwsRIJhYSGl4wRJIic1NDRg3759uHHjBtRqNb7zne8gJSUFAFBfX49PP/0U3377LaqrqzFu3Di8
8sorlp/dsmULDAYDjEYjGhsbMXv2bEyYMAFAy6znkydPor6+Ho2NjVi6dCn69+8PADh69CiOHDmC
x48fIyQkBFFRUUhMTPT8lyfqAAsLkZN27doFX19fJCUl2T3/8OFD+Pr6orGxEb/85S+xYcMGPPfc
cwBaCsv//vc/vPfee/Dx8bH6ubq6Ovj5+QEACgsLcefOHcsyMwBw6tQp3Lx507L8CZHS9Ihl84nk
8M9//hObN29u97xarcb58+dRXV0NrVaL2tpaS2FRqVRISEiwKSoA4Ofnh7KyMpSXl6OiogL37t1z
23cgcgeOsRB1Q3srwpaXlyMtLQ01NTUICwtDnz59bFZQbq+zYOvWrTh8+DD8/PwwZMgQxW5uRdQe
FhYiJ8XFxSEnJ8fyD3/bAnD58mXExMRg+vTp0Ov1+Oabb7r8vufOnUNKSgpGjx6Nmzdv2pzX6XS4
f/8+gPYLG5GcNL/97W9/K3cIIhFFRkbi8uXLyM3NxenTp1FaWoq4uDgAQHBwMPLy8vDXv/4VVVVV
CAgIgMFgsCxLfu7cOfTv3x/PP/+8zfv26tUL27dvR0lJCcLDw/H1118jPj7ecj4gIACFhYU4ffo0
iouLERcX16VtfYk8hYP3RETkUuwKIyIil2JhISIil2JhISIil2JhISIil2JhISIil2JhISIil2Jh
ISIil2JhISIil/o/DSfRpmJSZ/cAAAAASUVORK5CYII=
"
>
</div>

</div>

<div class="output_area">

    <div class="prompt"></div>




<div class="output_png output_subarea ">
<img src="data:image/png;base64,iVBORw0KGgoAAAANSUhEUgAAAZYAAAEQCAYAAACTEVJTAAAABHNCSVQICAgIfAhkiAAAAAlwSFlz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"
>
</div>

</div>

<div class="output_area">

    <div class="prompt"></div>




<div class="output_png output_subarea ">
<img src="data:image/png;base64,iVBORw0KGgoAAAANSUhEUgAAAZYAAAEQCAYAAACTEVJTAAAABHNCSVQICAgIfAhkiAAAAAlwSFlz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"
>
</div>

</div>

<div class="output_area">

    <div class="prompt"></div>




<div class="output_png output_subarea ">
<img src="data:image/png;base64,iVBORw0KGgoAAAANSUhEUgAAAZAAAAEQCAYAAACeDyIUAAAABHNCSVQICAgIfAhkiAAAAAlwSFlz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"
>
</div>

</div>

</div>
</div>

</div>
<div class="cell border-box-sizing text_cell rendered"><div class="prompt input_prompt">
</div><div class="inner_cell">
<div class="text_cell_render border-box-sizing rendered_html">
<p>What happens if you look at the scatter plots of <code>price</code> and <code>carat</code> but grouped by clarity.</p>

</div>
</div>
</div>
<div class="cell border-box-sizing code_cell rendered">
<div class="input">
<div class="prompt input_prompt">In&nbsp;[10]:</div>
<div class="inner_cell">
    <div class="input_area">
<div class=" highlight hl-ipython3"><pre><span></span><span class="c1"># try here</span>
</pre></div>

    </div>
</div>
</div>

</div>
<div class="cell border-box-sizing text_cell rendered"><div class="prompt input_prompt">
</div><div class="inner_cell">
<div class="text_cell_render border-box-sizing rendered_html">
<p>We could also look at boxplots of the <code>price</code> grouped by <code>color</code>.</p>

</div>
</div>
</div>
<div class="cell border-box-sizing code_cell rendered">
<div class="input">
<div class="prompt input_prompt">In&nbsp;[11]:</div>
<div class="inner_cell">
    <div class="input_area">
<div class=" highlight hl-ipython3"><pre><span></span><span class="n">diamonds</span><span class="o">.</span><span class="n">boxplot</span><span class="p">(</span><span class="s1">&#39;price&#39;</span><span class="p">,</span> <span class="n">by</span> <span class="o">=</span> <span class="s1">&#39;color&#39;</span><span class="p">)</span>
</pre></div>

    </div>
</div>
</div>

<div class="output_wrapper">
<div class="output">


<div class="output_area">

    <div class="prompt output_prompt">Out[11]:</div>




<div class="output_text output_subarea output_execute_result">
<pre>&lt;matplotlib.axes.AxesSubplot at 0x10b8b1ad0&gt;</pre>
</div>

</div>

<div class="output_area">

    <div class="prompt"></div>




<div class="output_png output_subarea ">
<img src="data:image/png;base64,iVBORw0KGgoAAAANSUhEUgAAAYoAAAEbCAYAAADERMP2AAAABHNCSVQICAgIfAhkiAAAAAlwSFlz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==
"
>
</div>

</div>

</div>
</div>

</div>
<div class="cell border-box-sizing text_cell rendered"><div class="prompt input_prompt">
</div><div class="inner_cell">
<div class="text_cell_render border-box-sizing rendered_html">
<h2 id="More-with-pandas">More with pandas<a class="anchor-link" href="#More-with-pandas">&#182;</a></h2><p>Now that we have done some exploratory data analysis by looking at histograms, scatter plots and boxplots let's look more about how to work with the pandas DataFrame itself.</p>

</div>
</div>
</div>
<div class="cell border-box-sizing text_cell rendered"><div class="prompt input_prompt">
</div><div class="inner_cell">
<div class="text_cell_render border-box-sizing rendered_html">
<h4 id="More-summary-statistics">More summary statistics<a class="anchor-link" href="#More-summary-statistics">&#182;</a></h4><p>We just learned about <code>diamonds.describe()</code> above, what else can we do?</p>

</div>
</div>
</div>
<div class="cell border-box-sizing code_cell rendered">
<div class="input">
<div class="prompt input_prompt">In&nbsp;[12]:</div>
<div class="inner_cell">
    <div class="input_area">
<div class=" highlight hl-ipython3"><pre><span></span><span class="n">diamonds</span><span class="o">.</span><span class="n">mean</span><span class="p">()</span>
</pre></div>

    </div>
</div>
</div>

<div class="output_wrapper">
<div class="output">


<div class="output_area">

    <div class="prompt output_prompt">Out[12]:</div>




<div class="output_text output_subarea output_execute_result">
<pre>carat       0.797940
depth      61.749405
table      57.457184
price    3932.799722
x           5.731157
y           5.734526
z           3.538734
dtype: float64</pre>
</div>

</div>

</div>
</div>

</div>
<div class="cell border-box-sizing code_cell rendered">
<div class="input">
<div class="prompt input_prompt">In&nbsp;[13]:</div>
<div class="inner_cell">
    <div class="input_area">
<div class=" highlight hl-ipython3"><pre><span></span><span class="n">diamonds</span><span class="o">.</span><span class="n">corr</span><span class="p">()</span> <span class="c1"># correlation</span>
</pre></div>

    </div>
</div>
</div>

<div class="output_wrapper">
<div class="output">


<div class="output_area">

    <div class="prompt output_prompt">Out[13]:</div>



<div class="output_html rendered_html output_subarea output_execute_result">
<div style="max-height:1000px;max-width:1500px;overflow:auto;">
<table border="1" class="dataframe">
  <thead>
    <tr style="text-align: right;">
      <th></th>
      <th>carat</th>
      <th>depth</th>
      <th>table</th>
      <th>price</th>
      <th>x</th>
      <th>y</th>
      <th>z</th>
    </tr>
  </thead>
  <tbody>
    <tr>
      <th>carat</th>
      <td> 1.000000</td>
      <td> 0.028224</td>
      <td> 0.181618</td>
      <td> 0.921591</td>
      <td> 0.975094</td>
      <td> 0.951722</td>
      <td> 0.953387</td>
    </tr>
    <tr>
      <th>depth</th>
      <td> 0.028224</td>
      <td> 1.000000</td>
      <td>-0.295779</td>
      <td>-0.010647</td>
      <td>-0.025289</td>
      <td>-0.029341</td>
      <td> 0.094924</td>
    </tr>
    <tr>
      <th>table</th>
      <td> 0.181618</td>
      <td>-0.295779</td>
      <td> 1.000000</td>
      <td> 0.127134</td>
      <td> 0.195344</td>
      <td> 0.183760</td>
      <td> 0.150929</td>
    </tr>
    <tr>
      <th>price</th>
      <td> 0.921591</td>
      <td>-0.010647</td>
      <td> 0.127134</td>
      <td> 1.000000</td>
      <td> 0.884435</td>
      <td> 0.865421</td>
      <td> 0.861249</td>
    </tr>
    <tr>
      <th>x</th>
      <td> 0.975094</td>
      <td>-0.025289</td>
      <td> 0.195344</td>
      <td> 0.884435</td>
      <td> 1.000000</td>
      <td> 0.974701</td>
      <td> 0.970772</td>
    </tr>
    <tr>
      <th>y</th>
      <td> 0.951722</td>
      <td>-0.029341</td>
      <td> 0.183760</td>
      <td> 0.865421</td>
      <td> 0.974701</td>
      <td> 1.000000</td>
      <td> 0.952006</td>
    </tr>
    <tr>
      <th>z</th>
      <td> 0.953387</td>
      <td> 0.094924</td>
      <td> 0.150929</td>
      <td> 0.861249</td>
      <td> 0.970772</td>
      <td> 0.952006</td>
      <td> 1.000000</td>
    </tr>
  </tbody>
</table>
</div>
</div>

</div>

</div>
</div>

</div>
<div class="cell border-box-sizing code_cell rendered">
<div class="input">
<div class="prompt input_prompt">In&nbsp;[14]:</div>
<div class="inner_cell">
    <div class="input_area">
<div class=" highlight hl-ipython3"><pre><span></span><span class="n">diamonds</span><span class="o">.</span><span class="n">var</span><span class="p">()</span> <span class="c1"># variance</span>
</pre></div>

    </div>
</div>
</div>

<div class="output_wrapper">
<div class="output">


<div class="output_area">

    <div class="prompt output_prompt">Out[14]:</div>




<div class="output_text output_subarea output_execute_result">
<pre>carat           0.224687
depth           2.052404
table           4.992948
price    15915629.424301
x               1.258347
y               1.304472
z               0.498011
dtype: float64</pre>
</div>

</div>

</div>
</div>

</div>
<div class="cell border-box-sizing code_cell rendered">
<div class="input">
<div class="prompt input_prompt">In&nbsp;[15]:</div>
<div class="inner_cell">
    <div class="input_area">
<div class=" highlight hl-ipython3"><pre><span></span><span class="n">diamonds</span><span class="o">.</span><span class="n">sort</span><span class="p">(</span><span class="s1">&#39;price&#39;</span><span class="p">,</span> <span class="n">ascending</span> <span class="o">=</span> <span class="kc">True</span><span class="p">,</span> <span class="n">inplace</span> <span class="o">=</span> <span class="kc">False</span><span class="p">)</span><span class="o">.</span><span class="n">head</span><span class="p">()</span> <span class="c1"># sorting</span>
</pre></div>

    </div>
</div>
</div>

<div class="output_wrapper">
<div class="output">


<div class="output_area">

    <div class="prompt output_prompt">Out[15]:</div>



<div class="output_html rendered_html output_subarea output_execute_result">
<div style="max-height:1000px;max-width:1500px;overflow:auto;">
<table border="1" class="dataframe">
  <thead>
    <tr style="text-align: right;">
      <th></th>
      <th>carat</th>
      <th>cut</th>
      <th>color</th>
      <th>clarity</th>
      <th>depth</th>
      <th>table</th>
      <th>price</th>
      <th>x</th>
      <th>y</th>
      <th>z</th>
    </tr>
  </thead>
  <tbody>
    <tr>
      <th>1</th>
      <td> 0.23</td>
      <td>   Ideal</td>
      <td> E</td>
      <td> SI2</td>
      <td> 61.5</td>
      <td> 55</td>
      <td> 326</td>
      <td> 3.95</td>
      <td> 3.98</td>
      <td> 2.43</td>
    </tr>
    <tr>
      <th>2</th>
      <td> 0.21</td>
      <td> Premium</td>
      <td> E</td>
      <td> SI1</td>
      <td> 59.8</td>
      <td> 61</td>
      <td> 326</td>
      <td> 3.89</td>
      <td> 3.84</td>
      <td> 2.31</td>
    </tr>
    <tr>
      <th>3</th>
      <td> 0.23</td>
      <td>    Good</td>
      <td> E</td>
      <td> VS1</td>
      <td> 56.9</td>
      <td> 65</td>
      <td> 327</td>
      <td> 4.05</td>
      <td> 4.07</td>
      <td> 2.31</td>
    </tr>
    <tr>
      <th>4</th>
      <td> 0.29</td>
      <td> Premium</td>
      <td> I</td>
      <td> VS2</td>
      <td> 62.4</td>
      <td> 58</td>
      <td> 334</td>
      <td> 4.20</td>
      <td> 4.23</td>
      <td> 2.63</td>
    </tr>
    <tr>
      <th>5</th>
      <td> 0.31</td>
      <td>    Good</td>
      <td> J</td>
      <td> SI2</td>
      <td> 63.3</td>
      <td> 58</td>
      <td> 335</td>
      <td> 4.34</td>
      <td> 4.35</td>
      <td> 2.75</td>
    </tr>
  </tbody>
</table>
</div>
</div>

</div>

</div>
</div>

</div>
<div class="cell border-box-sizing text_cell rendered"><div class="prompt input_prompt">
</div><div class="inner_cell">
<div class="text_cell_render border-box-sizing rendered_html">
<h2 id="Accessing-functions-for-a-panda-DataFrame">Accessing functions for a panda DataFrame<a class="anchor-link" href="#Accessing-functions-for-a-panda-DataFrame">&#182;</a></h2>
</div>
</div>
</div>
<div class="cell border-box-sizing code_cell rendered">
<div class="input">
<div class="prompt input_prompt">In&nbsp;[16]:</div>
<div class="inner_cell">
    <div class="input_area">
<div class=" highlight hl-ipython3"><pre><span></span><span class="n">subtable</span> <span class="o">=</span> <span class="n">diamonds</span><span class="o">.</span><span class="n">iloc</span><span class="p">[</span><span class="mi">0</span><span class="p">:</span><span class="mi">2</span><span class="p">,</span> <span class="mi">0</span><span class="p">:</span><span class="mi">2</span><span class="p">]</span>
<span class="nb">print</span> <span class="s2">&quot;subtable&quot;</span>
<span class="nb">print</span> <span class="n">subtable</span>
<span class="nb">print</span> <span class="s2">&quot;&quot;</span>

<span class="n">column</span> <span class="o">=</span> <span class="n">diamonds</span><span class="p">[</span><span class="s1">&#39;color&#39;</span><span class="p">]</span>
<span class="nb">print</span> <span class="s2">&quot;head of the color column&quot;</span>
<span class="nb">print</span> <span class="n">column</span><span class="o">.</span><span class="n">head</span><span class="p">()</span>
<span class="nb">print</span> <span class="s2">&quot;&quot;</span>

<span class="n">row</span> <span class="o">=</span> <span class="n">diamonds</span><span class="o">.</span><span class="n">ix</span><span class="p">[</span><span class="mi">1</span><span class="p">:</span><span class="mi">2</span><span class="p">]</span> <span class="c1">#row 1 and 2</span>
<span class="nb">print</span> <span class="s2">&quot;row&quot;</span>
<span class="nb">print</span> <span class="n">row</span>
<span class="nb">print</span> <span class="s2">&quot;&quot;</span>

<span class="n">rows</span> <span class="o">=</span> <span class="n">diamonds</span><span class="o">.</span><span class="n">ix</span><span class="p">[:</span><span class="mi">3</span><span class="p">]</span> <span class="c1"># all the rows before 3</span>
<span class="nb">print</span> <span class="s2">&quot;rows&quot;</span>
<span class="nb">print</span> <span class="n">rows</span>
<span class="nb">print</span> <span class="s2">&quot;&quot;</span>

<span class="n">color</span> <span class="o">=</span> <span class="n">diamonds</span><span class="o">.</span><span class="n">ix</span><span class="p">[</span><span class="mi">1</span><span class="p">,</span><span class="s1">&#39;color&#39;</span><span class="p">]</span>
<span class="nb">print</span> <span class="s2">&quot;color of diamond in row 1&quot;</span>
<span class="nb">print</span> <span class="n">color</span>
<span class="nb">print</span> <span class="s2">&quot;&quot;</span>

<span class="c1"># max along column</span>
<span class="nb">print</span> <span class="s2">&quot;max price </span><span class="si">%g</span><span class="s2">&quot;</span> <span class="o">%</span> <span class="n">diamonds</span><span class="p">[</span><span class="s1">&#39;price&#39;</span><span class="p">]</span><span class="o">.</span><span class="n">max</span><span class="p">()</span> 
<span class="nb">print</span> <span class="s2">&quot;&quot;</span>

<span class="c1"># axes</span>
<span class="nb">print</span> <span class="s2">&quot;axes&quot;</span>
<span class="nb">print</span> <span class="n">diamonds</span><span class="o">.</span><span class="n">axes</span>
<span class="nb">print</span> <span class="s2">&quot;&quot;</span>

<span class="n">row</span> <span class="o">=</span> <span class="n">diamonds</span><span class="o">.</span><span class="n">ix</span><span class="p">[</span><span class="mi">1</span><span class="p">]</span>
<span class="nb">print</span> <span class="s2">&quot;row info&quot;</span>
<span class="nb">print</span> <span class="n">row</span><span class="o">.</span><span class="n">name</span>
<span class="nb">print</span> <span class="n">row</span><span class="o">.</span><span class="n">index</span>
<span class="nb">print</span> <span class="s2">&quot;&quot;</span>
</pre></div>

    </div>
</div>
</div>

<div class="output_wrapper">
<div class="output">


<div class="output_area">

    <div class="prompt"></div>


<div class="output_subarea output_stream output_stdout output_text">
<pre>subtable
   carat      cut
1   0.23    Ideal
2   0.21  Premium

head of the color column
1    E
2    E
3    E
4    I
5    J
Name: color, dtype: object

row
   carat      cut color clarity  depth  table  price     x     y     z
1   0.23    Ideal     E     SI2   61.5     55    326  3.95  3.98  2.43
2   0.21  Premium     E     SI1   59.8     61    326  3.89  3.84  2.31

rows
   carat      cut color clarity  depth  table  price     x     y     z
1   0.23    Ideal     E     SI2   61.5     55    326  3.95  3.98  2.43
2   0.21  Premium     E     SI1   59.8     61    326  3.89  3.84  2.31
3   0.23     Good     E     VS1   56.9     65    327  4.05  4.07  2.31

color of diamond in row 1
E

max price 18823

axes
[Int64Index([1, 2, 3, 4, 5, 6, 7, 8, 9, 10, 11, 12, 13, 14, 15, 16, 17, 18, 19, 20, 21, 22, 23, 24, 25, 26, 27, 28, 29, 30, 31, 32, 33, 34, 35, 36, 37, 38, 39, 40, 41, 42, 43, 44, 45, 46, 47, 48, 49, 50, 51, 52, 53, 54, 55, 56, 57, 58, 59, 60, 61, 62, 63, 64, 65, 66, 67, 68, 69, 70, 71, 72, 73, 74, 75, 76, 77, 78, 79, 80, 81, 82, 83, 84, 85, 86, 87, 88, 89, 90, 91, 92, 93, 94, 95, 96, 97, 98, 99, 100, ...], dtype=&#39;int64&#39;), Index([u&#39;carat&#39;, u&#39;cut&#39;, u&#39;color&#39;, u&#39;clarity&#39;, u&#39;depth&#39;, u&#39;table&#39;, u&#39;price&#39;, u&#39;x&#39;, u&#39;y&#39;, u&#39;z&#39;], dtype=&#39;object&#39;)]

row info
1
Index([u&#39;carat&#39;, u&#39;cut&#39;, u&#39;color&#39;, u&#39;clarity&#39;, u&#39;depth&#39;, u&#39;table&#39;, u&#39;price&#39;, u&#39;x&#39;, u&#39;y&#39;, u&#39;z&#39;], dtype=&#39;object&#39;)

</pre>
</div>
</div>

</div>
</div>

</div>
<div class="cell border-box-sizing text_cell rendered"><div class="prompt input_prompt">
</div><div class="inner_cell">
<div class="text_cell_render border-box-sizing rendered_html">
<h2 id="Defining-your-own-functions">Defining your own functions<a class="anchor-link" href="#Defining-your-own-functions">&#182;</a></h2><p>New functions can be defined using one of the 31 keywords in Python: <code>def</code>.</p>

</div>
</div>
</div>
<div class="cell border-box-sizing code_cell rendered">
<div class="input">
<div class="prompt input_prompt">In&nbsp;[17]:</div>
<div class="inner_cell">
    <div class="input_area">
<div class=" highlight hl-ipython3"><pre><span></span><span class="k">def</span> <span class="nf">squared</span><span class="p">(</span><span class="n">x</span><span class="p">):</span>
    <span class="sd">&quot;&quot;&quot; Return the square of a  </span>
<span class="sd">        value &quot;&quot;&quot;</span>
    <span class="k">return</span> <span class="n">x</span> <span class="o">**</span> <span class="mi">2</span>

<span class="n">squared</span><span class="p">(</span><span class="mi">4</span><span class="p">)</span>
</pre></div>

    </div>
</div>
</div>

<div class="output_wrapper">
<div class="output">


<div class="output_area">

    <div class="prompt output_prompt">Out[17]:</div>




<div class="output_text output_subarea output_execute_result">
<pre>16</pre>
</div>

</div>

</div>
</div>

</div>
<div class="cell border-box-sizing text_cell rendered"><div class="prompt input_prompt">
</div><div class="inner_cell">
<div class="text_cell_render border-box-sizing rendered_html">
<p>The first line of the function (the header) must start with the keyword <code>def</code>, the name of the function (which can contain underscores), parentheses (with any arguments inside of it) and a colon.  The arguments can be specified in any order.</p>
<p>The rest of the function (the body) always has an indentation of four spaces.  If you define a function in the interactive mode, the interpreter will print ellipses (...) to let you know the function isn't complete. To complete the function, enter an empty line (not necessary in a script).</p>
<p>To return a value from a function, use <code>return</code>. The function will immediately terminate and not run any code written past this point.</p>
<h4 id="The-docstring">The docstring<a class="anchor-link" href="#The-docstring">&#182;</a></h4><p>When defining new functions, you can add a <code>docstring</code> (i.e. the documentation of function) at the beginning of the function that documents what the function does. The docstring is a triple quoted (multi-line) string.  We highly recommend you to document the functions you define as good python coding practice.</p>
<h4 id="Lambda-functions">Lambda functions<a class="anchor-link" href="#Lambda-functions">&#182;</a></h4><p>Lambda functions are one-line functions. To define this function using the <code>lambda</code> keyword, you do not need to include the <code>return</code> argument.  For example, we can re-write the <code>squared()</code> function above using the following syntax:</p>

</div>
</div>
</div>
<div class="cell border-box-sizing code_cell rendered">
<div class="input">
<div class="prompt input_prompt">In&nbsp;[18]:</div>
<div class="inner_cell">
    <div class="input_area">
<div class=" highlight hl-ipython3"><pre><span></span><span class="n">f</span> <span class="o">=</span> <span class="k">lambda</span> <span class="n">x</span><span class="p">:</span> <span class="n">x</span><span class="o">**</span><span class="mi">2</span>
<span class="n">f</span><span class="p">(</span><span class="mi">4</span><span class="p">)</span>
</pre></div>

    </div>
</div>
</div>

<div class="output_wrapper">
<div class="output">


<div class="output_area">

    <div class="prompt output_prompt">Out[18]:</div>




<div class="output_text output_subarea output_execute_result">
<pre>16</pre>
</div>

</div>

</div>
</div>

</div>
<div class="cell border-box-sizing text_cell rendered"><div class="prompt input_prompt">
</div><div class="inner_cell">
<div class="text_cell_render border-box-sizing rendered_html">
<h2 id="For-loops-and-while-loops">For loops and while loops<a class="anchor-link" href="#For-loops-and-while-loops">&#182;</a></h2><h4 id="For-loops">For loops<a class="anchor-link" href="#For-loops">&#182;</a></h4><p>Defining a <code>for</code> loop is similar to defining a new function. The header ends with a colon and the body is indented with four spaces. The function <code>range(n)</code> takes in an integer n and creates a set of values from 0 to n - 1.  <code>for</code> loops are not just for counters, but they can iterate through many types of objects such as strings, lists and dictionaries.</p>

</div>
</div>
</div>
<div class="cell border-box-sizing code_cell rendered">
<div class="input">
<div class="prompt input_prompt">In&nbsp;[19]:</div>
<div class="inner_cell">
    <div class="input_area">
<div class=" highlight hl-ipython3"><pre><span></span><span class="k">for</span> <span class="n">i</span> <span class="ow">in</span> <span class="nb">range</span><span class="p">(</span><span class="mi">4</span><span class="p">):</span>
    <span class="nb">print</span> <span class="s1">&#39;Hello world!&#39;</span>
</pre></div>

    </div>
</div>
</div>

<div class="output_wrapper">
<div class="output">


<div class="output_area">

    <div class="prompt"></div>


<div class="output_subarea output_stream output_stdout output_text">
<pre>Hello world!
Hello world!
Hello world!
Hello world!
</pre>
</div>
</div>

</div>
</div>

</div>
<div class="cell border-box-sizing text_cell rendered"><div class="prompt input_prompt">
</div><div class="inner_cell">
<div class="text_cell_render border-box-sizing rendered_html">
<p>To traverse through all characters in a given string, you can use <code>for</code> or <code>while</code> loops. Here we create the names of the duck statues in the Public Gardens in downtown Boston: Jack, Kack, Lack, Mack, Nack, Oack, Pack, Qack.</p>

</div>
</div>
</div>
<div class="cell border-box-sizing code_cell rendered">
<div class="input">
<div class="prompt input_prompt">In&nbsp;[20]:</div>
<div class="inner_cell">
    <div class="input_area">
<div class=" highlight hl-ipython3"><pre><span></span><span class="n">prefixes</span> <span class="o">=</span> <span class="s1">&#39;JKLMNOPQ&#39;</span>
<span class="n">suffix</span> <span class="o">=</span> <span class="s1">&#39;ack&#39;</span>
<span class="k">for</span> <span class="n">letter</span> <span class="ow">in</span> <span class="n">prefixes</span><span class="p">:</span>
    <span class="nb">print</span> <span class="n">letter</span> <span class="o">+</span> <span class="n">suffix</span>
</pre></div>

    </div>
</div>
</div>

<div class="output_wrapper">
<div class="output">


<div class="output_area">

    <div class="prompt"></div>


<div class="output_subarea output_stream output_stdout output_text">
<pre>Jack
Kack
Lack
Mack
Nack
Oack
Pack
Qack
</pre>
</div>
</div>

</div>
</div>

</div>
<div class="cell border-box-sizing text_cell rendered"><div class="prompt input_prompt">
</div><div class="inner_cell">
<div class="text_cell_render border-box-sizing rendered_html">
<h4 id="while-loops">while loops<a class="anchor-link" href="#while-loops">&#182;</a></h4><p>Defining a <code>while</code> loop is again similar to defining a <code>for</code> loop or new function. The header ends with a colon and the body is indented with four spaces.</p>

</div>
</div>
</div>
<div class="cell border-box-sizing code_cell rendered">
<div class="input">
<div class="prompt input_prompt">In&nbsp;[21]:</div>
<div class="inner_cell">
    <div class="input_area">
<div class=" highlight hl-ipython3"><pre><span></span><span class="k">def</span> <span class="nf">countdown</span><span class="p">(</span><span class="n">n</span><span class="p">):</span>
    <span class="k">while</span> <span class="n">n</span> <span class="o">&gt;</span> <span class="mi">0</span><span class="p">:</span>
        <span class="nb">print</span> <span class="n">n</span>
        <span class="n">n</span> <span class="o">=</span> <span class="n">n</span><span class="o">-</span><span class="mi">1</span>
    <span class="nb">print</span> <span class="s1">&#39;Blastoff!&#39;</span>

<span class="n">countdown</span><span class="p">(</span><span class="mi">3</span><span class="p">)</span>
</pre></div>

    </div>
</div>
</div>

<div class="output_wrapper">
<div class="output">


<div class="output_area">

    <div class="prompt"></div>


<div class="output_subarea output_stream output_stdout output_text">
<pre>3
2
1
Blastoff!
</pre>
</div>
</div>

</div>
</div>

</div>
<div class="cell border-box-sizing text_cell rendered"><div class="prompt input_prompt">
</div><div class="inner_cell">
<div class="text_cell_render border-box-sizing rendered_html">
<h4 id="List-comprehensions">List comprehensions<a class="anchor-link" href="#List-comprehensions">&#182;</a></h4><p>Another powerful feature of Python is <strong>list comprehension</strong> which maps one list onto another list and applying a function to each element.  Here, we take each element in the list <code>a</code> (temporarily assigning it the value i) and square each element in the list. This creates a new list and does not modify <code>a</code>.  In the second line, we can add a conditional statements of only squaring the elements if the element is not equal to 10.</p>

</div>
</div>
</div>
<div class="cell border-box-sizing code_cell rendered">
<div class="input">
<div class="prompt input_prompt">In&nbsp;[22]:</div>
<div class="inner_cell">
    <div class="input_area">
<div class=" highlight hl-ipython3"><pre><span></span><span class="n">a</span> <span class="o">=</span> <span class="p">[</span><span class="mi">5</span><span class="p">,</span> <span class="mi">10</span><span class="p">,</span> <span class="mi">15</span><span class="p">,</span> <span class="mi">20</span><span class="p">]</span>
<span class="n">b</span> <span class="o">=</span> <span class="p">[</span><span class="n">i</span><span class="o">**</span><span class="mi">2</span> <span class="k">for</span> <span class="n">i</span> <span class="ow">in</span> <span class="n">a</span><span class="p">]</span>
<span class="n">c</span> <span class="o">=</span> <span class="p">[</span><span class="n">i</span><span class="o">**</span><span class="mi">2</span> <span class="k">for</span> <span class="n">i</span> <span class="ow">in</span> <span class="n">a</span> <span class="k">if</span> <span class="n">i</span> <span class="o">!=</span> <span class="mi">10</span><span class="p">]</span>

<span class="nb">print</span> <span class="s2">&quot;a: &quot;</span><span class="p">,</span> <span class="n">a</span>
<span class="nb">print</span> <span class="s2">&quot;b: &quot;</span><span class="p">,</span> <span class="n">b</span>
<span class="nb">print</span> <span class="s2">&quot;c: &quot;</span><span class="p">,</span> <span class="n">c</span>
</pre></div>

    </div>
</div>
</div>

<div class="output_wrapper">
<div class="output">


<div class="output_area">

    <div class="prompt"></div>


<div class="output_subarea output_stream output_stdout output_text">
<pre>a:  [5, 10, 15, 20]
b:  [25, 100, 225, 400]
c:  [25, 225, 400]
</pre>
</div>
</div>

</div>
</div>

</div>
<div class="cell border-box-sizing code_cell rendered">
<div class="input">
<div class="prompt input_prompt">In&nbsp;[22]:</div>
<div class="inner_cell">
    <div class="input_area">
<div class=" highlight hl-ipython3"><pre><span></span> 
</pre></div>

    </div>
</div>
</div>

</div>
 


    </div>
  </div>

  </div>


  
    <footer class="footer hidden-print">
      <div class="container">
        <div class="col-md-4">
          <p>
            This website does not host notebooks, it only renders notebooks
            available on other websites.
          </p>
        </div>

        <div class="col-md-4">
          <p>
            Delivered by <a href="http://www.fastly.com/">Fastly</a>,
            Rendered by <a href="https://developer.rackspace.com/?nbviewer=awesome">Rackspace</a>
          </p>
          <p>
            nbviewer GitHub <a href="https://github.com/jupyter/nbviewer">repository</a>.
          </p>
        </div>

        <div class="col-md-4">
          
  
            
              <p>
                nbviewer version:
                <a href="https://github.com/jupyter/nbviewer/commit/f69705373d1402afd924a77712e7c63659e2b57f">
                  f697053
                </a>
              </p>
            
          
  
  <p>
    nbconvert version: <a href="https://github.com/jupyter/nbconvert/releases/tag/5.4.1">
      5.4.1
    </a>
  </p>
  

          
  
  
  <p>
    Rendered
    <span class='date' data-date='Sat, 25 May 2019 18:53:51 UTC' title='Sat, 25 May 2019 18:53:51 UTC'>(Sat, 25 May 2019 18:53:51 UTC)</span>
  </p>
  

        </div>
      </div>
    </footer>
  

  <script src="/static/components/bootstrap/js/bootstrap.min.js?v=5869c96cc8f19086aee625d670d741f9"></script>
  <script src="/static/components/headroom.js/dist/headroom.min.js?v=b0a311ea668f8e768ea375f4a7abb81c"></script>
  <script src="/static/components/headroom.js/dist/jQuery.headroom.min.js?v=f3a1bae118315d0c234afc74dc6aab71"></script>

  
  
  <script>
    $(function(){ $("#menubar").headroom({
      tolerance: 5,
      offset: 205,
      classes: {
        initial: "animated",
        pinned: "slideInDown",
        unpinned: "slideOutUp"
      }
    })});
  </script>


  
  <script>
    (function(i,s,o,g,r,a,m){i['GoogleAnalyticsObject']=r;i[r]=i[r]||function(){
      (i[r].q=i[r].q||[]).push(arguments)},i[r].l=1*new Date();a=s.createElement(o),
      m=s.getElementsByTagName(o)[0];a.async=1;a.src=g;m.parentNode.insertBefore(a,m)
    })(window,document,'script','https://www.google-analytics.com/analytics.js','ga');
    ga('create', 'UA-52617120-5', 'auto',
       {'storage': 'none'});
    ga('set', 'anonymizeIp', true);
    ga('send', 'pageview');
  </script>
  
  <script>
    require({
        paths: {
          moment: "/static/components/moment/min/moment.min.js?v=89f87298ad94aa1e6b92f42eb66da043"
        }
      }, ["moment"], function(moment){
      var date = $("footer .date"),
        m = moment(new Date(date.data('date'))),
        update = function(){ date.text(m.fromNow()); };
      setInterval(update, 61*1000);
      update();
      var w = $(window).scroll(function(event){
        $("body").toggleClass("scrolled", w.scrollTop() > 0);
      });
    });
  </script>

  <!--NEW RELIC Stop Perf Measurement-->
  
  <!--NEW RELIC End-->
</body>
</html>